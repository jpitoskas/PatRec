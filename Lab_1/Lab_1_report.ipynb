{
 "cells": [
  {
   "cell_type": "markdown",
   "metadata": {},
   "source": [
    "<center> <h1>Αναγνώριση Προτύπων - 1η Εργαστηριακή Άσκηση</h1> </center>\n",
    "\n",
    "---\n",
    "\n",
    "<center> <h2>Θέμα: Οπτική Αναγνώριση Ψηφίων</h2> </center>\n",
    "<center> <h2>ΣΧΟΛΗ: ΣΗΜΜΥ</h2> </center>\n",
    "<img src=\"pyrforos-digamma.png\" width=\"100\">\n",
    "\n",
    "Ονοματεπώνυμο | Αριθμός Μητρώου\n",
    "------------ | -------------\n",
    "Γιάννης Πιτόσκας | 03115077\n",
    "Αντώνης Παπαοικονόμου | 03115140"
   ]
  },
  {
   "cell_type": "code",
   "execution_count": 4,
   "metadata": {},
   "outputs": [],
   "source": [
    "import sklearn\n",
    "from scipy.spatial import Voronoi, voronoi_plot_2d\n",
    "import random\n",
    "import numpy as np\n",
    "import matplotlib.pyplot as plt\n",
    "from collections import defaultdict\n",
    "from sklearn.model_selection import cross_val_score, learning_curve\n",
    "from sklearn.decomposition import PCA\n",
    "\n",
    "\n",
    "def readData(data_type):\n",
    "\n",
    "    dir = './pr_lab1_2016-17_data/' + data_type + '.txt'\n",
    "    with open(dir, 'r') as file:\n",
    "        lines = file.read().splitlines()\n",
    "        # random.shuffle(lines)\n",
    "\n",
    "    features, digits = [], []\n",
    "    for line in lines:\n",
    "        line = [float(i) for i in line.rstrip().split(\" \")]\n",
    "        features.append(line[1:])\n",
    "        digits.append(int(line[0]))\n",
    "\n",
    "    return np.asarray(features), np.asarray(digits)"
   ]
  },
  {
   "cell_type": "markdown",
   "metadata": {},
   "source": [
    "## Βήμα 1\n",
    "Μας δίνονται τα δεδομένα ήδη χωρισμένα σε Train και Τest και ακόμη μας δίνονται και τα αντίστοιχα labels μιας και έχουμε πρόβλημα supervised learning. Τα διαβάζουμε λοιπόν από τα δοθέντα αρχεία ως X_train, X_test και τα αντίστοιχα labels ως y_train, y_test."
   ]
  },
  {
   "cell_type": "code",
   "execution_count": 5,
   "metadata": {},
   "outputs": [],
   "source": [
    "# STEP 1\n",
    "X_train, y_train = readData('train')\n",
    "X_test, y_test = readData('test')\n",
    "\n",
    "n_samples, n_features = X_train.shape\n",
    "n_test_samples, _ = X_test.shape\n",
    "n_classes = 10"
   ]
  },
  {
   "cell_type": "markdown",
   "metadata": {},
   "source": [
    "## Βήμα 2"
   ]
  },
  {
   "cell_type": "code",
   "execution_count": 3,
   "metadata": {},
   "outputs": [
    {
     "data": {
      "image/png": "[encoded data removed]",
      "text/plain": [
       "<Figure size 432x288 with 1 Axes>"
      ]
     },
     "metadata": {
      "needs_background": "light"
     },
     "output_type": "display_data"
    }
   ],
   "source": [
    "# STEP 2 - plot 131st digit\n",
    "digit_131 = np.reshape(X_train[131],(16,16))\n",
    "plt.figure()\n",
    "plt.title(\"Digit number 131\")\n",
    "plt.axis(\"off\")\n",
    "plt.imshow(digit_131)\n",
    "plt.show()"
   ]
  },
  {
   "cell_type": "markdown",
   "metadata": {},
   "source": [
    "## Βήμα 3"
   ]
  },
  {
   "cell_type": "code",
   "execution_count": 4,
   "metadata": {},
   "outputs": [
    {
     "data": {
      "image/png": "[encoded data removed]",
      "text/plain": [
       "<Figure size 432x288 with 10 Axes>"
      ]
     },
     "metadata": {
      "needs_background": "light"
     },
     "output_type": "display_data"
    }
   ],
   "source": [
    "# STEP 3 - plot one sample for each digit 0-9\n",
    "fig, axs = plt.subplots(2, 5)\n",
    "fig.suptitle(\"Random Digits\")\n",
    "for digit in range(n_classes):\n",
    "    rand = random.randint(0, n_samples-1)\n",
    "    while (y_train[rand] != digit):\n",
    "        rand = random.randint(0, n_samples-1)\n",
    "    dig = np.reshape(X_train[rand],(16,16))\n",
    "    axs[digit // 5, digit % 5].imshow(dig)\n",
    "    axs[digit // 5, digit % 5].axis(\"off\")\n",
    "    axs[digit // 5, digit % 5].set_title(str(digit))"
   ]
  },
  {
   "cell_type": "markdown",
   "metadata": {},
   "source": [
    "## Βήμα 4\n",
    "Ομαδοποιώντας τα δεδομένα που έχουμε στο train set με βάση το label τους σε ένα dictionary της python και με τον τύπο της μέσης τιμής $E[X_{0 (10,10)}] = \\frac{1}{N}\\sum_{i=1}^{N} X_{0 (10,10)}[i]$ έχουμε:"
   ]
  },
  {
   "cell_type": "code",
   "execution_count": 5,
   "metadata": {
    "scrolled": true
   },
   "outputs": [
    {
     "name": "stdout",
     "output_type": "stream",
     "text": [
      "The mean value of pixel (10,10) of 0 is: -0.5041884422110553\n"
     ]
    }
   ],
   "source": [
    "digit_count = np.zeros(n_classes)\n",
    "digit_mean = np.zeros((n_classes, n_features))\n",
    "digit_var = np.zeros((n_classes, n_features))\n",
    "\n",
    "for i in range(n_samples):\n",
    "    digit = y_train[i]\n",
    "    digit_count[digit] = digit_count[digit] + 1\n",
    "    digit_mean[digit] = digit_mean[digit] + X_train[i]\n",
    "\n",
    "for digit in range(n_classes):\n",
    "    digit_mean[digit] = digit_mean[digit] / digit_count[digit]\n",
    "\n",
    "digit_mean_zero = np.reshape(digit_mean[0],(16,16))\n",
    "print(\"The mean value of pixel (10,10) of 0 is:\", digit_mean_zero[10][10])"
   ]
  },
  {
   "cell_type": "markdown",
   "metadata": {},
   "source": [
    "## Βήμα 5\n",
    "Με την παραπάνω ομαδοποίηση και σύμφωνα με τον τύπο $Var(X_{0 (10,10)}) = E[X_{0 (10,10)} - \\mu_{0 (10,10)}^2] = \\frac{1}{N}\\sum_{i=1}^{N} (X_{0 (10,10)}[i] - E[X_0])^2$ έχουμε:"
   ]
  },
  {
   "cell_type": "code",
   "execution_count": 6,
   "metadata": {},
   "outputs": [
    {
     "name": "stdout",
     "output_type": "stream",
     "text": [
      "The variance value of pixel (10,10) of 0 is: 0.5249618093885225\n"
     ]
    }
   ],
   "source": [
    "# STEP 5\n",
    "for i in range(n_samples):\n",
    "    digit = y_train[i]\n",
    "    digit_var[digit] = digit_var[digit] + (X_train[i] - digit_mean[digit])**2\n",
    "\n",
    "# Digit based on Variance\n",
    "for digit in range(n_classes):\n",
    "    digit_var[digit] = digit_var[digit] / (digit_count[digit] - 1)\n",
    "digit_var_zero = np.reshape(digit_var[0],(16,16))\n",
    "print(\"The variance value of pixel (10,10) of 0 is:\", digit_var_zero[10][10])"
   ]
  },
  {
   "cell_type": "markdown",
   "metadata": {},
   "source": [
    "## Βήμα 6\n",
    "\n",
    "Τυπώνοντας τις τιμές για τα πρώτα 4 features έχουμε:"
   ]
  },
  {
   "cell_type": "code",
   "execution_count": 7,
   "metadata": {},
   "outputs": [
    {
     "name": "stdout",
     "output_type": "stream",
     "text": [
      "The mean value of 0 is: (first 4 numbers) [-0.99862814 -0.99539782 -0.98492295 -0.94125126]\n",
      "The variance value of 0 is: (first 4 numbers) [0.00224711 0.00661218 0.01960704 0.06295393]\n"
     ]
    }
   ],
   "source": [
    "# STEP 6\n",
    "\n",
    "print(\"The mean value of 0 is: (first 4 numbers)\", digit_mean[0][0:4])\n",
    "print(\"The variance value of 0 is: (first 4 numbers)\", digit_var[0][0:4])"
   ]
  },
  {
   "cell_type": "markdown",
   "metadata": {},
   "source": [
    "## Βήμα 7"
   ]
  },
  {
   "cell_type": "code",
   "execution_count": 8,
   "metadata": {},
   "outputs": [
    {
     "data": {
      "image/png": "[encoded data removed]",
      "text/plain": [
       "<Figure size 432x288 with 1 Axes>"
      ]
     },
     "metadata": {
      "needs_background": "light"
     },
     "output_type": "display_data"
    }
   ],
   "source": [
    "# STEP 7\n",
    "plt.figure()\n",
    "plt.title(\"Zero Mean Value\")\n",
    "plt.axis(\"off\")\n",
    "plt.imshow(digit_mean_zero)\n",
    "plt.show()"
   ]
  },
  {
   "cell_type": "markdown",
   "metadata": {},
   "source": [
    "## Βήμα 8"
   ]
  },
  {
   "cell_type": "code",
   "execution_count": 9,
   "metadata": {},
   "outputs": [
    {
     "data": {
      "image/png": "[encoded data removed]",
      "text/plain": [
       "<Figure size 432x288 with 1 Axes>"
      ]
     },
     "metadata": {
      "needs_background": "light"
     },
     "output_type": "display_data"
    }
   ],
   "source": [
    "# STEP 8\n",
    "plt.figure()\n",
    "plt.title(\"Zero Variance Value\")\n",
    "plt.imshow(digit_var_zero)\n",
    "plt.show()"
   ]
  },
  {
   "cell_type": "markdown",
   "metadata": {},
   "source": [
    "> Παρατηρούμε ότι η διασπορά μας δίνει πληροφορία για το σε ποια σημεία γίνεται συνήθως όμοια ο σχεδιασμός του ψηφίου (πχ πάνω και κάτω), ενώ φαίνεται ότι δεξιά και αριστερά η διασπορά έχει μεγάλη τιμή που υποδεικνύει ότι ο σχεδιασμός του μηδενός ως προς το πόσο «πλατύ» είναι ποικίλει."
   ]
  },
  {
   "cell_type": "markdown",
   "metadata": {},
   "source": [
    "## Βήμα 9\n",
    "Τυπώνοντας μόνο το την τιμή για το πρώτο feature έχουμε:"
   ]
  },
  {
   "cell_type": "code",
   "execution_count": 10,
   "metadata": {},
   "outputs": [
    {
     "name": "stdout",
     "output_type": "stream",
     "text": [
      "The mean value of 0 is: (first number only) -0.9986281407035177\n",
      "The variance value of 0 is: (first number only) 0.002247105527638201\n",
      "The mean value of 1 is: (first number only) -1.0\n",
      "The variance value of 1 is: (first number only) 0.0\n",
      "The mean value of 2 is: (first number only) -0.9924883720930233\n",
      "The variance value of 2 is: (first number only) 0.005090387193373648\n",
      "The mean value of 3 is: (first number only) -0.9975151975683889\n",
      "The variance value of 3 is: (first number only) 0.0012149350807067123\n",
      "The mean value of 4 is: (first number only) -1.0\n",
      "The variance value of 4 is: (first number only) 0.0\n",
      "The mean value of 5 is: (first number only) -0.9994586330935253\n",
      "The variance value of 5 is: (first number only) 0.0001629514388489166\n",
      "The mean value of 6 is: (first number only) -1.0\n",
      "The variance value of 6 is: (first number only) 0.0\n",
      "The mean value of 7 is: (first number only) -0.9749162790697675\n",
      "The variance value of 7 is: (first number only) 0.017963918445760705\n",
      "The mean value of 8 is: (first number only) -0.9985018450184502\n",
      "The variance value of 8 is: (first number only) 0.0005089713459426635\n",
      "The mean value of 9 is: (first number only) -0.9998990683229813\n",
      "The variance value of 9 is: (first number only) 6.560559006210882e-06\n"
     ]
    },
    {
     "data": {
      "image/png": "[encoded data removed]",
      "text/plain": [
       "<Figure size 432x288 with 10 Axes>"
      ]
     },
     "metadata": {
      "needs_background": "light"
     },
     "output_type": "display_data"
    }
   ],
   "source": [
    "# STEP 9(a)\n",
    "for digit in range(n_classes):\n",
    "    print(\"The mean value of\", digit, \"is: (first number only)\", digit_mean[digit][0])\n",
    "    print(\"The variance value of\", digit, \"is: (first number only)\", digit_var[digit][0])\n",
    "\n",
    "# STEP 9(b)\n",
    "\n",
    "# Digit based on Mean\n",
    "fig, axs = plt.subplots(2, 5)\n",
    "fig.suptitle(\"Mean Value Digits\")\n",
    "for digit in range(n_classes):\n",
    "    axs[digit // 5, digit % 5].imshow(np.reshape(digit_mean[digit],(16,16)))\n",
    "    axs[digit // 5, digit % 5].axis(\"off\")\n",
    "    axs[digit // 5, digit % 5].set_title(str(digit))"
   ]
  },
  {
   "cell_type": "markdown",
   "metadata": {},
   "source": [
    "## Βήμα 10\n",
    "Σύμφωνα με τον τύπο $pred(X) = \\arg\\min_{0 \\leq i \\leq 9} \\| \\mu - X \\|_2$ έχουμε:"
   ]
  },
  {
   "cell_type": "code",
   "execution_count": 11,
   "metadata": {},
   "outputs": [
    {
     "name": "stdout",
     "output_type": "stream",
     "text": [
      "Actual value of digit 101: 6\n",
      "The result of the Euclidean Classifier on digit 101 is: 0\n"
     ]
    }
   ],
   "source": [
    "# STEP 10\n",
    "\n",
    "digit_101_pred = np.argmin(np.linalg.norm(digit_mean - X_test[101], axis = 1))\n",
    "print(\"Actual value of digit 101:\", y_test[101])\n",
    "print(\"The result of the Euclidean Classifier on digit 101 is:\", digit_101_pred)"
   ]
  },
  {
   "cell_type": "markdown",
   "metadata": {},
   "source": [
    "> Παρατηρούμε πως η πρόβλεψη του ταξινομητή μας είναι λανθασμένη."
   ]
  },
  {
   "cell_type": "markdown",
   "metadata": {},
   "source": [
    "## Βήμα 11\n",
    "Βρίσκοντας την ελάχιστη Ευκλείδεια απόσταση και συγκρίνοντας την με τo label y για κάθε δείγμα στο test set μας έχουμε:"
   ]
  },
  {
   "cell_type": "code",
   "execution_count": 12,
   "metadata": {},
   "outputs": [
    {
     "name": "stdout",
     "output_type": "stream",
     "text": [
      "The accuracy of the Euclidean Classifier on the test set is: 0.8141504733432985\n"
     ]
    }
   ],
   "source": [
    "# STEP 11\n",
    "\n",
    "# Minimum Euclidean Distance from Mean\n",
    "accuracy = 0.0\n",
    "for i in range(n_test_samples):\n",
    "    accuracy += np.argmin(np.linalg.norm(digit_mean - X_test[i], axis = 1)) == y_test[i]\n",
    "accuracy /= n_test_samples\n",
    "print(\"The accuracy of the Euclidean Classifier on the test set is:\", accuracy)"
   ]
  },
  {
   "cell_type": "markdown",
   "metadata": {},
   "source": [
    "## Βήμα 12\n",
    "Καλούμαστε να υλοποιήσουμε τον ταξινομητή ευκλείδιας απόστασης σαν ένα scikit-learn estimator. Δημιουργούμε την κλάση EuclideanClassifier και εν συνεχεία υλοποιούμε τις μεθόδους fit, predict και score ως εξής:\n",
    "\n",
    "- `fit()`: Υπολογίζει τα features για την κάθε κατηγορία βάσει του μέσου όρου των χαρακτηριστικών των δεδομένων εκπαίδευσης της εκάστοτε κατηγορίας\n",
    "- `predict()`: Δεδομένου ενός δείγματος κάνει μια πρόβλεψη βάσει της ελάχιστης από τις ευκλείδιες αποστάσεις από τα διανύσματα χαρακτηριστικών της κάθε κατηγορίας.\n",
    "- `score()`: Υπολογίζει το ποσοστό επιτυχίας του ταξινομητή πάνω σε κάποιο Test Set.\n"
   ]
  },
  {
   "cell_type": "code",
   "execution_count": 13,
   "metadata": {},
   "outputs": [],
   "source": [
    "# STEP 12\n",
    "\n",
    "from sklearn.base import BaseEstimator, ClassifierMixin\n",
    "from collections import defaultdict\n",
    "import numpy as np\n",
    "\n",
    "class EuclideanClassifier(BaseEstimator, ClassifierMixin):\n",
    "    \"\"\"Classify samples based on the distance from the mean feature value\"\"\"\n",
    "\n",
    "    def __init__(self):\n",
    "        self.X_mean_ = None\n",
    "        self.n_samples = None\n",
    "        self.n_features = None\n",
    "        self.n_classes = None\n",
    "        self.idx2class = None\n",
    "        self.class2idx = None\n",
    "\n",
    "\n",
    "    def fit(self, X, y):\n",
    "\n",
    "        \"\"\"\n",
    "        This should fit classifier. All the \"work\" should be done here.\n",
    "\n",
    "        Calculates self.X_mean_ based on the mean\n",
    "        feature values in X for each class.\n",
    "\n",
    "        self.X_mean_ becomes a numpy.ndarray of shape\n",
    "        (n_classes, n_features)\n",
    "\n",
    "        fit always returns self.\n",
    "        \"\"\"\n",
    "\n",
    "        n_samples, n_features = X.shape\n",
    "        n_classes = len(set(y))\n",
    "        idx2class = sorted(list(set(y)))\n",
    "\n",
    "        self.class2idx = defaultdict(lambda: None, {})\n",
    "\n",
    "        for cl in idx2class:\n",
    "            self.class2idx[cl] = idx2class.index(cl)\n",
    "\n",
    "        self.n_samples = n_samples\n",
    "        self.n_features = n_features\n",
    "        self.n_classes = n_classes\n",
    "\n",
    "        cnt = np.zeros(n_classes)\n",
    "        mean_val = np.zeros((n_classes, n_features))\n",
    "\n",
    "        for i in range(n_samples):\n",
    "            idx = self.class2idx[y[i]]\n",
    "            cnt[idx] = cnt[idx] + 1\n",
    "            mean_val[idx] = mean_val[idx] + X[i]\n",
    "\n",
    "        # Digit based on Mean\n",
    "        for i in range(n_classes):\n",
    "            mean_val[i] = mean_val[i] / cnt[i]\n",
    "\n",
    "        self.X_mean_ = mean_val\n",
    "\n",
    "        return self\n",
    "\n",
    "\n",
    "    def predict(self, X):\n",
    "        \"\"\"\n",
    "        Make predictions for X based on the\n",
    "        euclidean distance from self.X_mean_\n",
    "        \"\"\"\n",
    "        n_test_samples, _ = X.shape\n",
    "        C = np.array([np.argmin(np.linalg.norm(self.X_mean_ - X[i], axis = 1)) for i in range(n_test_samples)])\n",
    "        \n",
    "        return C\n",
    "\n",
    "\n",
    "    def score(self, X, y):\n",
    "        \"\"\"\n",
    "        Return accuracy score on the predictions\n",
    "        for X based on ground truth y\n",
    "        \"\"\"\n",
    "        n_test_samples, _ = X.shape\n",
    "        y2idx = [self.class2idx[cl] for cl in y]\n",
    "        accuracy = sum(np.equal(self.predict(X), y2idx)) / n_test_samples\n",
    "\n",
    "        return accuracy"
   ]
  },
  {
   "cell_type": "markdown",
   "metadata": {},
   "source": [
    "\n",
    "## Βήμα 13\n",
    "**(α)**"
   ]
  },
  {
   "cell_type": "code",
   "execution_count": 14,
   "metadata": {},
   "outputs": [
    {
     "name": "stdout",
     "output_type": "stream",
     "text": [
      "The average score using 5-fold cross-validation is: 0.841773724173982\n"
     ]
    }
   ],
   "source": [
    "# STEP 13\n",
    "\n",
    "# Euclidean Classifier\n",
    "clf = EuclideanClassifier()\n",
    "clf.fit(X_train, y_train)\n",
    "\n",
    "# 5-Fold Cross-Validation\n",
    "X = np.concatenate((X_train, X_test), axis = 0)\n",
    "y = np.concatenate((y_train, y_test), axis = 0)\n",
    "average_score = np.mean(cross_val_score(EuclideanClassifier(), X, y, cv = 5))\n",
    "print(\"The average score using 5-fold cross-validation is:\", average_score)"
   ]
  },
  {
   "cell_type": "markdown",
   "metadata": {},
   "source": [
    "**(β)** Τα features που αντιπροσωπεύουν κάθε ψηφίο αποτελούν διανύσματα 256 διαστάσεων και καλούμαστε να βρούμε τις περιοχές απόφασης (decision boundaries). Ωστόσο, προκειμένου να μπορέσει να γίνει οπτικοποίηση των περιοχών απόφασης θα εφαρμόσουμε PCA ώστε να μειώσουμε τον αριθμό των διαστάσεων απο 256 σε 2. Οι περιοχές απόφασης που θα υπολογίσουμε για τις δύο διαστάσεις δεν μας δίνουν το ίδιο καλή πληροφορία με τις 256, αλλά μπορούμε να έχουμε μια κάποια εικόνα των περιοχών απόφασης του εκτιμητή μας. Παρακάτω παρατίθεται το διάγραμμα αυτών των περιοχών απόφασης σε δύο διαστάσεις με τα χρωματισμένα σημεία των περιοχών να αποτέλουν τα δισδιάστατα διανύσματα χαρακτηριστικών για το εκάστοτε ψηφίου:"
   ]
  },
  {
   "cell_type": "code",
   "execution_count": 15,
   "metadata": {},
   "outputs": [
    {
     "data": {
      "image/png": "[encoded data removed]",
      "text/plain": [
       "<Figure size 432x288 with 1 Axes>"
      ]
     },
     "metadata": {
      "needs_background": "light"
     },
     "output_type": "display_data"
    }
   ],
   "source": [
    "def plot_decision_boundaries(points):\n",
    "\n",
    "    vor = Voronoi(points)\n",
    "    voronoi_plot_2d(vor,show_points=False, show_vertices=False)\n",
    "    plt.scatter(points[:,0], points[:,1], c=range(10), s=30, edgecolor = 'k')\n",
    "    cdict = {0 : 'red', 1 : 'blue', 2 : 'gold', 3 : 'purple', 4 : 'darkgreen', 5 : 'orange', 6 : 'lime', 7 : 'cyan', 8 : 'magenta', 9 : 'dimgray'}\n",
    "\n",
    "    for point,label in zip(points,range(10)):\n",
    "        plt.scatter(point[0], point[1], c=cdict[label], label = label, s = 100)\n",
    "        label += 1\n",
    "    plt.legend(prop={'size':10})\n",
    "    plt.title('Decision Boundaries')\n",
    "    plt.show()\n",
    "\n",
    "    return\n",
    "\n",
    "# PCA 256 to 2 dims => for Decision Boundaries visualization\n",
    "X_train_reduced = PCA(n_components=2).fit_transform(X_train)\n",
    "X_test_reduced = PCA(n_components=2).fit_transform(X_test)\n",
    "\n",
    "clf2 = EuclideanClassifier()\n",
    "clf2.fit(X_train_reduced, y_train)\n",
    "\n",
    "# Plot Decision Boundaries for 2 dims\n",
    "plot_decision_boundaries(clf2.X_mean_)"
   ]
  },
  {
   "cell_type": "markdown",
   "metadata": {},
   "source": [
    "**(γ)** Για όλα μας τα δεδομένα (test και train μαζί) και χρησιμοποιώντας 5-fold cross-validation έχουμε τις παρακάτω καμπύλες εκμάθησης (learning curves):"
   ]
  },
  {
   "cell_type": "code",
   "execution_count": 16,
   "metadata": {},
   "outputs": [
    {
     "data": {
      "image/png": "[encoded data removed]",
      "text/plain": [
       "<Figure size 432x288 with 1 Axes>"
      ]
     },
     "metadata": {
      "needs_background": "light"
     },
     "output_type": "display_data"
    }
   ],
   "source": [
    "# 13.c\n",
    "# Plot Learning Curve\n",
    "\n",
    "def plot_learning_curve(estimator, title, X, y, ylim=None, cv=None, n_jobs=None, train_sizes=np.linspace(.1, 1.0, 5)):\n",
    "\n",
    "    plt.figure()\n",
    "    plt.title(title)\n",
    "    if ylim is not None:\n",
    "        plt.ylim(*ylim)\n",
    "    plt.xlabel(\"Training examples\")\n",
    "    plt.ylabel(\"Score\")\n",
    "    train_sizes, train_scores, test_scores = learning_curve(\n",
    "        estimator, X, y, cv=cv, n_jobs=n_jobs, train_sizes=train_sizes)\n",
    "    train_scores_mean = np.mean(train_scores, axis=1)\n",
    "    train_scores_std = np.std(train_scores, axis=1)\n",
    "    test_scores_mean = np.mean(test_scores, axis=1)\n",
    "    test_scores_std = np.std(test_scores, axis=1)\n",
    "    plt.grid()\n",
    "\n",
    "    plt.fill_between(train_sizes, train_scores_mean - train_scores_std,\n",
    "                     train_scores_mean + train_scores_std, alpha=0.1,\n",
    "                     color=\"r\")\n",
    "    plt.fill_between(train_sizes, test_scores_mean - test_scores_std,\n",
    "                     test_scores_mean + test_scores_std, alpha=0.1, color=\"g\")\n",
    "    plt.plot(train_sizes, train_scores_mean, 'o-', color=\"r\",\n",
    "             label=\"Training score\")\n",
    "    plt.plot(train_sizes, test_scores_mean, 'o-', color=\"g\",\n",
    "             label=\"Cross-validation score\")\n",
    "\n",
    "    plt.legend(loc=\"best\")\n",
    "    plt.show()\n",
    "    return\n",
    "\n",
    "plot_learning_curve(EuclideanClassifier(), \"Learning Curves\", X, y, cv = 5, n_jobs= 4)"
   ]
  },
  {
   "cell_type": "markdown",
   "metadata": {},
   "source": [
    "## Βήμα 14\n",
    "Για τις a-priori πιθανότητες έχουμε:"
   ]
  },
  {
   "cell_type": "code",
   "execution_count": 17,
   "metadata": {},
   "outputs": [
    {
     "name": "stdout",
     "output_type": "stream",
     "text": [
      "Class label: 0 with a-priori probability: 0.16376354409546015\n",
      "Class label: 1 with a-priori probability: 0.13784117405019888\n",
      "Class label: 2 with a-priori probability: 0.10026059525442327\n",
      "Class label: 3 with a-priori probability: 0.09024825126868742\n",
      "Class label: 4 with a-priori probability: 0.08942531888629818\n",
      "Class label: 5 with a-priori probability: 0.07625840076807022\n",
      "Class label: 6 with a-priori probability: 0.09107118365107666\n",
      "Class label: 7 with a-priori probability: 0.08846523110684405\n",
      "Class label: 8 with a-priori probability: 0.07433822520916199\n",
      "Class label: 9 with a-priori probability: 0.08832807570977919\n"
     ]
    }
   ],
   "source": [
    "# Step 14 - a priori probabilities\n",
    "\n",
    "labels, counts = np.unique(y_train, return_counts = True)\n",
    "a_priori = defaultdict(lambda : 0, {})\n",
    "for label, cnt in zip(labels, counts):\n",
    "    a_priori[label] = cnt / y_train.size\n",
    "    print(\"Class label:\", label, \"with a-priori probability:\", a_priori[label])"
   ]
  },
  {
   "cell_type": "markdown",
   "metadata": {},
   "source": [
    "## Βήμα 15"
   ]
  },
  {
   "cell_type": "markdown",
   "metadata": {},
   "source": [
    "**(α)** Σε αυτό το βήμα καλούμαστε να υλοποιήσουμε έναν Naive Bayesian Classifier κάνοντας χρήση των μέσων τιμών και διασπορών που έχουν υπολογιστεί παραπάνω για τα δεδομένα εκπαίδευσης. Παρακάτω φαίνεται η υλοποίηση της κλάσης NaiveBayesClassifier η οποία είναι συμβατή με το scikit-learn:"
   ]
  },
  {
   "cell_type": "code",
   "execution_count": 185,
   "metadata": {},
   "outputs": [],
   "source": [
    "from sklearn.base import BaseEstimator, ClassifierMixin\n",
    "from collections import defaultdict\n",
    "import numpy as np\n",
    "\n",
    "class NaiveBayesClassifier(BaseEstimator, ClassifierMixin):\n",
    "    \"\"\"Classify samples based on applying Bayes theorem with\n",
    "       strong (naïve) independence assumptions between the features\"\"\"\n",
    "\n",
    "    def __init__(self, unitVar = False):\n",
    "        self.X_mean_ = None\n",
    "        self.X_var_ = None\n",
    "        self.n_samples = None\n",
    "        self.n_features = None\n",
    "        self.n_classes = None\n",
    "        self.idx2class = None\n",
    "        self.class2idx = None\n",
    "        self.unitVar = unitVar\n",
    "\n",
    "\n",
    "    def fit(self, X, y):\n",
    "\n",
    "        \"\"\"\n",
    "        This should fit classifier. All the \"work\" should be done here.\n",
    "\n",
    "        Calculates self.X_mean_ self.X_mean_var and self.a_priori_ based on the mean and variance\n",
    "        feature values in X for each class, and on the prior probability feature values of each class.\n",
    "\n",
    "        self.X_mean_ becomes a numpy.ndarray of shape\n",
    "        (n_classes, n_features)\n",
    "\n",
    "        self.X_var_ becomes a numpy.ndarray of shape\n",
    "        (n_classes, n_features)\n",
    "\n",
    "        self.a_priori_ becomes a dictionary of shape\n",
    "        with n_classes number of keys\n",
    "\n",
    "        fit always returns self.\n",
    "        \"\"\"\n",
    "\n",
    "        n_samples, n_features = X.shape\n",
    "        n_classes = len(set(y))\n",
    "        self.idx2class = np.unique(y)\n",
    "\n",
    "        self.class2idx = defaultdict(lambda: None, {})\n",
    "\n",
    "        for idx in range(n_classes):\n",
    "            cl = self.idx2class[idx]\n",
    "            self.class2idx[cl] = idx\n",
    "\n",
    "        self.n_samples = n_samples\n",
    "        self.n_features = n_features\n",
    "        self.n_classes = n_classes\n",
    "\n",
    "        cnt = np.zeros(n_classes)\n",
    "        mean_val = np.zeros((n_classes, n_features))\n",
    "        var_val = np.zeros((n_classes, n_features))\n",
    "\n",
    "        for i in range(n_samples):\n",
    "            idx = self.class2idx[y[i]]\n",
    "            cnt[idx] = cnt[idx] + 1\n",
    "            mean_val[idx] = mean_val[idx] + X[i]\n",
    "\n",
    "        # Mean\n",
    "        for i in range(n_classes):\n",
    "            mean_val[i] = mean_val[i] / cnt[i]\n",
    "\n",
    "        # Variance\n",
    "        if (self.unitVar):\n",
    "            var_val = np.ones((n_classes, n_features))\n",
    "        else:\n",
    "            for idx in range(n_classes):\n",
    "                var_val[idx] = np.var(X[y == self.idx2class[idx]], axis = 0)\n",
    "            var_val += np.finfo(np.float32).eps\n",
    "            \n",
    "        # Step 14 - a priori probabilities\n",
    "        labels, counts = np.unique(y, return_counts = True)\n",
    "        a_priori = defaultdict(lambda : 0, {})\n",
    "        for label, cnt in zip(labels, counts):\n",
    "            a_priori[label] = cnt / y.size\n",
    "\n",
    "        self.X_mean_ = mean_val\n",
    "        self.X_var_ = var_val\n",
    "        self.a_priori_ = a_priori\n",
    "\n",
    "        return self\n",
    "\n",
    "\n",
    "    def predict(self, X):\n",
    "        \"\"\"\n",
    "        Make predictions for X based on\n",
    "        Bayes Theroem using Gaussian distributions\n",
    "        \"\"\"\n",
    "\n",
    "        def gaussian_logpdf_vector(xs, ms, vs):\n",
    "            gaussian_logpdf_1d = lambda x, m, v : -0.5*np.log(2*np.pi * v) - 0.5*(((x - m)**2 )/ v)\n",
    "            prob = 0\n",
    "            for x, m, v in zip(xs, ms, vs):\n",
    "                prob += gaussian_logpdf_1d(x, m, v)\n",
    "            return prob\n",
    "\n",
    "        n_test_samples, _ = X.shape\n",
    "        C = np.zeros(n_test_samples)\n",
    "        for i in range(n_test_samples):\n",
    "            maxi = float(\"-inf\")\n",
    "            prediction = 0\n",
    "            for idx in range(self.n_classes):\n",
    "                log_prob1 = gaussian_logpdf_vector(X[i], self.X_mean_[idx], self.X_var_[idx])\n",
    "                log_prob2 = np.log(self.a_priori_[self.idx2class[idx]])\n",
    "                log_prob = log_prob1 + log_prob2\n",
    "                if log_prob >= maxi:\n",
    "                    prediction = idx\n",
    "                    maxi = log_prob\n",
    "            C[i] = self.idx2class[prediction]\n",
    "\n",
    "        return C\n",
    "\n",
    "\n",
    "    def score(self, X, y):\n",
    "\n",
    "        \"\"\"\n",
    "        Return accuracy score on the predictions\n",
    "        for X based on ground truth y\n",
    "        \"\"\"\n",
    "\n",
    "        n_test_samples, _ = X.shape\n",
    "        accuracy = sum(np.equal(self.predict(X), y)) / n_test_samples\n",
    "\n",
    "        return accuracy\n"
   ]
  },
  {
   "cell_type": "markdown",
   "metadata": {},
   "source": [
    "Ύστερα, καλούμε τον `NaiveBayesClassifier()`, την μέθοδο `fit()` για την εκπαίδευση του στο Train Set και στη συνέχεια την `predict()` για την ταξινόμηση των δεδομένων του Test Set:"
   ]
  },
  {
   "cell_type": "code",
   "execution_count": 186,
   "metadata": {},
   "outputs": [],
   "source": [
    "myGNB = NaiveBayesClassifier().fit(X_train, y_train)\n",
    "myGNB_preds = myGNB.predict(X_test)"
   ]
  },
  {
   "cell_type": "markdown",
   "metadata": {},
   "source": [
    "**(β)** Η επίδοση του Naive Bayesian Classifier που υλοποιήσαμε φαίνεται παρακάτω:"
   ]
  },
  {
   "cell_type": "code",
   "execution_count": 187,
   "metadata": {
    "scrolled": true
   },
   "outputs": [
    {
     "name": "stdout",
     "output_type": "stream",
     "text": [
      "Naive Bayes Classifier (with our implementation) score is: 0.7309417040358744\n"
     ]
    }
   ],
   "source": [
    "print(\"Naive Bayes Classifier (with our implementation) score is:\", myGNB.score(X_test, y_test))"
   ]
  },
  {
   "cell_type": "markdown",
   "metadata": {},
   "source": [
    "**(γ)** Τώρα καλούμαστε να συγκρίνουμε την υλοποίηση μας του Naive Bayesian Classifier με αυτήν του sci-kit learn (GaussianNB):"
   ]
  },
  {
   "cell_type": "code",
   "execution_count": 182,
   "metadata": {},
   "outputs": [
    {
     "name": "stdout",
     "output_type": "stream",
     "text": [
      "The GaussianNB Classifier score is: 0.7194818136522172\n"
     ]
    }
   ],
   "source": [
    "gnb = GaussianNB().fit(X_train, y_train)\n",
    "print(\"The GaussianNB Classifier score is:\", gnb.score(X_test, y_test))"
   ]
  },
  {
   "cell_type": "markdown",
   "metadata": {},
   "source": [
    ">Παρατηρούμε οτι οι δύο υλοποιήσεις έχουν πολύ μικρή απόκλιση όσον αφορά την επίδοση τους. Η απόκλιση αυτή ασφαλώς και δεν είναι ανησυχητική, καθώς μπορεί να οφείλεται σε αυθαίρετους παράγοντες όπως η τιμή της μικρή ποσότητα που προσθέτουμε σε όλες τις τιμές του variance για να αποφευχθεί το division by zero που συμβαίνει σε πολλές περιπτώσεις λόγω μηδενικής διασποράς, η χρήση ή μη Bessel's correction στον υπολογισμό των διασπορών και άλλες τέτοιες μικρές λεπτομέρειες."
   ]
  },
  {
   "cell_type": "markdown",
   "metadata": {},
   "source": [
    "## Βήμα 16"
   ]
  },
  {
   "cell_type": "markdown",
   "metadata": {},
   "source": [
    "Σε αυτό το βήμα θα υποθέσουμε ότι έχουμε μοναδιαίο variance για όλα μας τα χαρακτηριστικά για κάθε κατηγορία. Το αποτέλεσμα αυτής της υπόθεσης φαίνεται παρακάτω:"
   ]
  },
  {
   "cell_type": "code",
   "execution_count": 189,
   "metadata": {},
   "outputs": [
    {
     "name": "stdout",
     "output_type": "stream",
     "text": [
      "The GaussianNB Classifier score is: 0.8126557050323866\n"
     ]
    }
   ],
   "source": [
    "gnb1 = NaiveBayesClassifier(unitVar=True).fit(X_train, y_train)\n",
    "print(\"The GaussianNB Classifier score is:\", gnb1.score(X_test, y_test))"
   ]
  },
  {
   "cell_type": "markdown",
   "metadata": {},
   "source": [
    ">Παρατηρούμε καλύτερη επίδοση όταν υποθέσουμε ότι έχουμε παντού μοναδιαίο variance το οποίο οφείλεται στο ότι οι πραγματικές διασπορές που υπολογίζουμε έχουν τιμές πολύ μικρές (κοντά στο 0) πράγμα που διαισθητικά σημαίνει ότι οι γκαουσιανές που αντιστοιχίζουμε σε κάθε pixel έχουν πάρα πολύ μικρό έυρος και έτσι τελικά έχουμε μια γκαουσιανή προσέγγιση της Dirac Delta function $\\delta(x-\\mu)=\\lim_{\\sigma\\to0} N(\\mu,\\sigma)$, και επίσης όσο πιο μικρή τιμή διασποράς έχω τόσο πιο υπερβολικά μεγάλες τιμές θα αποκτήσει το εκθετικό."
   ]
  },
  {
   "cell_type": "markdown",
   "metadata": {},
   "source": [
    "## Βήμα 17"
   ]
  },
  {
   "cell_type": "code",
   "execution_count": 233,
   "metadata": {
    "scrolled": true
   },
   "outputs": [
    {
     "name": "stdout",
     "output_type": "stream",
     "text": [
      "The GaussianNB Classifier score is: 0.7194818136522172\n",
      "The KNN Classifier with k = 1 score is: 0.9436970602889886\n",
      "The KNN Classifier with k = 2 score is: 0.9412057797708022\n",
      "The KNN Classifier with k = 3 score is: 0.9446935724962631\n",
      "The KNN Classifier with k = 4 score is: 0.9431988041853513\n",
      "The KNN Classifier with k = 5 score is: 0.9446935724962631\n",
      "The KNN Classifier with k = 6 score is: 0.9387144992526159\n",
      "The KNN Classifier with k = 7 score is: 0.9417040358744395\n",
      "The SVM Classifier score with rbf kernel and gamma='auto' is: 0.9422022919780767\n",
      "The SVM Classifier score with poly kernel and gamma='auto' is: 0.9466865969108121\n",
      "The SVM Classifier score with sigmoid kernel and gamma='auto' is: 0.9147982062780269\n",
      "The SVM Classifier score with linear kernel and gamma='auto' is: 0.9262580966616841\n",
      "The SVM Classifier score with rbf kernel and gamma='scale' is: 0.9471848530144494\n",
      "The SVM Classifier score with poly kernel and gamma='scale' is: 0.953662182361734\n",
      "The SVM Classifier score with sigmoid kernel and gamma='scale' is: 0.8505231689088192\n",
      "The SVM Classifier score with linear kernel and gamma='scale' is: 0.9262580966616841\n"
     ]
    }
   ],
   "source": [
    "from sklearn.naive_bayes import GaussianNB\n",
    "from sklearn.neighbors import KNeighborsClassifier\n",
    "from sklearn import svm\n",
    "import warnings\n",
    "\n",
    "names = []\n",
    "# Gaussian Naive Bayes\n",
    "gnb = GaussianNB()\n",
    "print(\"The GaussianNB Classifier score is:\", gnb.fit(X_train, y_train).score(X_test, y_test))\n",
    "names.append(gnb.__class__.__name__)\n",
    "\n",
    "# K Nearest Neighbors\n",
    "KNNs = {}\n",
    "for k in range(1, 8):\n",
    "    knn = KNeighborsClassifier(n_neighbors=k, algorithm='ball_tree')\n",
    "    print(\"The KNN Classifier with k =\", k, \"score is:\", knn.fit(X_train, y_train).score(X_test, y_test))\n",
    "    KNNs[k] = knn\n",
    "    names.append(knn.__class__.__name__ + ' k='+str(k))\n",
    "\n",
    "# Support Vector Machine (SVC) with different kernels and gamma='auto'\n",
    "SUPs = []\n",
    "for kernel in ['rbf', 'poly', 'sigmoid', 'linear']:\n",
    "    sup = svm.SVC(kernel=kernel, gamma='auto', probability=True)\n",
    "    print(\"The SVM Classifier score with \"+kernel+\" kernel and gamma='auto' is:\", sup.fit(X_train, y_train).score(X_test, y_test))\n",
    "    SUPs.append(sup)\n",
    "    names.append(sup.__class__.__name__+' kernel='+kernel+' gamma=auto')\n",
    "\n",
    "# Support Vector Machine (SVC) with different kernels and gamma='scale'\n",
    "SUPs_scale = []\n",
    "for kernel in ['rbf', 'poly', 'sigmoid', 'linear']:\n",
    "    sup = svm.SVC(kernel=kernel, gamma='scale', probability=True)\n",
    "    print(\"The SVM Classifier score with \"+kernel+\" kernel and gamma='scale' is:\", sup.fit(X_train, y_train).score(X_test, y_test))\n",
    "    SUPs.append(sup)\n",
    "    names.append(sup.__class__.__name__+' kernel='+kernel+' gamma=scale')\n",
    "    "
   ]
  },
  {
   "cell_type": "markdown",
   "metadata": {},
   "source": [
    "## Βήμα 18"
   ]
  },
  {
   "cell_type": "markdown",
   "metadata": {},
   "source": [
    "Σε αυτό το βήμα καλούμαστε να κάνουμε χρήση κάποιων ensembling τεχνικών.\n",
    "<br></br>\n",
    "<br>\n",
    "**(α)** Σε πρώτη φάση θα χρησιμοποιήσουμε τον Voting Classifier με τον οποίο θα συνδυάσουμε διαφορετικούς εκτιμητές προκειμένουμε να επιτύχουμε καλύτερη επίδοση. Μια καλή τακτική είναι να συνδυάσουμε μεταξύ τους ταξινομήτές οι οποίοι έχουν καλή επίδοση καθώς και την τάση να κάνουν λάθη σε διαφορετικά πράγματα. Επομένως, υπολογίζουμε πόσα λάθη κάνει ο κάθε ένας εκ των ταξινομήτων μας στο εκάστοτε ψηφίο και στη συνέχεια επιλέγουμε αυτούς των οποίων οι τύποι των λαθών διέφεραν περισσότερο.\n",
    "</br>"
   ]
  },
  {
   "cell_type": "code",
   "execution_count": 237,
   "metadata": {},
   "outputs": [],
   "source": [
    "def find_errors(predictions, y):\n",
    "    errors = y[predictions != y]\n",
    "    unique, counts = np.unique(errors, return_counts=True)\n",
    "    all_errors = dict(zip(unique, counts))\n",
    "    errors_ordered = [(k, all_errors[k]) for k in sorted(all_errors, key=all_errors.get, reverse=False)]\n",
    "    return errors_ordered\n",
    "\n",
    "clfs = [gnb] + list(KNNs.values()) + SUPs\n",
    "errors = [find_errors(clf.predict(X_test), y_test) for clf in clfs]"
   ]
  },
  {
   "cell_type": "markdown",
   "metadata": {},
   "source": [
    "Οι ταξινομητές που θα συνδυάσει ο Voting Classifier είναι:\n",
    "- 3NN\n",
    "- SVM (RFB kernel)\n",
    "- SVM (Polynomial kernel)\n",
    "- SVM (Sigmoid kernel)\n",
    "- SVM (Linear kernel)\n",
    "\n",
    "Παρακάτω βλέπουμε την επίδοση του Voting Classifier με χρήση των ταξινομητών που μόλις αναφέρθηκαν συνδυασμένους πρώτα σε hard και στη συνέχεια σε soft voting:"
   ]
  },
  {
   "cell_type": "code",
   "execution_count": 236,
   "metadata": {},
   "outputs": [
    {
     "data": {
      "image/png": "[encoded data removed]",
      "text/plain": [
       "<Figure size 1000x1000 with 16 Axes>"
      ]
     },
     "metadata": {},
     "output_type": "display_data"
    }
   ],
   "source": [
    "import matplotlib.pyplot as plt; plt.rcdefaults()\n",
    "\n",
    "fig, axs = plt.subplots(4,4,figsize=(10,10))\n",
    "fig.suptitle(\"Errors per Category for each Classifier\")\n",
    "xs = list(range(10))\n",
    "for i in range(len(errors)):\n",
    "    ys = [x[1] for x in sorted(errors[i],key = lambda x: x[0])]\n",
    "    y_pos = np.arange(len(xs))\n",
    "    axs[i // 4, i % 4].bar(y_pos, ys, align='center', alpha=0.5)\n",
    "    axs[i // 4, i % 4].tick_params(labelsize=8, length=0)\n",
    "#     axs[i // 4, i % 4].set_title('clf-'+str(i),fontsize=9)    \n",
    "    axs[i // 4, i % 4].set_title(names[i], fontsize=8) \n",
    "#     plt.ylabel('Usage')\n",
    "#     plt.title('Programming language usage')\n",
    "plt.setp(axs, xticks=xs, xticklabels=xs, yticks=np.arange(0,101,10))\n",
    "plt.show()\n"
   ]
  },
  {
   "cell_type": "code",
   "execution_count": 175,
   "metadata": {},
   "outputs": [
    {
     "name": "stdout",
     "output_type": "stream",
     "text": [
      "The Voting Classifier combining the following classifiers: 3NN, SVC-rbf, SVC-poly, SVC-sigmoid, SVC-linear \n",
      "\n",
      "0.9721254208520097\n",
      "0.9740603312263844\n"
     ]
    }
   ],
   "source": [
    "from sklearn.ensemble import VotingClassifier\n",
    "\n",
    "estimators = [('3NN', clfs[3]), ('SVC-rbf', clfs[12]),\n",
    "              ('SVC-poly', clfs[13]), ('SVC-sigmoid', clfs[11]),\n",
    "              ('SVC-linear', clfs[10])]\n",
    "\n",
    "print('The Voting Classifier combining the following classifiers:',', '.join([x for x,_ in estimators]), '\\n')\n",
    "# Hard Voting Classifier\n",
    "# hardVotingClf = VotingClassifier(estimators=estimators, voting='hard').fit(X_train, y_train)\n",
    "print(np.mean(cross_val_score(VotingClassifier(estimators=estimators, voting='hard'), X, y, cv = 5)))\n",
    "# print('- scores', hardVotingClf.score(X_test, y_test), 'using Hard Voting')\n",
    "\n",
    "# Soft Voting Classifier\n",
    "# softVotingClf = VotingClassifier(estimators=estimators, voting='soft').fit(X_train, y_train)\n",
    "print(np.mean(cross_val_score(VotingClassifier(estimators=estimators, voting='soft'), X, y, cv = 5)))\n",
    "# print('- scores', softVotingClf.score(X_test, y_test), 'using Soft Voting')"
   ]
  },
  {
   "cell_type": "markdown",
   "metadata": {},
   "source": [
    "Στην περίπτωση που πρόκειται για ταξινόμηση σε δύο κλάσεις (δηλαδή n_classes = 2) πρέπει να επιλέγεται περιττό πλήθος ταξινομητών που θα συνδυαστούν προκειμένου να αποφευχθούν οι περιπτώσεις ισοπαλιών (κυρίως για την περίπτωση του hard voting που η τελική ταξινόμηση γίνεται απο καθαρή πλειοψηφία και δεν σχετίζεται με την πιθανότητα της απόφασης του εκάστοτε ταξινομητή)."
   ]
  },
  {
   "cell_type": "markdown",
   "metadata": {},
   "source": [
    "**(β)** Τώρα θα χρησιμοποιήσουμε τον Bagging Classifier με τον οποίο θα χωρίσουμε το Train Set σε n_estimators το πλήθος τυχαία (πιθανώς επικαλυπτώμενα) υποσύνολα και θα εφαρμόσουμε έναν ταξινομήτη σε κάθε ένα από αυτά. Παρακάτω βλέπουμε την επίδοση του Bagging Classifier με χρήση SVM Classifier με Polynomial kernel για διάφορες τιμές της παραμέτρου n_estimators:"
   ]
  },
  {
   "cell_type": "code",
   "execution_count": 96,
   "metadata": {},
   "outputs": [
    {
     "name": "stdout",
     "output_type": "stream",
     "text": [
      "The Bagging Classifier using SVM with poly kernel and n_estimators = 1 scores: 0.9431988041853513\n",
      "The Bagging Classifier using SVM with poly kernel and n_estimators = 2 scores: 0.9461883408071748\n",
      "The Bagging Classifier using SVM with poly kernel and n_estimators = 3 scores: 0.9476831091180867\n",
      "The Bagging Classifier using SVM with poly kernel and n_estimators = 4 scores: 0.9451918285999004\n",
      "The Bagging Classifier using SVM with poly kernel and n_estimators = 5 scores: 0.9476831091180867\n",
      "The Bagging Classifier using SVM with poly kernel and n_estimators = 6 scores: 0.9486796213253612\n",
      "The Bagging Classifier using SVM with poly kernel and n_estimators = 7 scores: 0.9451918285999004\n",
      "The Bagging Classifier using SVM with poly kernel and n_estimators = 8 scores: 0.9496761335326358\n",
      "The Bagging Classifier using SVM with poly kernel and n_estimators = 9 scores: 0.9456900847035377\n",
      "The Bagging Classifier using SVM with poly kernel and n_estimators = 10 scores: 0.9461883408071748\n",
      "The Bagging Classifier using SVM with poly kernel and n_estimators = 11 scores: 0.9486796213253612\n",
      "The Bagging Classifier using SVM with poly kernel and n_estimators = 12 scores: 0.9461883408071748\n",
      "The Bagging Classifier using SVM with poly kernel and n_estimators = 13 scores: 0.9476831091180867\n",
      "The Bagging Classifier using SVM with poly kernel and n_estimators = 14 scores: 0.9466865969108121\n"
     ]
    }
   ],
   "source": [
    "from sklearn.ensemble import BaggingClassifier\n",
    "\n",
    "for n_estimators in range(1,15):\n",
    "    BaggingClf = BaggingClassifier(clfs[12], n_estimators=n_estimators).fit(X_train, y_train)\n",
    "    print('The Bagging Classifier using SVM with poly kernel and n_estimators =',\n",
    "                       n_estimators, 'scores:', BaggingClf.score(X_test, y_test))\n",
    "    "
   ]
  },
  {
   "cell_type": "markdown",
   "metadata": {},
   "source": [
    "Ο συνδυασμός του Bagging Classifier με τον Decision Tree Classifier ως Base estimator είναι ο Random Forest Classifier του οποίου η επίδοση για n_estimators = 100 φαίνεται παρακάτω:"
   ]
  },
  {
   "cell_type": "code",
   "execution_count": 101,
   "metadata": {
    "scrolled": true
   },
   "outputs": [
    {
     "name": "stdout",
     "output_type": "stream",
     "text": [
      "The Bagging Classifier using Decision Tree and n_estimators = 100 scores: 0.8958644743398106\n"
     ]
    }
   ],
   "source": [
    "from sklearn.tree import DecisionTreeClassifier\n",
    "\n",
    "RandomForestClf = BaggingClassifier(DecisionTreeClassifier(), n_estimators=100).fit(X_train, y_train)\n",
    "print('The Bagging Classifier using Decision Tree and n_estimators =',\n",
    "                 100, 'scores:', RandomForestClf.score(X_test, y_test))"
   ]
  },
  {
   "cell_type": "markdown",
   "metadata": {},
   "source": [
    "**(γ)** \n",
    "<p>Ο Voting Classifier με hard και soft voting παρατηρούμε ότι δίνουν παρόμοια ποσοστά επιτυχίας μεταξύ τους αλλά είναι σχεδόν ίδια και με τα ποσόστα επιτυχίας των επιλεγμένων προς συνδυασμό ταξινομητών. Ο λόγος που δεν παρατηρείται επίδοση υψηλότερη των επιμέρους επιδόσεων είναι το ότι οι ταξινομήτες, μεταξύ των οποίων κληθήκαμε να επιλέξουμε μερικούς, διαφέρουν αμελητέα ως προς τον αριθμό των λαθών που κάνουν στην ταξινόμηση του εκάστοτε ψηφίου. Επομένως, για κάνεναν εκ των ταξινομητών δε δίνεται η δυνατότητα διόρθωσης των λαθών που κάνει από τους υπόλοιπους.</p>\n",
    "<p>Ο Bagging Classifier παρατηρούμε επίσης ότι έχει πολύ καλή επίδοση η όποία αλλάζει αμελητέα σε σχέση με την αλλάγη της παραμέτρου n_estimators. Η επίδοση βέβαια πάλι είναι όμοια αυτής του ίδιου του ταξινομητή που χρησιμοποιείται ως Base Estimator.</p>"
   ]
  },
  {
   "cell_type": "markdown",
   "metadata": {},
   "source": [
    "## Βήμα 19 (Extra)\n",
    "**(α)** Παρακάτω χρησιμοποιώντας την κλάση `DigitDataset` (που κληρονομεί από την κλάση `Dataset` της `pytorch`) καθώς και την βοηθητική συνάρτηση `DigitDatasetLoader` παίρνουμε τα `Train`, `Validation` και `Test Set`"
   ]
  },
  {
   "cell_type": "code",
   "execution_count": 9,
   "metadata": {},
   "outputs": [],
   "source": [
    "import torch\n",
    "import numpy as np\n",
    "from torch.utils import data\n",
    "from torch.utils.data import Dataset, DataLoader\n",
    "\n",
    "class DigitDataset(Dataset):\n",
    "    \"\"\" Digits Dataset \"\"\"\n",
    "\n",
    "    def __init__(self, datatype, device):\n",
    "        assert datatype == 'train' or datatype == 'test'\n",
    "        self.datatype = datatype\n",
    "        xy = np.loadtxt('./pr_lab1_2016-17_data/' + datatype + '.txt')\n",
    "        self.len = xy.shape[0]\n",
    "        self.x_data = torch.from_numpy(xy[:, 1:]).to(device).float()\n",
    "        self.y_data = torch.from_numpy(xy[:, 0]).to(device).long()\n",
    "\n",
    "    def __getitem__(self, index):\n",
    "        return self.x_data[index], self.y_data[index]\n",
    "\n",
    "    def __len__(self):\n",
    "        return self.len\n",
    "\n",
    "def DigitDatasetLoader(N, frac, device):\n",
    "\n",
    "    train_val_set = DigitDataset('train', device)\n",
    "    n_train_val = len(train_val_set)\n",
    "    n_train = int(frac*n_train_val)\n",
    "    n_val = n_train_val - n_train\n",
    "    train_set, val_set = data.random_split(train_val_set, (n_train, n_val))\n",
    "    test_set = DigitDataset('test', device)\n",
    "    n_test = len(test_set)\n",
    "\n",
    "    train_loader = DataLoader(train_set, batch_size=N, shuffle=True)\n",
    "    val_loader = DataLoader(val_set, batch_size=N, shuffle=True)\n",
    "    test_loader = DataLoader(test_set, batch_size=N, shuffle=True)\n",
    "\n",
    "    return train_loader, n_train, val_loader, n_val, test_loader, n_test"
   ]
  },
  {
   "cell_type": "markdown",
   "metadata": {},
   "source": [
    "**(β)** Αφου πειραματιστήκαμε με διάφορες αρχιτεκτονικές (ως προς τα επίπεδα και το πλήθος των νευρώνων, καθώς και με διαφορετικές activation functions, στα πλαίσια του βήματος αυτού το δίκτυο μας αποτελείται από 2 γραμμικά Layers, με ένα Hidden Layer μεγέθους H features και ως συνάρτηση ενεργοποίησης έχουμε χρησιμοποιήσει την $ReLU(x) = \\max (0,x)$. Στο τελευταίο επίπεδο, για την κανονικοποίηση των τιμών που έχουν οι 10 τελικοί νευρώνες έχουμε χρησιμοποιήσει `softmax`."
   ]
  },
  {
   "cell_type": "code",
   "execution_count": 10,
   "metadata": {},
   "outputs": [],
   "source": [
    "class TwoLayerNet(torch.nn.Module):\n",
    "    def __init__(self, D_in, H, D_out):\n",
    "        \"\"\"\n",
    "        In the constructor we instantiate two nn.Linear modules and assign them as\n",
    "        member variables.\n",
    "        \"\"\"\n",
    "        super(TwoLayerNet, self).__init__()\n",
    "        self.linear1 = torch.nn.Linear(D_in, H)\n",
    "        self.linear2 = torch.nn.Linear(H, D_out)\n",
    "        self.softmax = torch.nn.Softmax(dim=1)\n",
    "\n",
    "    def forward(self, x):\n",
    "        \"\"\"\n",
    "        In the forward function we accept a Tensor of input data and we must return\n",
    "        a Tensor of output data. We can use Modules defined in the constructor as\n",
    "        well as arbitrary operators on Tensors.\n",
    "        \"\"\"\n",
    "        h_relu = self.linear1(x).clamp(min=0)\n",
    "        y_pred = self.linear2(h_relu)\n",
    "        return self.softmax(y_pred)"
   ]
  },
  {
   "cell_type": "markdown",
   "metadata": {},
   "source": [
    "**(γ)** Για `Batch size = 128`, `Hidden Layer size = 100`, `Loss function = Cross Entropy Loss`, `Optimizer = Stochastic Gradient Descent` με `learning rate = 0.01` και `momentum = 0.9` και ποσοστά `90%-10%` για το `Train` και το `Validation Set` αντίστοιχα έχουμε:"
   ]
  },
  {
   "cell_type": "code",
   "execution_count": 13,
   "metadata": {},
   "outputs": [],
   "source": [
    "import os\n",
    "import matplotlib.pyplot as plt\n",
    "from torch.utils import data\n",
    "from torch.autograd import Variable\n",
    "from torch.utils.data import DataLoader\n",
    "\n",
    "DEVICE = torch.device(\"cuda\" if torch.cuda.is_available() else \"cpu\")\n",
    "if torch.cuda.is_available():\n",
    "    print(  'DEVICE:', DEVICE,\n",
    "            '\\ncuda Version:', torch.version.cuda,\n",
    "            '\\nn_cuda =', torch.cuda.device_count(),\n",
    "            '\\nCuda Name(s):', torch.cuda.get_device_name(0)    )\n",
    "\n",
    "# N is batch size; D_in is input dimension;\n",
    "# H is hidden dimension; D_out is output dimension.\n",
    "N, D_in, H, D_out = 128, 256, 100, 10\n",
    "\n",
    "# 90% Train - 10 % Validation\n",
    "train_loader, n_train, val_loader, n_val, test_loader, n_test = DigitDatasetLoader(N, 0.9, DEVICE)\n",
    "\n",
    "# Construct our model by instantiating the class defined above\n",
    "model = TwoLayerNet(D_in, H, D_out).to(DEVICE)\n",
    "\n",
    "# Construct our loss function and an Optimizer. The call to model.parameters()\n",
    "# in the SGD constructor will contain the learnable parameters of the two\n",
    "# nn.Linear modules which are members of the model.\n",
    "criterion = torch.nn.CrossEntropyLoss()\n",
    "optimizer = torch.optim.SGD(model.parameters(), lr=1e-2, momentum=0.9)\n",
    "\n",
    "#function to calculate accuracy of model\n",
    "def accuracy(y_hat, y):\n",
    "     pred = torch.argmax(y_hat, dim=1)\n",
    "     return (pred == y).float().sum()\n",
    "\n",
    "def train_and_val_model(epochs, criterion, optimizer, model, train, validation, n_val):\n",
    "\n",
    "    # TRAINING\n",
    "\n",
    "    # if os.path.exists(\"./train.model\"):\n",
    "    #     model.load_state_dict(torch.load(\"./train.model\"))\n",
    "    #     # model.eval()\n",
    "    #     print(\"Loaded from pre-trained model\")\n",
    "    \n",
    "    print(\"TRAINING...\")\n",
    "\n",
    "    total_epochs = []\n",
    "    total_acc = []\n",
    "    total_loss = []\n",
    "    for epoch in range(epochs+1):\n",
    "        model.train()\n",
    "        for data in train:\n",
    "            # get the inputs\n",
    "            inputs, labels = data\n",
    "\n",
    "            inputs = inputs.to(DEVICE)\n",
    "            labels = labels.to(DEVICE)\n",
    "\n",
    "            # wrap them in Variable\n",
    "            inputs, labels = Variable(inputs), Variable(labels)\n",
    "\n",
    "            # Forward pass: Compute predicted y by passing x to the model\n",
    "            y_pred = model(inputs)\n",
    "\n",
    "            # Compute and print loss\n",
    "            loss = criterion(y_pred, labels)\n",
    "\n",
    "            # Zero gradients, perform a backward pass, and update the weights.\n",
    "            optimizer.zero_grad()\n",
    "            loss.backward()\n",
    "            optimizer.step()\n",
    "\n",
    "        # VALIDATING\n",
    "\n",
    "        model.eval()\n",
    "        acc = 0\n",
    "        with torch.no_grad():\n",
    "            for data in validation:\n",
    "                inputs, labels = data\n",
    "                y_pred = model(inputs)\n",
    "                acc += accuracy(y_pred, labels)\n",
    "        print(\"Epoch:\", epoch, \"with loss:\", loss.item(), \"and accuracy on validation:\", acc.item()/n_val)\n",
    "        total_epochs.append(epoch)\n",
    "        total_acc.append(acc.item()/n_val)\n",
    "        total_loss.append(loss.item())\n",
    "\n",
    "    # torch.save(model.state_dict(), \"./train.model\")\n",
    "\n",
    "    plt.figure()\n",
    "    plt.title(\"Train and Validation\")\n",
    "    plt.xlabel(\"Epochs\")\n",
    "    plt.plot(total_epochs, total_loss, 'o-', color=\"r\",\n",
    "             label=\"Training Loss\")\n",
    "    plt.plot(total_epochs, total_acc, 'o-', color=\"g\",\n",
    "             label=\"Validation Accuracy\")\n",
    "    plt.legend(loc=\"best\")\n",
    "    plt.grid()\n",
    "    plt.show()\n",
    "\n",
    "\n",
    "def test_model(model, test, n_test):\n",
    "\n",
    "    # TESTING\n",
    "\n",
    "    print(\"TESTING...\")\n",
    "\n",
    "    model.eval()\n",
    "    acc = 0\n",
    "    with torch.no_grad():\n",
    "        for data in test:\n",
    "            inputs, labels = data\n",
    "\n",
    "            inputs = inputs.to(DEVICE)\n",
    "            labels = labels.to(DEVICE)\n",
    "\n",
    "            y_pred = model(inputs)\n",
    "            acc += accuracy(y_pred, labels)\n",
    "    print(\"Test set accuracy:\", acc.item()/n_test)"
   ]
  },
  {
   "cell_type": "markdown",
   "metadata": {},
   "source": [
    "**(δ)**"
   ]
  },
  {
   "cell_type": "code",
   "execution_count": 14,
   "metadata": {},
   "outputs": [
    {
     "name": "stdout",
     "output_type": "stream",
     "text": [
      "TRAINING...\n",
      "Epoch: 0 with loss: 2.224674701690674 and accuracy on validation: 0.29315068493150687\n",
      "Epoch: 1 with loss: 2.1448729038238525 and accuracy on validation: 0.42876712328767125\n",
      "Epoch: 2 with loss: 1.935572862625122 and accuracy on validation: 0.6356164383561644\n",
      "Epoch: 3 with loss: 1.7541650533676147 and accuracy on validation: 0.7150684931506849\n",
      "Epoch: 4 with loss: 1.695031762123108 and accuracy on validation: 0.7657534246575343\n",
      "Epoch: 5 with loss: 1.7427741289138794 and accuracy on validation: 0.7849315068493151\n",
      "Epoch: 6 with loss: 1.7796483039855957 and accuracy on validation: 0.7931506849315069\n",
      "Epoch: 7 with loss: 1.6373786926269531 and accuracy on validation: 0.8054794520547945\n",
      "Epoch: 8 with loss: 1.637913465499878 and accuracy on validation: 0.8095890410958904\n",
      "Epoch: 9 with loss: 1.6842491626739502 and accuracy on validation: 0.815068493150685\n",
      "Epoch: 10 with loss: 1.8202062845230103 and accuracy on validation: 0.8383561643835616\n",
      "Epoch: 11 with loss: 1.642441987991333 and accuracy on validation: 0.915068493150685\n",
      "Epoch: 12 with loss: 1.5276156663894653 and accuracy on validation: 0.9219178082191781\n",
      "Epoch: 13 with loss: 1.5972042083740234 and accuracy on validation: 0.9301369863013699\n",
      "Epoch: 14 with loss: 1.5310050249099731 and accuracy on validation: 0.9383561643835616\n",
      "Epoch: 15 with loss: 1.5877327919006348 and accuracy on validation: 0.9383561643835616\n",
      "Epoch: 16 with loss: 1.502102255821228 and accuracy on validation: 0.9397260273972603\n",
      "Epoch: 17 with loss: 1.5115885734558105 and accuracy on validation: 0.9383561643835616\n",
      "Epoch: 18 with loss: 1.546790599822998 and accuracy on validation: 0.9410958904109589\n",
      "Epoch: 19 with loss: 1.5814108848571777 and accuracy on validation: 0.9424657534246575\n",
      "Epoch: 20 with loss: 1.56804358959198 and accuracy on validation: 0.9397260273972603\n"
     ]
    },
    {
     "data": {
      "image/png": "[encoded data removed]",
      "text/plain": [
       "<Figure size 432x288 with 1 Axes>"
      ]
     },
     "metadata": {
      "needs_background": "light"
     },
     "output_type": "display_data"
    },
    {
     "name": "stdout",
     "output_type": "stream",
     "text": [
      "TESTING...\n",
      "Test set accuracy: 0.909317389138017\n"
     ]
    }
   ],
   "source": [
    "# Train and Validate model\n",
    "train_and_val_model(20, criterion, optimizer, model, train_loader, val_loader, n_val)\n",
    "\n",
    "# Test model\n",
    "test_model(model, test_loader, n_test)"
   ]
  },
  {
   "cell_type": "markdown",
   "metadata": {},
   "source": [
    "> Παρατηρούμε πως εκπαιδεύοντας το δίκτυο μας για 20 εποχές πετυχαίνουμε στο Test Set $accuracy \\approx 90\\% $, απόδοση αρκετά καλή δεδομένου του ότι το δίκτυο μας είναι αρκετά απλοϊκό (γραμμικό δίκτυο - λίγα layers). Παρατηρούμε επίσης πως μετά τις 15 εποχές το accuracy στο Validation δεν αυξάνεται και παραμένει σχετικά σταθερό (οπότε θα μπορούσαμε να σταματήσουμε εκεί το training)."
   ]
  },
  {
   "cell_type": "code",
   "execution_count": null,
   "metadata": {},
   "outputs": [],
   "source": []
  }
 ],
 "metadata": {
  "kernelspec": {
   "display_name": "Python 3",
   "language": "python",
   "name": "python3"
  },
  "language_info": {
   "codemirror_mode": {
    "name": "ipython",
    "version": 3
   },
   "file_extension": ".py",
   "mimetype": "text/x-python",
   "name": "python",
   "nbconvert_exporter": "python",
   "pygments_lexer": "ipython3",
   "version": "3.6.8"
  }
 },
 "nbformat": 4,
 "nbformat_minor": 2
}
