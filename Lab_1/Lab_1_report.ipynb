{
 "cells": [
  {
   "cell_type": "markdown",
   "metadata": {},
   "source": [
    "<center> <h1>Αναγνώριση Προτύπων - 1η Εργαστηριακή Άσκηση</h1> </center>\n",
    "\n",
    "---\n",
    "\n",
    "<center> <h2>Θέμα: Οπτική Αναγνώριση Ψηφίων</h2> </center>\n",
    "<center> <h2>ΣΧΟΛΗ: ΣΗΜΜΥ</h2> </center>\n",
    "<img src=\"pyrforos-digamma.png\" width=\"100\">\n",
    "\n",
    "Ονοματεπώνυμο | Αριθμός Μητρώου\n",
    "------------ | -------------\n",
    "Γιάννης Πιτόσκας | 03115077\n",
    "Αντώνης Παπαοικονόμου | 03115140"
   ]
  },
  {
   "cell_type": "code",
   "execution_count": 1,
   "metadata": {},
   "outputs": [],
   "source": [
    "import sklearn\n",
    "from scipy.spatial import Voronoi, voronoi_plot_2d\n",
    "import random\n",
    "import numpy as np\n",
    "import matplotlib.pyplot as plt\n",
    "from collections import defaultdict\n",
    "from sklearn.model_selection import cross_val_score, learning_curve\n",
    "from sklearn.decomposition import PCA\n",
    "\n",
    "\n",
    "def readData(data_type):\n",
    "\n",
    "    dir = './pr_lab1_2016-17_data/' + data_type + '.txt'\n",
    "    with open(dir, 'r') as file:\n",
    "        lines = file.read().splitlines()\n",
    "        # random.shuffle(lines)\n",
    "\n",
    "    features, digits = [], []\n",
    "    for line in lines:\n",
    "        line = [float(i) for i in line.rstrip().split(\" \")]\n",
    "        features.append(line[1:])\n",
    "        digits.append(int(line[0]))\n",
    "\n",
    "    return np.asarray(features), np.asarray(digits)"
   ]
  },
  {
   "cell_type": "markdown",
   "metadata": {},
   "source": [
    "## Βήμα 1\n",
    "Μας δίνονται τα δεδομένα ήδη χωρισμένα σε Train και Τest και ακόμη μας δίνονται και τα αντίστοιχα labels μιας και έχουμε πρόβλημα supervised learning. Τα διαβάζουμε λοιπόν από τα δοθέντα αρχεία ως X_train, X_test και τα αντίστοιχα labels ως y_train, y_test."
   ]
  },
  {
   "cell_type": "code",
   "execution_count": 2,
   "metadata": {},
   "outputs": [],
   "source": [
    "# STEP 1\n",
    "X_train, y_train = readData('train')\n",
    "X_test, y_test = readData('test')\n",
    "\n",
    "n_samples, n_features = X_train.shape\n",
    "n_test_samples, _ = X_test.shape\n",
    "n_classes = 10"
   ]
  },
  {
   "cell_type": "markdown",
   "metadata": {},
   "source": [
    "## Βήμα 2"
   ]
  },
  {
   "cell_type": "code",
   "execution_count": 3,
   "metadata": {},
   "outputs": [
    {
     "data": {
      "image/png": "[encoded data removed]",
      "text/plain": [
       "<Figure size 432x288 with 1 Axes>"
      ]
     },
     "metadata": {
      "needs_background": "light"
     },
     "output_type": "display_data"
    }
   ],
   "source": [
    "# STEP 2 - plot 131st digit\n",
    "digit_131 = np.reshape(X_train[131],(16,16))\n",
    "plt.figure()\n",
    "plt.title(\"Digit number 131\")\n",
    "plt.axis(\"off\")\n",
    "plt.imshow(digit_131)\n",
    "plt.show()"
   ]
  },
  {
   "cell_type": "markdown",
   "metadata": {},
   "source": [
    "## Βήμα 3"
   ]
  },
  {
   "cell_type": "code",
   "execution_count": 4,
   "metadata": {},
   "outputs": [
    {
     "data": {
      "image/png": "[encoded data removed]",
      "text/plain": [
       "<Figure size 432x288 with 10 Axes>"
      ]
     },
     "metadata": {
      "needs_background": "light"
     },
     "output_type": "display_data"
    }
   ],
   "source": [
    "# STEP 3 - plot one sample for each digit 0-9\n",
    "fig, axs = plt.subplots(2, 5)\n",
    "fig.suptitle(\"Random Digits\")\n",
    "for digit in range(n_classes):\n",
    "    rand = random.randint(0, n_samples-1)\n",
    "    while (y_train[rand] != digit):\n",
    "        rand = random.randint(0, n_samples-1)\n",
    "    dig = np.reshape(X_train[rand],(16,16))\n",
    "    axs[digit // 5, digit % 5].imshow(dig)\n",
    "    axs[digit // 5, digit % 5].axis(\"off\")\n",
    "    axs[digit // 5, digit % 5].set_title(str(digit))"
   ]
  },
  {
   "cell_type": "markdown",
   "metadata": {},
   "source": [
    "## Βήμα 4\n",
    "Ομαδοποιώντας τα δεδομένα που έχουμε στο train set με βάση το label τους σε ένα dictionary της python και με τον τύπο της μέσης τιμής $E[X_{0 (10,10)}] = \\frac{1}{N}\\sum_{i=1}^{N} X_{0 (10,10)}[i]$ έχουμε:"
   ]
  },
  {
   "cell_type": "code",
   "execution_count": 5,
   "metadata": {
    "scrolled": true
   },
   "outputs": [
    {
     "name": "stdout",
     "output_type": "stream",
     "text": [
      "The mean value of pixel (10,10) of 0 is: -0.5041884422110553\n"
     ]
    }
   ],
   "source": [
    "digit_count = np.zeros(n_classes)\n",
    "digit_mean = np.zeros((n_classes, n_features))\n",
    "digit_var = np.zeros((n_classes, n_features))\n",
    "\n",
    "for i in range(n_samples):\n",
    "    digit = y_train[i]\n",
    "    digit_count[digit] = digit_count[digit] + 1\n",
    "    digit_mean[digit] = digit_mean[digit] + X_train[i]\n",
    "\n",
    "for digit in range(n_classes):\n",
    "    digit_mean[digit] = digit_mean[digit] / digit_count[digit]\n",
    "\n",
    "digit_mean_zero = np.reshape(digit_mean[0],(16,16))\n",
    "print(\"The mean value of pixel (10,10) of 0 is:\", digit_mean_zero[10][10])"
   ]
  },
  {
   "cell_type": "markdown",
   "metadata": {},
   "source": [
    "## Βήμα 5\n",
    "Με την παραπάνω ομαδοποίηση και σύμφωνα με τον τύπο $Var(X_{0 (10,10)}) = E[X_{0 (10,10)} - \\mu_{0 (10,10)}^2] = \\frac{1}{N}\\sum_{i=1}^{N} (X_{0 (10,10)}[i] - E[X_0])^2$ έχουμε:"
   ]
  },
  {
   "cell_type": "code",
   "execution_count": 6,
   "metadata": {},
   "outputs": [
    {
     "name": "stdout",
     "output_type": "stream",
     "text": [
      "The variance value of pixel (10,10) of 0 is: 0.5249618093885225\n"
     ]
    }
   ],
   "source": [
    "# STEP 5\n",
    "for i in range(n_samples):\n",
    "    digit = y_train[i]\n",
    "    digit_var[digit] = digit_var[digit] + (X_train[i] - digit_mean[digit])**2\n",
    "\n",
    "# Digit based on Variance\n",
    "for digit in range(n_classes):\n",
    "    digit_var[digit] = digit_var[digit] / (digit_count[digit] - 1)\n",
    "digit_var_zero = np.reshape(digit_var[0],(16,16))\n",
    "print(\"The variance value of pixel (10,10) of 0 is:\", digit_var_zero[10][10])"
   ]
  },
  {
   "cell_type": "markdown",
   "metadata": {},
   "source": [
    "## Βήμα 6\n",
    "\n",
    "Τυπώνοντας τις τιμές για τα πρώτα 4 features έχουμε:"
   ]
  },
  {
   "cell_type": "code",
   "execution_count": 7,
   "metadata": {},
   "outputs": [
    {
     "name": "stdout",
     "output_type": "stream",
     "text": [
      "The mean value of 0 is: (first 4 numbers) [-0.99862814 -0.99539782 -0.98492295 -0.94125126]\n",
      "The variance value of 0 is: (first 4 numbers) [0.00224711 0.00661218 0.01960704 0.06295393]\n"
     ]
    }
   ],
   "source": [
    "# STEP 6\n",
    "\n",
    "print(\"The mean value of 0 is: (first 4 numbers)\", digit_mean[0][0:4])\n",
    "print(\"The variance value of 0 is: (first 4 numbers)\", digit_var[0][0:4])"
   ]
  },
  {
   "cell_type": "markdown",
   "metadata": {},
   "source": [
    "## Βήμα 7"
   ]
  },
  {
   "cell_type": "code",
   "execution_count": 8,
   "metadata": {},
   "outputs": [
    {
     "data": {
      "image/png": "[encoded data removed]",
      "text/plain": [
       "<Figure size 432x288 with 1 Axes>"
      ]
     },
     "metadata": {
      "needs_background": "light"
     },
     "output_type": "display_data"
    }
   ],
   "source": [
    "# STEP 7\n",
    "plt.figure()\n",
    "plt.title(\"Zero Mean Value\")\n",
    "plt.axis(\"off\")\n",
    "plt.imshow(digit_mean_zero)\n",
    "plt.show()"
   ]
  },
  {
   "cell_type": "markdown",
   "metadata": {},
   "source": [
    "## Βήμα 8"
   ]
  },
  {
   "cell_type": "code",
   "execution_count": 9,
   "metadata": {},
   "outputs": [
    {
     "data": {
      "image/png": "[encoded data removed]",
      "text/plain": [
       "<Figure size 432x288 with 1 Axes>"
      ]
     },
     "metadata": {
      "needs_background": "light"
     },
     "output_type": "display_data"
    }
   ],
   "source": [
    "# STEP 8\n",
    "plt.figure()\n",
    "plt.title(\"Zero Variance Value\")\n",
    "plt.imshow(digit_var_zero)\n",
    "plt.show()"
   ]
  },
  {
   "cell_type": "markdown",
   "metadata": {},
   "source": [
    "> Παρατηρούμε ότι η διασπορά μας δίνει πληροφορία για το σε ποια σημεία γίνεται συνήθως όμοια ο σχεδιασμός του ψηφίου (πχ πάνω και κάτω), ενώ φαίνεται ότι δεξιά και αριστερά η διασπορά έχει μεγάλη τιμή που υποδεικνύει ότι ο σχεδιασμός του μηδενός ως προς το πόσο «πλατύ» είναι ποικίλει."
   ]
  },
  {
   "cell_type": "markdown",
   "metadata": {},
   "source": [
    "## Βήμα 9\n",
    "Τυπώνοντας μόνο το την τιμή για το πρώτο feature έχουμε:"
   ]
  },
  {
   "cell_type": "code",
   "execution_count": 10,
   "metadata": {},
   "outputs": [
    {
     "name": "stdout",
     "output_type": "stream",
     "text": [
      "The mean value of 0 is: (first number only) -0.9986281407035177\n",
      "The variance value of 0 is: (first number only) 0.002247105527638201\n",
      "The mean value of 1 is: (first number only) -1.0\n",
      "The variance value of 1 is: (first number only) 0.0\n",
      "The mean value of 2 is: (first number only) -0.9924883720930233\n",
      "The variance value of 2 is: (first number only) 0.005090387193373648\n",
      "The mean value of 3 is: (first number only) -0.9975151975683889\n",
      "The variance value of 3 is: (first number only) 0.0012149350807067123\n",
      "The mean value of 4 is: (first number only) -1.0\n",
      "The variance value of 4 is: (first number only) 0.0\n",
      "The mean value of 5 is: (first number only) -0.9994586330935253\n",
      "The variance value of 5 is: (first number only) 0.0001629514388489166\n",
      "The mean value of 6 is: (first number only) -1.0\n",
      "The variance value of 6 is: (first number only) 0.0\n",
      "The mean value of 7 is: (first number only) -0.9749162790697675\n",
      "The variance value of 7 is: (first number only) 0.017963918445760705\n",
      "The mean value of 8 is: (first number only) -0.9985018450184502\n",
      "The variance value of 8 is: (first number only) 0.0005089713459426635\n",
      "The mean value of 9 is: (first number only) -0.9998990683229813\n",
      "The variance value of 9 is: (first number only) 6.560559006210882e-06\n"
     ]
    },
    {
     "data": {
      "image/png": "[encoded data removed]",
      "text/plain": [
       "<Figure size 432x288 with 10 Axes>"
      ]
     },
     "metadata": {
      "needs_background": "light"
     },
     "output_type": "display_data"
    }
   ],
   "source": [
    "# STEP 9(a)\n",
    "for digit in range(n_classes):\n",
    "    print(\"The mean value of\", digit, \"is: (first number only)\", digit_mean[digit][0])\n",
    "    print(\"The variance value of\", digit, \"is: (first number only)\", digit_var[digit][0])\n",
    "\n",
    "# STEP 9(b)\n",
    "\n",
    "# Digit based on Mean\n",
    "fig, axs = plt.subplots(2, 5)\n",
    "fig.suptitle(\"Mean Value Digits\")\n",
    "for digit in range(n_classes):\n",
    "    axs[digit // 5, digit % 5].imshow(np.reshape(digit_mean[digit],(16,16)))\n",
    "    axs[digit // 5, digit % 5].axis(\"off\")\n",
    "    axs[digit // 5, digit % 5].set_title(str(digit))"
   ]
  },
  {
   "cell_type": "markdown",
   "metadata": {},
   "source": [
    "## Βήμα 10\n",
    "Σύμφωνα με τον τύπο $pred(X) = \\arg\\min_{0 \\leq i \\leq 9} \\| \\mu - X \\|_2$ έχουμε:"
   ]
  },
  {
   "cell_type": "code",
   "execution_count": 11,
   "metadata": {},
   "outputs": [
    {
     "name": "stdout",
     "output_type": "stream",
     "text": [
      "Actual value of digit 101: 6\n",
      "The result of the Euclidean Classifier on digit 101 is: 0\n"
     ]
    }
   ],
   "source": [
    "# STEP 10\n",
    "\n",
    "digit_101_pred = np.argmin(np.linalg.norm(digit_mean - X_test[101], axis = 1))\n",
    "print(\"Actual value of digit 101:\", y_test[101])\n",
    "print(\"The result of the Euclidean Classifier on digit 101 is:\", digit_101_pred)"
   ]
  },
  {
   "cell_type": "markdown",
   "metadata": {},
   "source": [
    "> Παρατηρούμε πως η πρόβλεψη του ταξινομητή μας είναι λανθασμένη."
   ]
  },
  {
   "cell_type": "markdown",
   "metadata": {},
   "source": [
    "## Βήμα 11\n",
    "Βρίσκοντας την ελάχιστη Ευκλείδεια απόσταση και συγκρίνοντας την με τo label y για κάθε δείγμα στο test set μας έχουμε:"
   ]
  },
  {
   "cell_type": "code",
   "execution_count": 12,
   "metadata": {},
   "outputs": [
    {
     "name": "stdout",
     "output_type": "stream",
     "text": [
      "The accuracy of the Euclidean Classifier on the test set is: 0.8141504733432985\n"
     ]
    }
   ],
   "source": [
    "# STEP 11\n",
    "\n",
    "# Minimum Euclidean Distance from Mean\n",
    "accuracy = 0.0\n",
    "for i in range(n_test_samples):\n",
    "    accuracy += np.argmin(np.linalg.norm(digit_mean - X_test[i], axis = 1)) == y_test[i]\n",
    "accuracy /= n_test_samples\n",
    "print(\"The accuracy of the Euclidean Classifier on the test set is:\", accuracy)"
   ]
  },
  {
   "cell_type": "markdown",
   "metadata": {},
   "source": [
    "## Βήμα 12\n",
    "Καλούμαστε να υλοποιήσουμε τον ταξινομητή ευκλείδιας απόστασης σαν ένα scikit-learn estimator. Δημιουργούμε την κλάση EuclideanClassifier και εν συνεχεία υλοποιούμε τις μεθόδους fit, predict και score ως εξής:\n",
    "\n",
    "- `fit()`: Υπολογίζει τα features για την κάθε κατηγορία βάσει του μέσου όρου των χαρακτηριστικών των δεδομένων εκπαίδευσης της εκάστοτε κατηγορίας\n",
    "- `predict()`: Δεδομένου ενός δείγματος κάνει μια πρόβλεψη βάσει της ελάχιστης από τις ευκλείδιες αποστάσεις από τα διανύσματα χαρακτηριστικών της κάθε κατηγορίας.\n",
    "- `score()`: Υπολογίζει το ποσοστό επιτυχίας του ταξινομητή πάνω σε κάποιο Test Set.\n"
   ]
  },
  {
   "cell_type": "code",
   "execution_count": 13,
   "metadata": {},
   "outputs": [],
   "source": [
    "# STEP 12\n",
    "\n",
    "from sklearn.base import BaseEstimator, ClassifierMixin\n",
    "from collections import defaultdict\n",
    "import numpy as np\n",
    "\n",
    "class EuclideanClassifier(BaseEstimator, ClassifierMixin):\n",
    "    \"\"\"Classify samples based on the distance from the mean feature value\"\"\"\n",
    "\n",
    "    def __init__(self):\n",
    "        self.X_mean_ = None\n",
    "        self.n_samples = None\n",
    "        self.n_features = None\n",
    "        self.n_classes = None\n",
    "        self.idx2class = None\n",
    "        self.class2idx = None\n",
    "\n",
    "\n",
    "    def fit(self, X, y):\n",
    "\n",
    "        \"\"\"\n",
    "        This should fit classifier. All the \"work\" should be done here.\n",
    "\n",
    "        Calculates self.X_mean_ based on the mean\n",
    "        feature values in X for each class.\n",
    "\n",
    "        self.X_mean_ becomes a numpy.ndarray of shape\n",
    "        (n_classes, n_features)\n",
    "\n",
    "        fit always returns self.\n",
    "        \"\"\"\n",
    "\n",
    "        n_samples, n_features = X.shape\n",
    "        n_classes = len(set(y))\n",
    "        idx2class = sorted(list(set(y)))\n",
    "\n",
    "        self.class2idx = defaultdict(lambda: None, {})\n",
    "\n",
    "        for cl in idx2class:\n",
    "            self.class2idx[cl] = idx2class.index(cl)\n",
    "\n",
    "        self.n_samples = n_samples\n",
    "        self.n_features = n_features\n",
    "        self.n_classes = n_classes\n",
    "\n",
    "        cnt = np.zeros(n_classes)\n",
    "        mean_val = np.zeros((n_classes, n_features))\n",
    "\n",
    "        for i in range(n_samples):\n",
    "            idx = self.class2idx[y[i]]\n",
    "            cnt[idx] = cnt[idx] + 1\n",
    "            mean_val[idx] = mean_val[idx] + X[i]\n",
    "\n",
    "        # Digit based on Mean\n",
    "        for i in range(n_classes):\n",
    "            mean_val[i] = mean_val[i] / cnt[i]\n",
    "\n",
    "        self.X_mean_ = mean_val\n",
    "\n",
    "        return self\n",
    "\n",
    "\n",
    "    def predict(self, X):\n",
    "        \"\"\"\n",
    "        Make predictions for X based on the\n",
    "        euclidean distance from self.X_mean_\n",
    "        \"\"\"\n",
    "        n_test_samples, _ = X.shape\n",
    "        C = np.array([np.argmin(np.linalg.norm(self.X_mean_ - X[i], axis = 1)) for i in range(n_test_samples)])\n",
    "        \n",
    "        return C\n",
    "\n",
    "\n",
    "    def score(self, X, y):\n",
    "        \"\"\"\n",
    "        Return accuracy score on the predictions\n",
    "        for X based on ground truth y\n",
    "        \"\"\"\n",
    "        n_test_samples, _ = X.shape\n",
    "        y2idx = [self.class2idx[cl] for cl in y]\n",
    "        accuracy = sum(np.equal(self.predict(X), y2idx)) / n_test_samples\n",
    "\n",
    "        return accuracy"
   ]
  },
  {
   "cell_type": "markdown",
   "metadata": {},
   "source": [
    "\n",
    "## Βήμα 13\n",
    "**(α)**"
   ]
  },
  {
   "cell_type": "code",
   "execution_count": 14,
   "metadata": {},
   "outputs": [
    {
     "name": "stdout",
     "output_type": "stream",
     "text": [
      "The average score using 5-fold cross-validation is: 0.841773724173982\n"
     ]
    }
   ],
   "source": [
    "# STEP 13\n",
    "\n",
    "# Euclidean Classifier\n",
    "clf = EuclideanClassifier()\n",
    "clf.fit(X_train, y_train)\n",
    "\n",
    "# 5-Fold Cross-Validation\n",
    "X = np.concatenate((X_train, X_test), axis = 0)\n",
    "y = np.concatenate((y_train, y_test), axis = 0)\n",
    "average_score = np.mean(cross_val_score(EuclideanClassifier(), X, y, cv = 5))\n",
    "print(\"The average score using 5-fold cross-validation is:\", average_score)"
   ]
  },
  {
   "cell_type": "markdown",
   "metadata": {},
   "source": [
    "**(β)** Τα features που αντιπροσωπεύουν κάθε ψηφίο αποτελούν διανύσματα 256 διαστάσεων και καλούμαστε να βρούμε τις περιοχές απόφασης (decision boundaries). Ωστόσο, προκειμένου να μπορέσει να γίνει οπτικοποίηση των περιοχών απόφασης θα εφαρμόσουμε PCA ώστε να μειώσουμε τον αριθμό των διαστάσεων απο 256 σε 2. Οι περιοχές απόφασης που θα υπολογίσουμε για τις δύο διαστάσεις δεν μας δίνουν το ίδιο καλή πληροφορία με τις 256, αλλά μπορούμε να έχουμε μια κάποια εικόνα των περιοχών απόφασης του εκτιμητή μας. Παρακάτω παρατίθεται το διάγραμμα αυτών των περιοχών απόφασης σε δύο διαστάσεις με τα χρωματισμένα σημεία των περιοχών να αποτέλουν τα δισδιάστατα διανύσματα χαρακτηριστικών για το εκάστοτε ψηφίου:"
   ]
  },
  {
   "cell_type": "code",
   "execution_count": 15,
   "metadata": {},
   "outputs": [
    {
     "data": {
      "image/png": "[encoded data removed]",
      "text/plain": [
       "<Figure size 432x288 with 1 Axes>"
      ]
     },
     "metadata": {
      "needs_background": "light"
     },
     "output_type": "display_data"
    }
   ],
   "source": [
    "def plot_decision_boundaries(points):\n",
    "\n",
    "    vor = Voronoi(points)\n",
    "    voronoi_plot_2d(vor,show_points=False, show_vertices=False)\n",
    "    plt.scatter(points[:,0], points[:,1], c=range(10), s=30, edgecolor = 'k')\n",
    "    cdict = {0 : 'red', 1 : 'blue', 2 : 'gold', 3 : 'purple', 4 : 'darkgreen', 5 : 'orange', 6 : 'lime', 7 : 'cyan', 8 : 'magenta', 9 : 'dimgray'}\n",
    "\n",
    "    for point,label in zip(points,range(10)):\n",
    "        plt.scatter(point[0], point[1], c=cdict[label], label = label, s = 100)\n",
    "        label += 1\n",
    "    plt.legend(prop={'size':10})\n",
    "    plt.title('Decision Boundaries')\n",
    "    plt.show()\n",
    "\n",
    "    return\n",
    "\n",
    "# PCA 256 to 2 dims => for Decision Boundaries visualization\n",
    "X_train_reduced = PCA(n_components=2).fit_transform(X_train)\n",
    "X_test_reduced = PCA(n_components=2).fit_transform(X_test)\n",
    "\n",
    "clf2 = EuclideanClassifier()\n",
    "clf2.fit(X_train_reduced, y_train)\n",
    "\n",
    "# Plot Decision Boundaries for 2 dims\n",
    "plot_decision_boundaries(clf2.X_mean_)"
   ]
  },
  {
   "cell_type": "markdown",
   "metadata": {},
   "source": [
    "**(γ)** Για όλα μας τα δεδομένα (test και train μαζί) και χρησιμοποιώντας 5-fold cross-validation έχουμε τις παρακάτω καμπύλες εκμάθησης (learning curves):"
   ]
  },
  {
   "cell_type": "code",
   "execution_count": 16,
   "metadata": {},
   "outputs": [
    {
     "data": {
      "image/png": "[encoded data removed]",
      "text/plain": [
       "<Figure size 432x288 with 1 Axes>"
      ]
     },
     "metadata": {
      "needs_background": "light"
     },
     "output_type": "display_data"
    }
   ],
   "source": [
    "# 13.c\n",
    "# Plot Learning Curve\n",
    "\n",
    "def plot_learning_curve(estimator, title, X, y, ylim=None, cv=None, n_jobs=None, train_sizes=np.linspace(.1, 1.0, 5)):\n",
    "\n",
    "    plt.figure()\n",
    "    plt.title(title)\n",
    "    if ylim is not None:\n",
    "        plt.ylim(*ylim)\n",
    "    plt.xlabel(\"Training examples\")\n",
    "    plt.ylabel(\"Score\")\n",
    "    train_sizes, train_scores, test_scores = learning_curve(\n",
    "        estimator, X, y, cv=cv, n_jobs=n_jobs, train_sizes=train_sizes)\n",
    "    train_scores_mean = np.mean(train_scores, axis=1)\n",
    "    train_scores_std = np.std(train_scores, axis=1)\n",
    "    test_scores_mean = np.mean(test_scores, axis=1)\n",
    "    test_scores_std = np.std(test_scores, axis=1)\n",
    "    plt.grid()\n",
    "\n",
    "    plt.fill_between(train_sizes, train_scores_mean - train_scores_std,\n",
    "                     train_scores_mean + train_scores_std, alpha=0.1,\n",
    "                     color=\"r\")\n",
    "    plt.fill_between(train_sizes, test_scores_mean - test_scores_std,\n",
    "                     test_scores_mean + test_scores_std, alpha=0.1, color=\"g\")\n",
    "    plt.plot(train_sizes, train_scores_mean, 'o-', color=\"r\",\n",
    "             label=\"Training score\")\n",
    "    plt.plot(train_sizes, test_scores_mean, 'o-', color=\"g\",\n",
    "             label=\"Cross-validation score\")\n",
    "\n",
    "    plt.legend(loc=\"best\")\n",
    "    plt.show()\n",
    "    return\n",
    "\n",
    "plot_learning_curve(EuclideanClassifier(), \"Learning Curves\", X, y, cv = 5, n_jobs= 4)"
   ]
  },
  {
   "cell_type": "markdown",
   "metadata": {},
   "source": [
    "## Βήμα 14\n",
    "Για τις a-priori πιθανότητες έχουμε:"
   ]
  },
  {
   "cell_type": "code",
   "execution_count": 17,
   "metadata": {},
   "outputs": [
    {
     "name": "stdout",
     "output_type": "stream",
     "text": [
      "Class label: 0 with a-priori probability: 0.16376354409546015\n",
      "Class label: 1 with a-priori probability: 0.13784117405019888\n",
      "Class label: 2 with a-priori probability: 0.10026059525442327\n",
      "Class label: 3 with a-priori probability: 0.09024825126868742\n",
      "Class label: 4 with a-priori probability: 0.08942531888629818\n",
      "Class label: 5 with a-priori probability: 0.07625840076807022\n",
      "Class label: 6 with a-priori probability: 0.09107118365107666\n",
      "Class label: 7 with a-priori probability: 0.08846523110684405\n",
      "Class label: 8 with a-priori probability: 0.07433822520916199\n",
      "Class label: 9 with a-priori probability: 0.08832807570977919\n"
     ]
    }
   ],
   "source": [
    "# Step 14 - a priori probabilities\n",
    "\n",
    "labels, counts = np.unique(y_train, return_counts = True)\n",
    "a_priori = defaultdict(lambda : 0, {})\n",
    "for label, cnt in zip(labels, counts):\n",
    "    a_priori[label] = cnt / y_train.size\n",
    "    print(\"Class label:\", label, \"with a-priori probability:\", a_priori[label])"
   ]
  },
  {
   "cell_type": "markdown",
   "metadata": {},
   "source": [
    "## Βήμα 17"
   ]
  },
  {
   "cell_type": "code",
   "execution_count": 18,
   "metadata": {
    "scrolled": true
   },
   "outputs": [
    {
     "name": "stdout",
     "output_type": "stream",
     "text": [
      "The GaussianNB Classifier score is: 0.7194818136522172\n",
      "The KNN Classifier with k = 1 score is: 0.9436970602889886\n",
      "The KNN Classifier with k = 2 score is: 0.9412057797708022\n",
      "The KNN Classifier with k = 3 score is: 0.9446935724962631\n",
      "The KNN Classifier with k = 4 score is: 0.9431988041853513\n",
      "The KNN Classifier with k = 5 score is: 0.9446935724962631\n",
      "The KNN Classifier with k = 6 score is: 0.9387144992526159\n",
      "The KNN Classifier with k = 7 score is: 0.9417040358744395\n",
      "The SVM Linear Classifier score is: 0.9028400597907325\n",
      "The SVM Classifier score is: 0.9466865969108121\n",
      "The SVM Classifier score with RBF kernel is: 0.9422022919780767\n",
      "The SVM Classifier score with Polynomial kernel is: 0.9466865969108121\n",
      "The SVM Classifier score with Sigmoid kernel is: 0.9147982062780269\n",
      "The SVM Classifier score with Linear kernel is: 0.9262580966616841\n"
     ]
    }
   ],
   "source": [
    "from sklearn.naive_bayes import GaussianNB\n",
    "from sklearn.neighbors import KNeighborsClassifier\n",
    "from sklearn import svm\n",
    "import warnings\n",
    "\n",
    "\n",
    "# Gaussian Naive Bayes\n",
    "gnb = GaussianNB()\n",
    "print(\"The GaussianNB Classifier score is:\", gnb.fit(X_train, y_train).score(X_test, y_test))\n",
    "\n",
    "# K Nearest Neighbors\n",
    "for k in range(1, 8):\n",
    "    knn = KNeighborsClassifier(n_neighbors=k, algorithm='ball_tree')\n",
    "    print(\"The KNN Classifier with k =\", k, \"score is:\", knn.fit(X_train, y_train).score(X_test, y_test))\n",
    "\n",
    "# Support Vector Machine (Linear SVC)\n",
    "with warnings.catch_warnings():\n",
    "    warnings.simplefilter('ignore')\n",
    "    supl = svm.LinearSVC()\n",
    "    print(\"The SVM Linear Classifier score is:\", supl.fit(X_train, y_train).score(X_test, y_test))\n",
    "\n",
    "# Support Vector Machine (SVC)\n",
    "sup1 = svm.SVC(gamma='scale', probability=True)\n",
    "print(\"The SVM Classifier score is:\", sup1.fit(X_train, y_train).score(X_test, y_test))\n",
    "\n",
    "# Support Vector Machine (SVC) with RBF kernel\n",
    "sup2 = svm.SVC(gamma='auto', probability=True)\n",
    "print(\"The SVM Classifier score with RBF kernel is:\", sup2.fit(X_train, y_train).score(X_test, y_test))\n",
    "\n",
    "# Support Vector Machine (SVC) with Polynomial kernel\n",
    "sup3 = svm.SVC(kernel='poly', gamma='auto', probability=True)\n",
    "print(\"The SVM Classifier score with Polynomial kernel is:\", sup3.fit(X_train, y_train).score(X_test, y_test))\n",
    "\n",
    "# Support Vector Machine (SVC) with Sigmoid kernel\n",
    "sup4 = svm.SVC(kernel='sigmoid', gamma='auto', probability=True)\n",
    "print(\"The SVM Classifier score with Sigmoid kernel is:\", sup4.fit(X_train, y_train).score(X_test, y_test))\n",
    "\n",
    "# Support Vector Machine (SVC) with Linear kernel\n",
    "sup5 = svm.SVC(kernel='linear', gamma='auto', probability=True)\n",
    "print(\"The SVM Classifier score with Linear kernel is:\", sup5.fit(X_train, y_train).score(X_test, y_test))"
   ]
  },
  {
   "cell_type": "markdown",
   "metadata": {},
   "source": [
    "## Βήμα 18\n",
    "**(α)**"
   ]
  },
  {
   "cell_type": "code",
   "execution_count": 19,
   "metadata": {},
   "outputs": [],
   "source": [
    "gnb_pred = gnb.predict(X_test)\n",
    "knn_pred = knn.predict(X_test)\n",
    "sup2_pred = sup2.predict(X_test)\n",
    "sup3_pred = sup3.predict(X_test)\n",
    "sup4_pred = sup4.predict(X_test)\n",
    "sup5_pred = sup5.predict(X_test)"
   ]
  },
  {
   "cell_type": "code",
   "execution_count": 20,
   "metadata": {},
   "outputs": [
    {
     "name": "stdout",
     "output_type": "stream",
     "text": [
      "{0: 64, 1: 10, 2: 57, 3: 88, 4: 144, 5: 86, 6: 19, 7: 15, 8: 56, 9: 24}\n",
      "4\n",
      "{0: 4, 1: 6, 2: 15, 3: 13, 4: 17, 5: 16, 6: 7, 7: 9, 8: 15, 9: 9}\n",
      "4\n",
      "{0: 4, 1: 6, 2: 15, 3: 11, 4: 16, 5: 17, 6: 8, 7: 10, 8: 18, 9: 9}\n",
      "8\n",
      "{0: 4, 1: 9, 2: 17, 3: 20, 4: 12, 5: 13, 6: 11, 7: 10, 8: 13, 9: 7}\n",
      "3\n",
      "{0: 4, 1: 9, 2: 15, 3: 16, 4: 11, 5: 10, 6: 12, 7: 10, 8: 13, 9: 7}\n",
      "3\n",
      "{0: 8, 1: 8, 2: 29, 3: 26, 4: 16, 5: 22, 6: 13, 7: 13, 8: 28, 9: 8}\n",
      "2\n",
      "{0: 8, 1: 8, 2: 17, 3: 20, 4: 20, 5: 24, 6: 10, 7: 12, 8: 22, 9: 7}\n",
      "5\n"
     ]
    }
   ],
   "source": [
    "def find_errors(predictions, y):\n",
    "    errors = y[predictions != y]\n",
    "    unique, counts = np.unique(errors, return_counts=True)\n",
    "    all_errors = dict(zip(unique, counts))\n",
    "    more_errors = max(all_errors, key=all_errors.get)\n",
    "    return all_errors, more_errors\n",
    "knn3 = KNeighborsClassifier(n_neighbors=3, algorithm='kd_tree').fit(X_train, y_train)\n",
    "knn4 = KNeighborsClassifier(n_neighbors=4, algorithm='ball_tree').fit(X_train, y_train)\n",
    "knn3_pred = knn3.predict(X_test)\n",
    "knn4_pred = knn4.predict(X_test)\n",
    "\n",
    "gnb_errors,gnb_err_label = find_errors(gnb_pred, y_test)\n",
    "knn3_errors, knn3_err_label = find_errors(knn3_pred, y_test)\n",
    "knn4_errors, knn4_err_label = find_errors(knn4_pred, y_test)\n",
    "sup2_errors,sup2_err_label = find_errors(sup2_pred, y_test)\n",
    "sup3_errors,sup3_err_label = find_errors(sup3_pred, y_test)\n",
    "sup4_errors,sup4_err_label = find_errors(sup4_pred, y_test)\n",
    "sup5_errors,sup5_err_label = find_errors(sup5_pred, y_test)\n",
    "\n",
    "print(gnb_errors)\n",
    "print(gnb_err_label)\n",
    "\n",
    "print(knn3_errors)\n",
    "print(knn3_err_label)\n",
    "\n",
    "print(knn4_errors)\n",
    "print(knn4_err_label)\n",
    "\n",
    "print(sup2_errors)\n",
    "print(sup2_err_label)\n",
    "\n",
    "print(sup3_errors)\n",
    "print(sup3_err_label)\n",
    "\n",
    "print(sup4_errors)\n",
    "print(sup4_err_label)\n",
    "\n",
    "print(sup5_errors)\n",
    "print(sup5_err_label)\n"
   ]
  },
  {
   "cell_type": "code",
   "execution_count": 21,
   "metadata": {},
   "outputs": [
    {
     "name": "stdout",
     "output_type": "stream",
     "text": [
      "0.9471848530144494\n"
     ]
    }
   ],
   "source": [
    "from sklearn.ensemble import RandomForestClassifier, VotingClassifier\n",
    "clf1 = svm.SVC(gamma='scale')\n",
    "clf2 = KNeighborsClassifier(n_neighbors=5, algorithm='ball_tree')\n",
    "clf3 = GaussianNB()\n",
    "eclf1 = VotingClassifier(estimators=[('SVC-rbf', sup2), ('SVC-poly', sup3), \n",
    "                                     ('SVC-sigmoid', sup3), ('SVC-linear', sup4),\n",
    "                                     ('4NN', knn4), ('gnb', gnb),\n",
    "                                     ('3NN', knn3)], voting='hard')\n",
    "eclf1 = eclf1.fit(X_train, y_train)\n",
    "print(eclf1.score(X_test, y_test))"
   ]
  },
  {
   "cell_type": "code",
   "execution_count": 22,
   "metadata": {},
   "outputs": [
    {
     "name": "stdout",
     "output_type": "stream",
     "text": [
      "0.9461883408071748\n"
     ]
    }
   ],
   "source": [
    "from sklearn.linear_model import LogisticRegression\n",
    "# clf1 = svm.SVC(gamma='scale', probability = True)\n",
    "# clf2 = KNeighborsClassifier(n_neighbors=5, algorithm='ball_tree')\n",
    "gnb = GaussianNB()\n",
    "knn5 = KNeighborsClassifier(n_neighbors=5, algorithm='ball_tree')\n",
    "knn3 = KNeighborsClassifier(n_neighbors=3, algorithm='kd_tree')\n",
    "\n",
    "eclf1 = VotingClassifier(estimators=[('SVC-rbf', sup2), ('SVC-poly', sup3), \n",
    "                                     ('SVC-sigmoid', sup3), ('SVC-linear', sup4),\n",
    "                                     ('5NN', knn5), ('gnb', gnb),\n",
    "                                     ('3NN', knn3)], voting='soft')\n",
    "eclf1 = eclf1.fit(X_train, y_train)\n",
    "print(eclf1.score(X_test, y_test))"
   ]
  },
  {
   "cell_type": "code",
   "execution_count": 23,
   "metadata": {},
   "outputs": [
    {
     "name": "stdout",
     "output_type": "stream",
     "text": [
      "0.9422022919780767 0.9417040358744395\n"
     ]
    }
   ],
   "source": [
    "from sklearn.ensemble import BaggingClassifier\n",
    "gnb = GaussianNB()\n",
    "bc = BaggingClassifier(knn4, n_estimators=8).fit(X_train, y_train)\n",
    "print(bc.score(X_test, y_test), knn.score(X_test, y_test))"
   ]
  },
  {
   "cell_type": "markdown",
   "metadata": {},
   "source": [
    "## Βήμα 19 (Extra)\n",
    "**(α)** Παρακάτω χρησιμοποιώντας την κλάση `DigitDataset` (που κληρονομεί από την κλάση `Dataset` της `pytorch`) καθώς και την βοηθητική συνάρτηση `DigitDatasetLoader` παίρνουμε τα `Train`, `Validation` και `Test Set`"
   ]
  },
  {
   "cell_type": "code",
   "execution_count": 24,
   "metadata": {},
   "outputs": [],
   "source": [
    "import torch\n",
    "import numpy as np\n",
    "from torch.utils import data\n",
    "from torch.utils.data import Dataset, DataLoader\n",
    "\n",
    "class DigitDataset(Dataset):\n",
    "    \"\"\" Digits Dataset \"\"\"\n",
    "\n",
    "    def __init__(self, datatype, device):\n",
    "        assert datatype == 'train' or datatype == 'test'\n",
    "        self.datatype = datatype\n",
    "        xy = np.loadtxt('./pr_lab1_2016-17_data/' + datatype + '.txt')\n",
    "        self.len = xy.shape[0]\n",
    "        self.x_data = torch.from_numpy(xy[:, 1:]).to(device).float()\n",
    "        self.y_data = torch.from_numpy(xy[:, 0]).to(device).long()\n",
    "\n",
    "    def __getitem__(self, index):\n",
    "        return self.x_data[index], self.y_data[index]\n",
    "\n",
    "    def __len__(self):\n",
    "        return self.len\n",
    "\n",
    "def DigitDatasetLoader(N, frac, device):\n",
    "\n",
    "    train_val_set = DigitDataset('train', device)\n",
    "    n_train_val = len(train_val_set)\n",
    "    n_train = int(frac*n_train_val)\n",
    "    n_val = n_train_val - n_train\n",
    "    train_set, val_set = data.random_split(train_val_set, (n_train, n_val))\n",
    "    test_set = DigitDataset('test', device)\n",
    "    n_test = len(test_set)\n",
    "\n",
    "    train_loader = DataLoader(train_set, batch_size=N, shuffle=True)\n",
    "    val_loader = DataLoader(val_set, batch_size=N, shuffle=True)\n",
    "    test_loader = DataLoader(test_set, batch_size=N, shuffle=True)\n",
    "\n",
    "    return train_loader, n_train, val_loader, n_val, test_loader, n_test"
   ]
  },
  {
   "cell_type": "markdown",
   "metadata": {},
   "source": [
    "**(β)** Το δίκτυο μας αποτελείται από 2 γραμμικά Layers, με ένα Hidden Layer μεγέθους H features και ως συνάρτηση ενεργοποίησης έχουμε χρησιμοποιήσει την $ReLU(x) = \\max (0,x)$"
   ]
  },
  {
   "cell_type": "code",
   "execution_count": 25,
   "metadata": {},
   "outputs": [],
   "source": [
    "class TwoLayerNet(torch.nn.Module):\n",
    "    def __init__(self, D_in, H, D_out):\n",
    "        \"\"\"\n",
    "        In the constructor we instantiate two nn.Linear modules and assign them as\n",
    "        member variables.\n",
    "        \"\"\"\n",
    "        super(TwoLayerNet, self).__init__()\n",
    "        self.linear1 = torch.nn.Linear(D_in, H)\n",
    "        self.linear2 = torch.nn.Linear(H, D_out)\n",
    "        self.softmax = torch.nn.Softmax(dim=1)\n",
    "\n",
    "    def forward(self, x):\n",
    "        \"\"\"\n",
    "        In the forward function we accept a Tensor of input data and we must return\n",
    "        a Tensor of output data. We can use Modules defined in the constructor as\n",
    "        well as arbitrary operators on Tensors.\n",
    "        \"\"\"\n",
    "        h_relu = self.linear1(x).clamp(min=0)\n",
    "        y_pred = self.linear2(h_relu)\n",
    "        return self.softmax(y_pred)"
   ]
  },
  {
   "cell_type": "markdown",
   "metadata": {},
   "source": [
    "**(γ)** Για `Batch size = 128`, `Hidden Layer size = 100` και ποσοστά `90%-10%` για το `Train` και το `Validation Set` αντίστοιχα έχουμε:"
   ]
  },
  {
   "cell_type": "code",
   "execution_count": 26,
   "metadata": {},
   "outputs": [
    {
     "name": "stdout",
     "output_type": "stream",
     "text": [
      "DEVICE: cuda \n",
      "cuda Version: 10.0 \n",
      "n_cuda = 1 \n",
      "Cuda Name(s): GeForce GTX 1050 Ti\n"
     ]
    }
   ],
   "source": [
    "import os\n",
    "import matplotlib.pyplot as plt\n",
    "from torch.utils import data\n",
    "from torch.autograd import Variable\n",
    "from torch.utils.data import DataLoader\n",
    "\n",
    "DEVICE = torch.device(\"cuda\" if torch.cuda.is_available() else \"cpu\")\n",
    "if torch.cuda.is_available():\n",
    "    print(  'DEVICE:', DEVICE,\n",
    "            '\\ncuda Version:', torch.version.cuda,\n",
    "            '\\nn_cuda =', torch.cuda.device_count(),\n",
    "            '\\nCuda Name(s):', torch.cuda.get_device_name(0)    )\n",
    "\n",
    "# N is batch size; D_in is input dimension;\n",
    "# H is hidden dimension; D_out is output dimension.\n",
    "N, D_in, H, D_out = 128, 256, 100, 10\n",
    "\n",
    "# 90% Train - 10 % Validation\n",
    "train_loader, n_train, val_loader, n_val, test_loader, n_test = DigitDatasetLoader(N, 0.9, DEVICE)\n",
    "\n",
    "# Construct our model by instantiating the class defined above\n",
    "model = TwoLayerNet(D_in, H, D_out).to(DEVICE)\n",
    "\n",
    "# Construct our loss function and an Optimizer. The call to model.parameters()\n",
    "# in the SGD constructor will contain the learnable parameters of the two\n",
    "# nn.Linear modules which are members of the model.\n",
    "criterion = torch.nn.CrossEntropyLoss()\n",
    "optimizer = torch.optim.SGD(model.parameters(), lr=1e-4)\n",
    "\n",
    "#function to calculate accuracy of model\n",
    "def accuracy(y_hat, y):\n",
    "     pred = torch.argmax(y_hat, dim=1)\n",
    "     return (pred == y).float().sum()\n",
    "\n",
    "def train_and_val_model(epochs, criterion, optimizer, model, train, validation, n_val):\n",
    "\n",
    "    # TRAINING\n",
    "\n",
    "    # if os.path.exists(\"./train.model\"):\n",
    "    #     model.load_state_dict(torch.load(\"./train.model\"))\n",
    "    #     # model.eval()\n",
    "    #     print(\"Loaded from pre-trained model\")\n",
    "    \n",
    "    print(\"TRAINING...\")\n",
    "\n",
    "    total_epochs = []\n",
    "    total_acc = []\n",
    "    total_loss = []\n",
    "    for epoch in range(epochs+1):\n",
    "        model.train()\n",
    "        for data in train:\n",
    "            # get the inputs\n",
    "            inputs, labels = data\n",
    "\n",
    "            inputs = inputs.to(DEVICE)\n",
    "            labels = labels.to(DEVICE)\n",
    "\n",
    "            # wrap them in Variable\n",
    "            inputs, labels = Variable(inputs), Variable(labels)\n",
    "\n",
    "            # Forward pass: Compute predicted y by passing x to the model\n",
    "            y_pred = model(inputs)\n",
    "\n",
    "            # Compute and print loss\n",
    "            loss = criterion(y_pred, labels)\n",
    "\n",
    "            # Zero gradients, perform a backward pass, and update the weights.\n",
    "            optimizer.zero_grad()\n",
    "            loss.backward()\n",
    "            optimizer.step()\n",
    "\n",
    "        # VALIDATING\n",
    "\n",
    "        model.eval()\n",
    "        acc = 0\n",
    "        with torch.no_grad():\n",
    "            for data in validation:\n",
    "                inputs, labels = data\n",
    "                y_pred = model(inputs)\n",
    "                acc += accuracy(y_pred, labels)\n",
    "        if (epoch % 1000 == 0):\n",
    "            print(\"Epoch:\", epoch, \"with loss:\", loss.item(), \"and accuracy on validation:\", acc.item()/n_val)\n",
    "        if (epoch % 100 == 0):\n",
    "            total_epochs.append(epoch)\n",
    "            total_acc.append(acc.item()/n_val)\n",
    "            total_loss.append(loss.item())\n",
    "\n",
    "    # torch.save(model.state_dict(), \"./train.model\")\n",
    "\n",
    "    plt.figure()\n",
    "    plt.title(\"Train and Validation\")\n",
    "    plt.xlabel(\"Epochs\")\n",
    "    plt.plot(total_epochs, total_loss, 'o-', color=\"r\",\n",
    "             label=\"Training Loss\")\n",
    "    plt.plot(total_epochs, total_acc, 'o-', color=\"g\",\n",
    "             label=\"Validation Accuracy\")\n",
    "    plt.legend(loc=\"best\")\n",
    "    plt.grid()\n",
    "    plt.show()\n",
    "\n",
    "\n",
    "def test_model(model, test, n_test):\n",
    "\n",
    "    # TESTING\n",
    "\n",
    "    print(\"TESTING...\")\n",
    "\n",
    "    model.eval()\n",
    "    acc = 0\n",
    "    with torch.no_grad():\n",
    "        for data in test:\n",
    "            inputs, labels = data\n",
    "\n",
    "            inputs = inputs.to(DEVICE)\n",
    "            labels = labels.to(DEVICE)\n",
    "\n",
    "            y_pred = model(inputs)\n",
    "            acc += accuracy(y_pred, labels)\n",
    "    print(\"Test set accuracy:\", acc.item()/n_test)"
   ]
  },
  {
   "cell_type": "markdown",
   "metadata": {},
   "source": [
    "**(δ)**"
   ]
  },
  {
   "cell_type": "code",
   "execution_count": 27,
   "metadata": {},
   "outputs": [
    {
     "name": "stdout",
     "output_type": "stream",
     "text": [
      "TRAINING...\n",
      "Epoch: 0 with loss: 2.2976958751678467 and accuracy on validation: 0.18767123287671234\n",
      "Epoch: 1000 with loss: 2.040208339691162 and accuracy on validation: 0.3506849315068493\n",
      "Epoch: 2000 with loss: 1.8970242738723755 and accuracy on validation: 0.5342465753424658\n",
      "Epoch: 3000 with loss: 1.8078209161758423 and accuracy on validation: 0.6287671232876713\n",
      "Epoch: 4000 with loss: 1.7449525594711304 and accuracy on validation: 0.7452054794520548\n",
      "Epoch: 5000 with loss: 1.6823397874832153 and accuracy on validation: 0.7876712328767124\n",
      "Epoch: 6000 with loss: 1.6839185953140259 and accuracy on validation: 0.7958904109589041\n",
      "Epoch: 7000 with loss: 1.678924798965454 and accuracy on validation: 0.8041095890410959\n",
      "Epoch: 8000 with loss: 1.6968258619308472 and accuracy on validation: 0.8082191780821918\n",
      "Epoch: 9000 with loss: 1.6886975765228271 and accuracy on validation: 0.8657534246575342\n",
      "Epoch: 10000 with loss: 1.585810899734497 and accuracy on validation: 0.8712328767123287\n"
     ]
    },
    {
     "data": {
      "image/png": "[encoded data removed]",
      "text/plain": [
       "<Figure size 432x288 with 1 Axes>"
      ]
     },
     "metadata": {
      "needs_background": "light"
     },
     "output_type": "display_data"
    },
    {
     "name": "stdout",
     "output_type": "stream",
     "text": [
      "TESTING...\n",
      "Test set accuracy: 0.8315894369706028\n"
     ]
    }
   ],
   "source": [
    "# Train and Validate model\n",
    "train_and_val_model(10000, criterion, optimizer, model, train_loader, val_loader, n_val)\n",
    "\n",
    "# Test model\n",
    "test_model(model, test_loader, n_test)"
   ]
  },
  {
   "cell_type": "markdown",
   "metadata": {},
   "source": [
    "> Παρατηρούμε πως εκπαιδεύοντας το δίκτυο μας για 10.0000 εποχές πετυχαίνουμε στο Test Set $accuracy \\approx 83\\% $, απόδοση αρκετά καλή δεδομένου του ότι το δίκτυο μας είναι αρκετά απλοϊκό (γραμμικό δίκτυο - λίγα layers)."
   ]
  },
  {
   "cell_type": "code",
   "execution_count": null,
   "metadata": {},
   "outputs": [],
   "source": []
  }
 ],
 "metadata": {
  "kernelspec": {
   "display_name": "Python 3",
   "language": "python",
   "name": "python3"
  },
  "language_info": {
   "codemirror_mode": {
    "name": "ipython",
    "version": 3
   },
   "file_extension": ".py",
   "mimetype": "text/x-python",
   "name": "python",
   "nbconvert_exporter": "python",
   "pygments_lexer": "ipython3",
   "version": "3.6.6"
  }
 },
 "nbformat": 4,
 "nbformat_minor": 2
}
