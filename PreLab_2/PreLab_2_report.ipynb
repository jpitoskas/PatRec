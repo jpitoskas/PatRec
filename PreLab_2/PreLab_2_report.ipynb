{
 "cells": [
  {
   "cell_type": "markdown",
   "metadata": {},
   "source": [
    "<center> <h1>Αναγνώριση Προτύπων - Προπαρασκευή 2ης Εργαστηριακής Άσκησης</h1> </center>\n",
    "\n",
    "---\n",
    "\n",
    "<center> <h2>Θέμα: Αναγνώριση φωνής με Κρυφά Μαρκοβιανά Μοντέλα και Αναδρομικά Νευρωνικά Δίκτυα</h2> </center>\n",
    "<center> <h2>ΣΧΟΛΗ: ΣΗΜΜΥ</h2> </center>\n",
    "<img src=\"pyrforos-digamma.png\" width=\"100\">\n",
    "\n",
    "Ονοματεπώνυμο | Αριθμός Μητρώου\n",
    "------------ | -------------\n",
    "Γιάννης Πιτόσκας | 03115077\n",
    "Αντώνης Παπαοικονόμου | 03115140"
   ]
  },
  {
   "cell_type": "markdown",
   "metadata": {},
   "source": [
    "## Βήμα 1\n",
    "Χρησιμοποιώντας το πρόγραμμα `Praat` για την ανάλυση των αρχείων ήχου έχουμε:"
   ]
  },
  {
   "cell_type": "code",
   "execution_count": 5,
   "metadata": {},
   "outputs": [
    {
     "name": "stdout",
     "output_type": "stream",
     "text": [
      "./pr_lab2_2019-20_data/digits/\n"
     ]
    }
   ],
   "source": [
    "import subprocess\n",
    "import os\n",
    "\n",
    "data_path = os.path.dirname(\"./pr_lab2_2019-20_data/\")\n",
    "print(data_path + \"/digits/\")\n",
    "\n",
    "def usePraat(file, text):\n",
    "    try:\n",
    "        subprocess.call([\"/Applications/Praat.app/Contents/MacOS/Praat\", \"--open\", file, text])\n",
    "    except OSError as e:\n",
    "        if e.errno == errno.ENOENT:\n",
    "            # handle file not found error\n",
    "            print(\"Please download Praat and use the installation path when calling it\")\n",
    "        else:\n",
    "            # Something else went wrong while trying to run\n",
    "            print(\"An error occured\")\n",
    "            raise\n",
    "            \n",
    "usePraat(data_path + \"/onetwothree1.wav\", \"one two three\")\n",
    "# usePraat(data_path + \"/onetwothree8.wav\", \"one two three\")"
   ]
  },
  {
   "cell_type": "markdown",
   "metadata": {},
   "source": [
    "## Βήμα 2"
   ]
  },
  {
   "cell_type": "markdown",
   "metadata": {},
   "source": [
    "## Βήμα 3"
   ]
  },
  {
   "cell_type": "markdown",
   "metadata": {},
   "source": [
    "## Βήμα 5\n",
    "Με την παραπάνω ομαδοποίηση και σύμφωνα με τον τύπο $Var(X_{0 (10,10)}) = E[X_{0 (10,10)} - \\mu_{0 (10,10)}^2] = \\frac{1}{N}\\sum_{i=1}^{N} (X_{0 (10,10)}[i] - E[X_0])^2$ έχουμε:"
   ]
  },
  {
   "cell_type": "markdown",
   "metadata": {},
   "source": [
    "## Βήμα 6\n",
    "\n",
    "Τυπώνοντας τις τιμές για τα πρώτα 4 features έχουμε:"
   ]
  },
  {
   "cell_type": "markdown",
   "metadata": {},
   "source": [
    "## Βήμα 7"
   ]
  },
  {
   "cell_type": "markdown",
   "metadata": {},
   "source": [
    "## Βήμα 8"
   ]
  },
  {
   "cell_type": "markdown",
   "metadata": {},
   "source": [
    "## Βήμα 9\n",
    "Τυπώνοντας μόνο το την τιμή για το πρώτο feature έχουμε:"
   ]
  },
  {
   "cell_type": "markdown",
   "metadata": {},
   "source": [
    "## Βήμα 10\n",
    "Σύμφωνα με τον τύπο $pred(X) = \\arg\\min_{0 \\leq i \\leq 9} \\| \\mu - X \\|_2$ έχουμε:"
   ]
  },
  {
   "cell_type": "markdown",
   "metadata": {},
   "source": [
    "## Βήμα 11\n",
    "Βρίσκοντας την ελάχιστη Ευκλείδεια απόσταση και συγκρίνοντας την με τo label y για κάθε δείγμα στο test set μας έχουμε:"
   ]
  },
  {
   "cell_type": "markdown",
   "metadata": {},
   "source": [
    "\n",
    "## Βήμα 13\n",
    "**(α)**"
   ]
  },
  {
   "cell_type": "markdown",
   "metadata": {},
   "source": [
    "**(γ)** Για όλα μας τα δεδομένα (test και train μαζί) και χρησιμοποιώντας 5-fold cross-validation έχουμε τις παρακάτω καμπύλες εκμάθησης (learning curves):"
   ]
  }
 ],
 "metadata": {
  "kernelspec": {
   "display_name": "Python 3",
   "language": "python",
   "name": "python3"
  },
  "language_info": {
   "codemirror_mode": {
    "name": "ipython",
    "version": 3
   },
   "file_extension": ".py",
   "mimetype": "text/x-python",
   "name": "python",
   "nbconvert_exporter": "python",
   "pygments_lexer": "ipython3",
   "version": "3.7.4"
  }
 },
 "nbformat": 4,
 "nbformat_minor": 2
}
