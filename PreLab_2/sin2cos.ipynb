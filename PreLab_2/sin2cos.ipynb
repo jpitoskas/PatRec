{
 "cells": [
  {
   "cell_type": "code",
   "execution_count": 196,
   "metadata": {},
   "outputs": [],
   "source": [
    "import numpy as np\n",
    "import matplotlib.pyplot as plt\n",
    "import torch\n",
    "from torch import nn\n",
    "from torch.autograd import Variable\n",
    "from numpy.random import shuffle"
   ]
  },
  {
   "cell_type": "code",
   "execution_count": 2,
   "metadata": {},
   "outputs": [],
   "source": [
    "def findInterval(T):\n",
    "    min_a = 0\n",
    "    max_b = 100\n",
    "\n",
    "    low, high = 0, 0\n",
    "    while (low == high):\n",
    "        ab = np.random.randint(min_a, max_b , size=2)\n",
    "        low, high = T*min(ab)/(max_b-min_a), T*max(ab)/(max_b-min_a)\n",
    "#         print(min(ab), max(ab))\n",
    "    return low, high"
   ]
  },
  {
   "cell_type": "code",
   "execution_count": 239,
   "metadata": {},
   "outputs": [
    {
     "name": "stdout",
     "output_type": "stream",
     "text": [
      "Size of inputs:  torch.Size([5000, 10, 1])\n",
      "Size of targets:  torch.Size([5000, 10, 1])\n"
     ]
    }
   ],
   "source": [
    "f = 40\n",
    "T = 1/f\n",
    "w = 2*np.pi*f\n",
    "A = 1\n",
    "\n",
    "n_features = 10\n",
    "n_train_samples = 5000\n",
    "\n",
    "X_train = np.zeros((n_train_samples, n_features))\n",
    "y_train = np.zeros((n_train_samples, n_features))\n",
    "\n",
    "for i in range(n_train_samples):\n",
    "    t1, t2 = findInterval(T)\n",
    "    t = np.linspace(t1, t2, n_features)\n",
    "    X_train[i] = A*np.sin(w*t)\n",
    "    y_train[i] = A*np.cos(w*t)\n",
    "\n",
    "inputs = torch.from_numpy(X_train.reshape((n_train_samples, n_features, -1))).float()\n",
    "print('Size of inputs: ', inputs.size())\n",
    "targets = torch.from_numpy(y_train.reshape((n_train_samples, n_features, -1))).float()\n",
    "print('Size of targets: ', targets.size())\n"
   ]
  },
  {
   "cell_type": "code",
   "execution_count": 224,
   "metadata": {},
   "outputs": [
    {
     "name": "stdout",
     "output_type": "stream",
     "text": [
      "torch.Size([7000, 10, 1]) torch.Size([7000, 10, 1])\n"
     ]
    }
   ],
   "source": [
    "t = np.linspace(0,T, 70000)\n",
    "xsin = np.sin(w*t).reshape(-1,10,1)\n",
    "ycos = np.cos(w*t).reshape(-1,10,1)\n",
    "\n",
    "shuffle(xsin)\n",
    "shuffle(ysin)\n",
    "\n",
    "inputs = torch.from_numpy(xsin).float()\n",
    "targets = torch.from_numpy(ycos).float()\n",
    "\n",
    "print(inputs.size(), targets.size())"
   ]
  },
  {
   "cell_type": "code",
   "execution_count": 244,
   "metadata": {},
   "outputs": [
    {
     "name": "stdout",
     "output_type": "stream",
     "text": [
      "GPU is available\n",
      "cuda\n"
     ]
    }
   ],
   "source": [
    "is_cuda = torch.cuda.is_available()\n",
    "\n",
    "if is_cuda:\n",
    "    device = torch.device(\"cuda\")\n",
    "    print(\"GPU is available\")\n",
    "else:\n",
    "    device = torch.device(\"cpu\")\n",
    "    print(\"GPU not available, CPU used\")\n",
    "    \n",
    "print(device)"
   ]
  },
  {
   "cell_type": "code",
   "execution_count": 240,
   "metadata": {},
   "outputs": [],
   "source": [
    "class Modelo(nn.Module):\n",
    "    \n",
    "    def __init__(self):\n",
    "        super(Modelo, self).__init__()\n",
    "        self.rnn = nn.RNN(input_size=10, \n",
    "                   hidden_size=10, batch_first=True)\n",
    "        \n",
    "    def forward(self, x, hidden):\n",
    "#         print(x.size())\n",
    "#       (batch_size , sequence_length , input_size)\n",
    "        x = x.view(1, 1, 10)\n",
    "        \n",
    "        \n",
    "        out, hidden = self.rnn(x, hidden)\n",
    "#         print('before view out size:', out.size())\n",
    "        out = out.view(-1)\n",
    "#         print('after view out size:', out.size())\n",
    "\n",
    "        \n",
    "        return hidden, out\n",
    "    \n",
    "    def init_hidden(self):\n",
    "        \n",
    "#       (num_layers*num_directions , batch , hidden_size)\n",
    "        return Variable(torch.zeros(1, 1, 10))\n",
    "    "
   ]
  },
  {
   "cell_type": "code",
   "execution_count": 242,
   "metadata": {},
   "outputs": [
    {
     "name": "stdout",
     "output_type": "stream",
     "text": [
      "epoch: 1, loss: 0.707\n",
      "epoch: 2, loss: 0.338\n",
      "epoch: 3, loss: 0.309\n",
      "epoch: 4, loss: 0.262\n",
      "epoch: 5, loss: 0.248\n",
      "epoch: 6, loss: 0.210\n",
      "epoch: 7, loss: 0.195\n",
      "epoch: 8, loss: 0.187\n",
      "epoch: 9, loss: 0.183\n",
      "epoch: 10, loss: 0.179\n",
      "epoch: 11, loss: 0.175\n",
      "epoch: 12, loss: 0.166\n",
      "epoch: 13, loss: 0.160\n",
      "epoch: 14, loss: 0.155\n",
      "epoch: 15, loss: 0.151\n",
      "epoch: 16, loss: 0.147\n",
      "epoch: 17, loss: 0.144\n",
      "epoch: 18, loss: 0.141\n",
      "epoch: 19, loss: 0.139\n",
      "epoch: 20, loss: 0.137\n",
      "epoch: 21, loss: 0.134\n",
      "epoch: 22, loss: 0.133\n",
      "epoch: 23, loss: 0.131\n",
      "epoch: 24, loss: 0.129\n",
      "epoch: 25, loss: 0.128\n",
      "epoch: 26, loss: 0.126\n",
      "epoch: 27, loss: 0.125\n",
      "epoch: 28, loss: 0.123\n",
      "epoch: 29, loss: 0.122\n",
      "epoch: 30, loss: 0.121\n",
      "epoch: 31, loss: 0.120\n",
      "epoch: 32, loss: 0.119\n",
      "epoch: 33, loss: 0.118\n",
      "epoch: 34, loss: 0.117\n",
      "epoch: 35, loss: 0.116\n",
      "epoch: 36, loss: 0.115\n",
      "epoch: 37, loss: 0.114\n",
      "epoch: 38, loss: 0.113\n",
      "epoch: 39, loss: 0.113\n",
      "epoch: 40, loss: 0.112\n",
      "epoch: 41, loss: 0.111\n",
      "epoch: 42, loss: 0.110\n",
      "epoch: 43, loss: 0.110\n",
      "epoch: 44, loss: 0.109\n",
      "epoch: 45, loss: 0.109\n",
      "epoch: 46, loss: 0.108\n",
      "epoch: 47, loss: 0.107\n",
      "epoch: 48, loss: 0.107\n",
      "epoch: 49, loss: 0.106\n",
      "epoch: 50, loss: 0.106\n"
     ]
    }
   ],
   "source": [
    "device = 'cpu'\n",
    "model = Modelo().to(device)\n",
    "\n",
    "criterion = torch.nn.MSELoss()\n",
    "optimizer =torch.optim.SGD(model.parameters(), lr=5e-4)\n",
    "\n",
    "n_epochs = 50\n",
    "for epoch in range(n_epochs):\n",
    "    \n",
    "    model.train()\n",
    "    \n",
    "    hidden = model.init_hidden()\n",
    "    loss = 0.0\n",
    "    for input, target in zip(inputs, targets):\n",
    "    \n",
    "#       wrap in Variable\n",
    "        input, target = Variable(input.to(device)), Variable(target.view(-1).to(device))\n",
    "        \n",
    "#       feed the input and acquire the output from network\n",
    "        hidden, output = model(input, hidden)\n",
    "    \n",
    "#       calculating the predicted and the expected loss\n",
    "        loss += criterion(output.float(), target.float())\n",
    "    \n",
    "#   clear the gradient\n",
    "    optimizer.zero_grad()\n",
    "        \n",
    "#   compute the gradient\n",
    "    loss.backward()\n",
    "\n",
    "#   update the parameters\n",
    "    optimizer.step()     \n",
    "       \n",
    "    print(\"epoch: %d, loss: %1.3f\" % (epoch + 1, loss.data/n_train_samples))\n",
    "    \n",
    "    \n"
   ]
  },
  {
   "cell_type": "code",
   "execution_count": 243,
   "metadata": {},
   "outputs": [
    {
     "name": "stdout",
     "output_type": "stream",
     "text": [
      "torch.Size([10, 1]) torch.Size([10, 1])\n"
     ]
    },
    {
     "data": {
      "image/png": "[encoded data removed]",
      "text/plain": [
       "<Figure size 432x288 with 1 Axes>"
      ]
     },
     "metadata": {
      "needs_background": "light"
     },
     "output_type": "display_data"
    },
    {
     "data": {
      "text/plain": [
       "0.27937254"
      ]
     },
     "execution_count": 243,
     "metadata": {},
     "output_type": "execute_result"
    }
   ],
   "source": [
    "t = np.linspace(0, T, n_features)\n",
    "\n",
    "test_sin = torch.from_numpy(np.sin(w*t)).reshape((1, n_features, -1)).float()\n",
    "test_cos = torch.from_numpy(np.cos(w*t)).reshape((1, n_features, -1)).float()\n",
    "hid = model.init_hidden()\n",
    "\n",
    "for input, target in zip(test_sin, test_cos):\n",
    "    print(input.size(), target.size())\n",
    "    model.eval()\n",
    "    \n",
    "    with torch.no_grad():\n",
    "        hid, out = model(Variable(input), model.init_hidden())\n",
    "    \n",
    "plt.plot(t, test_cos.view(-1))\n",
    "plt.plot(t, out.view(-1), color = 'r')\n",
    "plt.xlabel('Angle [rad]')\n",
    "plt.ylabel('sin(x)')\n",
    "plt.axis('tight')\n",
    "plt.grid()\n",
    "plt.show()\n",
    "\n",
    "# plt.plot(t, out.view(-1))\n",
    "# plt.xlabel('Angle [rad]')\n",
    "# plt.ylabel('sin(x)')\n",
    "# plt.axis('tight')\n",
    "# plt.grid()\n",
    "# plt.show()\n",
    "\n",
    "np.linalg.norm(out.view(-1) - test_cos.view(-1))\n",
    "\n",
    "\n",
    "\n",
    "    \n",
    "    "
   ]
  },
  {
   "cell_type": "code",
   "execution_count": null,
   "metadata": {},
   "outputs": [],
   "source": []
  }
 ],
 "metadata": {
  "kernelspec": {
   "display_name": "Python 3",
   "language": "python",
   "name": "python3"
  },
  "language_info": {
   "codemirror_mode": {
    "name": "ipython",
    "version": 3
   },
   "file_extension": ".py",
   "mimetype": "text/x-python",
   "name": "python",
   "nbconvert_exporter": "python",
   "pygments_lexer": "ipython3",
   "version": "3.6.9"
  }
 },
 "nbformat": 4,
 "nbformat_minor": 2
}
