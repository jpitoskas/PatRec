{
 "cells": [
  {
   "cell_type": "markdown",
   "metadata": {},
   "source": [
    "<center> <h1>Αναγνώριση Προτύπων - 2η Εργαστηριακή Άσκηση</h1> </center>\n",
    "\n",
    "---\n",
    "\n",
    "<center> <h2>Θέμα: Αναγνώριση φωνής με Κρυφά Μαρκοβιανά Μοντέλα και Αναδρομικά Νευρωνικά Δίκτυα</h2> </center>\n",
    "<center> <h2>ΣΧΟΛΗ: ΣΗΜΜΥ</h2> </center>\n",
    "<img src=\"pyrforos-digamma.png\" width=\"100\">\n",
    "\n",
    "Ονοματεπώνυμο | Αριθμός Μητρώου\n",
    "------------ | -------------\n",
    "Γιάννης Πιτόσκας | 03115077\n",
    "Αντώνης Παπαοικονόμου | 03115140"
   ]
  },
  {
   "cell_type": "code",
   "execution_count": null,
   "metadata": {},
   "outputs": [],
   "source": []
  }
 ],
 "metadata": {
  "kernelspec": {
   "display_name": "Python 3",
   "language": "python",
   "name": "python3"
  },
  "language_info": {
   "codemirror_mode": {
    "name": "ipython",
    "version": 3
   },
   "file_extension": ".py",
   "mimetype": "text/x-python",
   "name": "python",
   "nbconvert_exporter": "python",
   "pygments_lexer": "ipython3",
   "version": "3.6.6"
  }
 },
 "nbformat": 4,
 "nbformat_minor": 2
}
