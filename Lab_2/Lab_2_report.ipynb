{
 "cells": [
  {
   "cell_type": "markdown",
   "metadata": {},
   "source": [
    "<center> <h1>Αναγνώριση Προτύπων - 2η Εργαστηριακή Άσκηση</h1> </center>\n",
    "\n",
    "---\n",
    "\n",
    "<center> <h2>Θέμα: Αναγνώριση φωνής με Κρυφά Μαρκοβιανά Μοντέλα και Αναδρομικά Νευρωνικά Δίκτυα</h2> </center>\n",
    "<center> <h2>ΣΧΟΛΗ: ΣΗΜΜΥ</h2> </center>\n",
    "<img src=\"pyrforos-digamma.png\" width=\"100\">\n",
    "\n",
    "Ονοματεπώνυμο | Αριθμός Μητρώου\n",
    "------------ | -------------\n",
    "Γιάννης Πιτόσκας | 03115077\n",
    "Αντώνης Παπαοικονόμου | 03115140"
   ]
  },
  {
   "cell_type": "code",
   "execution_count": 1,
   "metadata": {
    "scrolled": true
   },
   "outputs": [
    {
     "name": "stdout",
     "output_type": "stream",
     "text": [
      "Requirement already up-to-date: pip in c:\\python36\\lib\\site-packages (19.3.1)\n",
      "Requirement already up-to-date: scikit-learn in c:\\python36\\lib\\site-packages (0.22)\n",
      "Requirement already satisfied, skipping upgrade: numpy>=1.11.0 in c:\\python36\\lib\\site-packages (from scikit-learn) (1.18.0)\n",
      "Requirement already satisfied, skipping upgrade: scipy>=0.17.0 in c:\\python36\\lib\\site-packages (from scikit-learn) (1.1.0)\n",
      "Requirement already satisfied, skipping upgrade: joblib>=0.11 in c:\\python36\\lib\\site-packages (from scikit-learn) (0.14.1)\n",
      "Requirement already up-to-date: numpy in c:\\python36\\lib\\site-packages (1.18.0)\n",
      "Requirement already up-to-date: joblib in c:\\python36\\lib\\site-packages (0.14.1)\n",
      "Requirement already satisfied: seaborn in c:\\python36\\lib\\site-packages (0.9.0)\n",
      "Requirement already satisfied: matplotlib>=1.4.3 in c:\\python36\\lib\\site-packages (from seaborn) (3.1.2)\n",
      "Requirement already satisfied: numpy>=1.9.3 in c:\\python36\\lib\\site-packages (from seaborn) (1.18.0)\n",
      "Requirement already satisfied: scipy>=0.14.0 in c:\\python36\\lib\\site-packages (from seaborn) (1.1.0)\n",
      "Requirement already satisfied: pandas>=0.15.2 in c:\\python36\\lib\\site-packages (from seaborn) (0.25.3)\n",
      "Requirement already satisfied: cycler>=0.10 in c:\\python36\\lib\\site-packages (from matplotlib>=1.4.3->seaborn) (0.10.0)\n",
      "Requirement already satisfied: pyparsing!=2.0.4,!=2.1.2,!=2.1.6,>=2.0.1 in c:\\python36\\lib\\site-packages (from matplotlib>=1.4.3->seaborn) (2.3.1)\n",
      "Requirement already satisfied: python-dateutil>=2.1 in c:\\python36\\lib\\site-packages (from matplotlib>=1.4.3->seaborn) (2.7.5)\n",
      "Requirement already satisfied: kiwisolver>=1.0.1 in c:\\python36\\lib\\site-packages (from matplotlib>=1.4.3->seaborn) (1.0.1)\n",
      "Requirement already satisfied: pytz>=2017.2 in c:\\python36\\lib\\site-packages (from pandas>=0.15.2->seaborn) (2019.3)\n",
      "Requirement already satisfied: six in c:\\users\\anton\\appdata\\roaming\\python\\python36\\site-packages (from cycler>=0.10->matplotlib>=1.4.3->seaborn) (1.12.0)\n",
      "Requirement already satisfied: setuptools in c:\\python36\\lib\\site-packages (from kiwisolver>=1.0.1->matplotlib>=1.4.3->seaborn) (39.0.1)\n",
      "Requirement already satisfied: librosa in c:\\python36\\lib\\site-packages (0.7.1)\n",
      "Requirement already satisfied: audioread>=2.0.0 in c:\\python36\\lib\\site-packages (from librosa) (2.1.8)\n",
      "Requirement already satisfied: numpy>=1.15.0 in c:\\python36\\lib\\site-packages (from librosa) (1.18.0)\n",
      "Requirement already satisfied: scipy>=1.0.0 in c:\\python36\\lib\\site-packages (from librosa) (1.1.0)\n",
      "Requirement already satisfied: scikit-learn!=0.19.0,>=0.14.0 in c:\\python36\\lib\\site-packages (from librosa) (0.22)\n",
      "Requirement already satisfied: joblib>=0.12 in c:\\python36\\lib\\site-packages (from librosa) (0.14.1)\n",
      "Requirement already satisfied: decorator>=3.0.0 in c:\\python36\\lib\\site-packages (from librosa) (4.4.1)\n",
      "Requirement already satisfied: six>=1.3 in c:\\users\\anton\\appdata\\roaming\\python\\python36\\site-packages (from librosa) (1.12.0)\n",
      "Requirement already satisfied: resampy>=0.2.2 in c:\\python36\\lib\\site-packages (from librosa) (0.2.2)\n",
      "Requirement already satisfied: numba>=0.43.0 in c:\\python36\\lib\\site-packages (from librosa) (0.46.0)\n",
      "Requirement already satisfied: soundfile>=0.9.0 in c:\\python36\\lib\\site-packages (from librosa) (0.10.3.post1)\n",
      "Requirement already satisfied: llvmlite>=0.30.0dev0 in c:\\python36\\lib\\site-packages (from numba>=0.43.0->librosa) (0.30.0)\n",
      "Requirement already satisfied: cffi>=1.0 in c:\\python36\\lib\\site-packages (from soundfile>=0.9.0->librosa) (1.13.2)\n",
      "Requirement already satisfied: pycparser in c:\\python36\\lib\\site-packages (from cffi>=1.0->soundfile>=0.9.0->librosa) (2.19)\n",
      "Requirement already satisfied: inflect in c:\\python36\\lib\\site-packages (4.0.0)\n",
      "Requirement already satisfied: importlib-metadata; python_version < \"3.8\" in c:\\python36\\lib\\site-packages (from inflect) (0.23)\n",
      "Requirement already satisfied: zipp>=0.5 in c:\\python36\\lib\\site-packages (from importlib-metadata; python_version < \"3.8\"->inflect) (0.6.0)\n",
      "Requirement already satisfied: more-itertools in c:\\python36\\lib\\site-packages (from zipp>=0.5->importlib-metadata; python_version < \"3.8\"->inflect) (7.2.0)\n",
      "Requirement already satisfied: word2number in c:\\python36\\lib\\site-packages (1.1)\n",
      "Requirement already satisfied: pomegranate in c:\\python36\\lib\\site-packages (0.12.0)\n",
      "Requirement already satisfied: networkx>=2.0 in c:\\python36\\lib\\site-packages (from pomegranate) (2.4)\n",
      "Requirement already satisfied: joblib>=0.9.0b4 in c:\\python36\\lib\\site-packages (from pomegranate) (0.14.1)\n",
      "Requirement already satisfied: numpy>=1.8.0 in c:\\python36\\lib\\site-packages (from pomegranate) (1.18.0)\n",
      "Requirement already satisfied: pyyaml in c:\\python36\\lib\\site-packages (from pomegranate) (5.2)\n",
      "Requirement already satisfied: scipy>=0.17.0 in c:\\python36\\lib\\site-packages (from pomegranate) (1.1.0)\n",
      "Requirement already satisfied: decorator>=4.3.0 in c:\\python36\\lib\\site-packages (from networkx>=2.0->pomegranate) (4.4.1)\n"
     ]
    }
   ],
   "source": [
    "!pip3 install --upgrade pip\n",
    "!pip3 install scikit-learn --upgrade\n",
    "!pip3 install numpy --upgrade\n",
    "!pip3 install --upgrade joblib\n",
    "!pip3 install seaborn\n",
    "!pip3 install librosa\n",
    "!pip3 install inflect\n",
    "!pip3 install word2number\n",
    "!pip3 install pomegranate"
   ]
  },
  {
   "cell_type": "markdown",
   "metadata": {},
   "source": [
    "# Προπαρασκευή 2ου Εργαστηρίου:"
   ]
  },
  {
   "cell_type": "markdown",
   "metadata": {},
   "source": [
    "## Βήμα 1\n",
    "Χρησιμοποιώντας το πρόγραμμα `Praat` για την ανάλυση των αρχείων ήχου έχουμε:"
   ]
  },
  {
   "cell_type": "code",
   "execution_count": 1,
   "metadata": {},
   "outputs": [],
   "source": [
    "import subprocess\n",
    "import os\n",
    "\n",
    "data_path = os.path.dirname(\"./pr_lab2_2019-20_data/\")\n",
    "\n",
    "def usePraat(file, text):\n",
    "    try:\n",
    "        subprocess.call([\"/Applications/Praat.app/Contents/MacOS/Praat\", \"--open\", file])\n",
    "    except OSError as e:\n",
    "        if e.errno == errno.ENOENT:\n",
    "            # handle file not found error\n",
    "            print(\"Please download Praat and use the installation path when calling it\")\n",
    "        else:\n",
    "            # Something else went wrong while trying to run\n",
    "            print(\"An error occured\")\n",
    "            raise\n",
    "            \n",
    "# usePraat(data_path + \"/onetwothree1.wav\", \"one two three\")\n",
    "# usePraat(data_path + \"/onetwothree8.wav\", \"one two three\")"
   ]
  },
  {
   "cell_type": "markdown",
   "metadata": {},
   "source": [
    "<img src=\"pitch_mean_onetwothree1.png\">\n",
    "<img src=\"pitch_mean_onetwothree8.png\">\n",
    "<img src=\"formants_onetwothree1.png\">\n",
    "<img src=\"formants_onetwothree8.png\">\n",
    "\n",
    "999.7624910757692 Hz (mean F1 in SELECTION)<br>\n",
    "2568.2020920385485 Hz (mean F2 in SELECTION)<br>\n",
    "3763.962970328683 Hz (mean F3 in SELECTION)<br>\n",
    "<br>\n",
    "1522.7387179790562 Hz (mean F1 in SELECTION)<br>\n",
    "2958.5714711553173 Hz (mean F2 in SELECTION)<br>\n",
    "3924.813236998355 Hz (mean F3 in SELECTION)<br>\n",
    "<br>\n",
    "1564.9136738911895 Hz (mean F1 in SELECTION)<br>\n",
    "3106.0191007879434 Hz (mean F2 in SELECTION)<br>\n",
    "3908.220816228914 Hz (mean F3 in SELECTION)<br>\n",
    "<br>\n",
    "<br>\n",
    "579.574899251275 Hz (mean F1 in SELECTION)<br>\n",
    "1806.3230037579995 Hz (mean F2 in SELECTION)<br>\n",
    "2847.797227900949 Hz (mean F3 in SELECTION)<br>\n",
    "<br>\n",
    "530.4466184919183 Hz (mean F1 in SELECTION)<br>\n",
    "1786.186919057703 Hz (mean F2 in SELECTION)<br>\n",
    "2801.8758790729344 Hz (mean F3 in SELECTION)<br>\n",
    "<br>\n",
    "494.06899004212613 Hz (mean F1 in SELECTION)<br>\n",
    "2096.0501422577026 Hz (mean F2 in SELECTION)<br>\n",
    "2775.4912341476625 Hz (mean F3 in SELECTION)<br>"
   ]
  },
  {
   "cell_type": "markdown",
   "metadata": {},
   "source": [
    "## Βήμα 2\n",
    "Εκτός από τις 3 λίστες της εκφώνησης (αρχεία ήχου, ομιλιτές και τα ψηφία) θα χρειαστούμε και το sample rate"
   ]
  },
  {
   "cell_type": "code",
   "execution_count": 3,
   "metadata": {},
   "outputs": [
    {
     "data": {
      "text/html": [
       "\n",
       "                <audio  controls=\"controls\" >\n",
       "                    <source src=\"data:audio/wav;base64,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\" type=\"audio/wav\" />\n",
       "                    Your browser does not support the audio element.\n",
       "                </audio>\n",
       "              "
      ],
      "text/plain": [
       "<IPython.lib.display.Audio object>"
      ]
     },
     "execution_count": 3,
     "metadata": {},
     "output_type": "execute_result"
    },
    {
     "data": {
      "image/png": "[encoded data removed]",
      "text/plain": [
       "<Figure size 432x288 with 1 Axes>"
      ]
     },
     "metadata": {
      "needs_background": "light"
     },
     "output_type": "display_data"
    }
   ],
   "source": [
    "import os\n",
    "import re\n",
    "import numpy as np\n",
    "import librosa\n",
    "import IPython.display\n",
    "import librosa.display\n",
    "import matplotlib.pyplot as plt\n",
    "\n",
    "\n",
    "digits_dir = data_path + \"/digits/\"\n",
    "\n",
    "def dataLoader(path):\n",
    "    wavs = []\n",
    "    speakers = []\n",
    "    digits = []\n",
    "\n",
    "    for filename in os.listdir(path):\n",
    "        if filename.endswith(\".wav\"):\n",
    "            \n",
    "            wav, sr = librosa.load(os.path.join(path, filename))\n",
    "            wavs.append(wav)\n",
    "            \n",
    "            # split characters from numbers\n",
    "            file = re.split('(\\d+)',filename)\n",
    "            speakers.append(int(file[1]))\n",
    "            digits.append(file[0])\n",
    "    \n",
    "    return wavs, speakers, digits, sr\n",
    "\n",
    "wavs, speakers, digits, sr = dataLoader(digits_dir)\n",
    "\n",
    "# Print example\n",
    "librosa.display.waveplot(wavs[0], sr=sr)\n",
    "plt.title(\"Digit: \"+str(digits[0])+\" for speaker: \"+str(speakers[0]))\n",
    "IPython.display.Audio(wavs[0], rate=sr)"
   ]
  },
  {
   "cell_type": "markdown",
   "metadata": {},
   "source": [
    "## Βήμα 3\n",
    "Για τα `Mel-Frequency Cepstral Coefficients` έχουμε:"
   ]
  },
  {
   "cell_type": "code",
   "execution_count": 5,
   "metadata": {},
   "outputs": [
    {
     "data": {
      "image/png": "[encoded data removed]",
      "text/plain": [
       "<Figure size 432x288 with 6 Axes>"
      ]
     },
     "metadata": {
      "needs_background": "light"
     },
     "output_type": "display_data"
    }
   ],
   "source": [
    "mfccs = []\n",
    "mfcc_deltas = []\n",
    "mfcc_delta_deltas = []\n",
    "\n",
    "for wav in wavs:\n",
    "    mfcc = librosa.feature.mfcc(y=wav, n_mfcc=13, hop_length=int(0.010*sr), n_fft=int(0.025*sr))\n",
    "    mfcc_delta = librosa.feature.delta(mfcc, order=1)\n",
    "    mfcc_delta_delta = librosa.feature.delta(mfcc, order=2)\n",
    "    mfccs.append(mfcc)\n",
    "    mfcc_deltas.append(mfcc_delta)\n",
    "    mfcc_delta_deltas.append(mfcc_delta_delta)\n",
    "\n",
    "    \n",
    "plt.subplot(3, 1, 1)\n",
    "librosa.display.specshow(mfcc)\n",
    "plt.title('MFCC')\n",
    "plt.colorbar()\n",
    "plt.subplot(3, 1, 2)\n",
    "librosa.display.specshow(mfcc_delta)\n",
    "plt.title(r'MFCC-$\\Delta$')\n",
    "plt.colorbar()\n",
    "plt.subplot(3, 1, 3)\n",
    "librosa.display.specshow(mfcc_delta_delta, x_axis='time')\n",
    "plt.title(r'MFCC-$\\Delta^2$')\n",
    "plt.colorbar()\n",
    "plt.tight_layout()\n",
    "plt.show()"
   ]
  },
  {
   "cell_type": "markdown",
   "metadata": {},
   "source": [
    "## Βήμα 4\n",
    "Για $n_1 = 4$, $n_2 = 3$ έχουμε τα παρακάτω ιστογράμματα:"
   ]
  },
  {
   "cell_type": "code",
   "execution_count": 7,
   "metadata": {},
   "outputs": [
    {
     "data": {
      "image/png": "[encoded data removed]",
      "text/plain": [
       "<Figure size 432x288 with 1 Axes>"
      ]
     },
     "metadata": {
      "needs_background": "light"
     },
     "output_type": "display_data"
    },
    {
     "data": {
      "image/png": "[encoded data removed]",
      "text/plain": [
       "<Figure size 432x288 with 1 Axes>"
      ]
     },
     "metadata": {
      "needs_background": "light"
     },
     "output_type": "display_data"
    }
   ],
   "source": [
    "import matplotlib.pyplot as plt\n",
    "import seaborn as sns\n",
    "import inflect\n",
    "\n",
    "n1 = 4\n",
    "n2 = 3\n",
    "s1 = inflect.engine().number_to_words(n1)\n",
    "s2 = inflect.engine().number_to_words(n2)\n",
    "\n",
    "for index in range(len(wavs)):\n",
    "    if digits[index] == s1:\n",
    "        ax = sns.distplot(mfccs[index][0])\n",
    "        bx = sns.distplot(mfccs[index][1])\n",
    "plt.title(\"First and Second MFCC for digit \" + str(n1))\n",
    "plt.show()\n",
    "\n",
    "for index in range(len(wavs)):\n",
    "    if digits[index] == s2:\n",
    "        ax = sns.distplot(mfccs[index][0])\n",
    "        bx = sns.distplot(mfccs[index][1])\n",
    "plt.title(\"First and Second MFCC for digit \" + str(n2))\n",
    "plt.show()"
   ]
  },
  {
   "cell_type": "markdown",
   "metadata": {},
   "source": [
    ">Όπως παρατηρούμε και γραφικά, οι τιμές των πρώτων συντελεστών έχουν μεγαλύτερη απόκλιση απότι αυτές των δεύτερων"
   ]
  },
  {
   "cell_type": "code",
   "execution_count": 8,
   "metadata": {},
   "outputs": [
    {
     "data": {
      "image/png": "[encoded data removed]",
      "text/plain": [
       "<Figure size 432x288 with 4 Axes>"
      ]
     },
     "metadata": {
      "needs_background": "light"
     },
     "output_type": "display_data"
    },
    {
     "data": {
      "image/png": "[encoded data removed]",
      "text/plain": [
       "<Figure size 432x288 with 4 Axes>"
      ]
     },
     "metadata": {
      "needs_background": "light"
     },
     "output_type": "display_data"
    }
   ],
   "source": [
    "import librosa.display\n",
    "import random\n",
    "\n",
    "rand_sp_1 = random.randint(1, len(set(speakers)))\n",
    "rand_sp_2 = random.randint(1, len(set(speakers)))\n",
    "while(rand_sp_2 == rand_sp_1):\n",
    "    rand_sp_2 = random.randint(1, len(set(speakers)))\n",
    "\n",
    "for index in range(len(wavs)):\n",
    "    if speakers[index] == rand_sp_1:\n",
    "        if digits[index] == s1:\n",
    "            mfcc = librosa.feature.mfcc(y=wavs[index], n_mfcc=13, hop_length=int(0.010*sr), n_fft=int(0.025*sr))\n",
    "            mfsc = librosa.feature.melspectrogram(y=wavs[index], n_mels=13, hop_length=int(0.010*sr), n_fft=int(0.025*sr))\n",
    "            plt.subplot(2, 1, 1)\n",
    "            librosa.display.specshow(mfcc)\n",
    "            plt.title('MFCC')\n",
    "            plt.colorbar()\n",
    "            plt.subplot(2, 1, 2)\n",
    "            librosa.display.specshow(mfsc)\n",
    "            plt.title('MFSC')\n",
    "            plt.colorbar()\n",
    "            plt.tight_layout()\n",
    "            plt.show()\n",
    "\n",
    "    if speakers[index] == rand_sp_2:\n",
    "        if digits[index] == s2:\n",
    "            mfcc = librosa.feature.mfcc(y=wavs[index], n_mfcc=13, hop_length=int(0.010*sr), n_fft=int(0.025*sr))\n",
    "            mfsc = librosa.feature.melspectrogram(y=wavs[index], n_mels=13, hop_length=int(0.010*sr), n_fft=int(0.025*sr))\n",
    "            plt.subplot(2, 1, 1)\n",
    "            librosa.display.specshow(mfcc)\n",
    "            plt.title('MFCC')\n",
    "            plt.colorbar()\n",
    "            plt.subplot(2, 1, 2)\n",
    "            librosa.display.specshow(mfsc)\n",
    "            plt.title('MFSC')\n",
    "            plt.colorbar()\n",
    "            plt.tight_layout()\n",
    "            plt.show()"
   ]
  },
  {
   "cell_type": "markdown",
   "metadata": {},
   "source": [
    ">Παρατηρούμε πως δεν έχουμε correlation όταν δεν έχουμε εφαρμόσει τον `DCT` καθώς και το οτι στην κλίμακα των `MFSCs` η πληροφορία είναι συμπυκνωμένη. Επομένως, η χρήση των `MFCCs` είναι η πιο επιθυμητή"
   ]
  },
  {
   "cell_type": "markdown",
   "metadata": {},
   "source": [
    "## Βήμα 5\n",
    "\n",
    "Ενώνοντας τις λίστες των `mfccs`, `deltas` και `delta-deltas` και βρίσκοντας την μέση τιμή παίρνουμε:"
   ]
  },
  {
   "cell_type": "code",
   "execution_count": 9,
   "metadata": {},
   "outputs": [
    {
     "data": {
      "image/png": "[encoded data removed]",
      "text/plain": [
       "<Figure size 432x288 with 1 Axes>"
      ]
     },
     "metadata": {
      "needs_background": "light"
     },
     "output_type": "display_data"
    },
    {
     "data": {
      "image/png": "[encoded data removed]",
      "text/plain": [
       "<Figure size 432x288 with 1 Axes>"
      ]
     },
     "metadata": {
      "needs_background": "light"
     },
     "output_type": "display_data"
    }
   ],
   "source": [
    "from word2number import w2n\n",
    "\n",
    "digit_nums = []\n",
    "\n",
    "for word in digits:\n",
    "    digit_nums.append(w2n.word_to_num(word))\n",
    "\n",
    "features = []\n",
    "means = []\n",
    "variances = []\n",
    "\n",
    "for i in range(len(wavs)):\n",
    "    features.append(np.concatenate((mfccs[i], mfcc_deltas[i], mfcc_delta_deltas[i])))\n",
    "    means.append(np.mean(features[i], axis=1))\n",
    "    variances.append(np.var(features[i], axis=1))\n",
    "\n",
    "\n",
    "fig1, ax = plt.subplots()\n",
    "\n",
    "group = np.array(digits)\n",
    "scatter_x = np.array(means)\n",
    "for g in np.unique(group):\n",
    "    ix = np.where(group == g)\n",
    "    ax.scatter(scatter_x[ix][0], scatter_x[ix][1], label = g)\n",
    "\n",
    "ax.legend(loc=\"best\", title=\"Digits\")\n",
    "plt.title(\"First two dimensions using Mean values\")\n",
    "\n",
    "\n",
    "fig2, bx = plt.subplots()\n",
    "\n",
    "group = np.array(digits)\n",
    "scatter_x = np.array(variances)\n",
    "for g in np.unique(group):\n",
    "    ix = np.where(group == g)\n",
    "    bx.scatter(scatter_x[ix][0], scatter_x[ix][1], label = g)\n",
    "\n",
    "bx.legend(loc=\"best\", title=\"Digits\")\n",
    "plt.title(\"First two dimensions using Variance values\")\n",
    "\n",
    "plt.show()"
   ]
  },
  {
   "cell_type": "markdown",
   "metadata": {},
   "source": [
    ">Παρατηρούμε πως δεν υπάρχει κάποιος ευκρινής διαχωρισμός στα `means`, με την ομαδοποίηση στα `variances` να είναι κάπως καλύτερη"
   ]
  },
  {
   "cell_type": "markdown",
   "metadata": {},
   "source": [
    "## Βήμα 6\n",
    "Ενώνοντας τους πίνακες των μέσων τιμών και των διασπορών και για μείωση των διαστάσεων σε 2 έχουμε χρησιμοποιώντας το `Principal Conponent Analysis`:"
   ]
  },
  {
   "cell_type": "code",
   "execution_count": 10,
   "metadata": {},
   "outputs": [
    {
     "data": {
      "image/png": "[encoded data removed]",
      "text/plain": [
       "<Figure size 432x288 with 1 Axes>"
      ]
     },
     "metadata": {
      "needs_background": "light"
     },
     "output_type": "display_data"
    }
   ],
   "source": [
    "import numpy as np\n",
    "from sklearn.decomposition import PCA\n",
    "\n",
    "mean_and_var = []\n",
    "\n",
    "for i in range(len(wavs)):\n",
    "    mean_and_var.append(np.concatenate((means[i], variances[i])))\n",
    "\n",
    "pca2 = PCA(n_components=2)\n",
    "principalComponents2D = pca2.fit_transform(mean_and_var)\n",
    "\n",
    "\n",
    "fig1, ax = plt.subplots()\n",
    "\n",
    "group = np.array(digits)\n",
    "scatter_x = np.array(principalComponents2D)\n",
    "for g in np.unique(group):\n",
    "    ix = np.where(group == g)\n",
    "    ax.scatter(scatter_x[ix][0], scatter_x[ix][1], label = g)\n",
    "\n",
    "ax.legend(loc=\"best\", title=\"Digits\")\n",
    "plt.title(\"2D dimension reduction using PCA\")\n",
    "\n",
    "plt.show()"
   ]
  },
  {
   "cell_type": "markdown",
   "metadata": {},
   "source": [
    "Στην συνέχεια για 3 διαστάσεις έχουμε πάλι με `PCA`:"
   ]
  },
  {
   "cell_type": "code",
   "execution_count": 11,
   "metadata": {},
   "outputs": [
    {
     "data": {
      "image/png": "[encoded data removed]",
      "text/plain": [
       "<Figure size 432x288 with 1 Axes>"
      ]
     },
     "metadata": {
      "needs_background": "light"
     },
     "output_type": "display_data"
    }
   ],
   "source": [
    "from mpl_toolkits.mplot3d import Axes3D\n",
    "\n",
    "pca3 = PCA(n_components=3)\n",
    "principalComponents3D = pca3.fit_transform(mean_and_var)\n",
    "\n",
    "fig = plt.figure()\n",
    "ax = fig.add_subplot(projection='3d')\n",
    "\n",
    "group = np.array(digits)\n",
    "scatter_x = np.array(principalComponents3D)\n",
    "for g in np.unique(group):\n",
    "    ix = np.where(group == g)\n",
    "    ax.scatter(scatter_x[ix][0], scatter_x[ix][1], scatter_x[ix][2], label = g)\n",
    "\n",
    "ax.legend(loc=\"best\", title=\"Digits\", fontsize = 'small')\n",
    "plt.title(\"3D dimension reduction using PCA\")\n",
    "\n",
    "plt.show()"
   ]
  },
  {
   "cell_type": "markdown",
   "metadata": {},
   "source": [
    ">Η ομαδοποίηση κυρίως στις 2 διαστάσεις αλλά και στις 3 παρουσιάζει σημαντική βελτίωση σε σχέση με τα προηγούμενα αποτελέσματα"
   ]
  },
  {
   "cell_type": "markdown",
   "metadata": {},
   "source": [
    "## Βήμα 7\n",
    "Χωρίζοντας τα δεδομένα σε `train` και `test` με ποσοστά $70\\% - 30\\%$ αντίστοιχα, αφού τα κανονικοποιήσουμε έχουμε:"
   ]
  },
  {
   "cell_type": "code",
   "execution_count": 12,
   "metadata": {},
   "outputs": [],
   "source": [
    "import numpy as np\n",
    "from sklearn.model_selection import train_test_split\n",
    "from sklearn.preprocessing import StandardScaler\n",
    "\n",
    "norm_features = StandardScaler().fit_transform(mean_and_var)\n",
    "\n",
    "X_train, X_test, y_train, y_test = train_test_split(norm_features, digit_nums, test_size=0.30, shuffle=True)"
   ]
  },
  {
   "cell_type": "markdown",
   "metadata": {},
   "source": [
    "Για τον ταξινομητή Naive Bayes έχουμε από την πρώτη εργαστηριακή άσκηση:"
   ]
  },
  {
   "cell_type": "code",
   "execution_count": 13,
   "metadata": {},
   "outputs": [],
   "source": [
    "from sklearn.base import BaseEstimator, ClassifierMixin\n",
    "from collections import defaultdict\n",
    "import numpy as np\n",
    "\n",
    "class NaiveBayesClassifier(BaseEstimator, ClassifierMixin):\n",
    "    \"\"\"Classify samples based on applying Bayes theorem with\n",
    "       strong (naïve) independence assumptions between the features\"\"\"\n",
    "\n",
    "    def __init__(self, unitVar = False):\n",
    "        self.X_mean_ = None\n",
    "        self.X_var_ = None\n",
    "        self.n_samples = None\n",
    "        self.n_features = None\n",
    "        self.n_classes = None\n",
    "        self.idx2class = None\n",
    "        self.class2idx = None\n",
    "        self.unitVar = unitVar\n",
    "\n",
    "\n",
    "    def fit(self, X, y):\n",
    "\n",
    "        \"\"\"\n",
    "        This should fit classifier. All the \"work\" should be done here.\n",
    "\n",
    "        Calculates self.X_mean_ self.X_mean_var and self.a_priori_ based on the mean and variance\n",
    "        feature values in X for each class, and on the prior probability feature values of each class.\n",
    "\n",
    "        self.X_mean_ becomes a numpy.ndarray of shape\n",
    "        (n_classes, n_features)\n",
    "\n",
    "        self.X_var_ becomes a numpy.ndarray of shape\n",
    "        (n_classes, n_features)\n",
    "\n",
    "        self.a_priori_ becomes a dictionary of shape\n",
    "        with n_classes number of keys\n",
    "\n",
    "        fit always returns self.\n",
    "        \"\"\"\n",
    "\n",
    "        n_samples, n_features = X.shape\n",
    "        n_classes = len(set(y))\n",
    "        self.idx2class = np.unique(y)\n",
    "\n",
    "        self.class2idx = defaultdict(lambda: None, {})\n",
    "\n",
    "        for idx in range(n_classes):\n",
    "            cl = self.idx2class[idx]\n",
    "            self.class2idx[cl] = idx\n",
    "\n",
    "        self.n_samples = n_samples\n",
    "        self.n_features = n_features\n",
    "        self.n_classes = n_classes\n",
    "\n",
    "        cnt = np.zeros(n_classes)\n",
    "        mean_val = np.zeros((n_classes, n_features))\n",
    "        var_val = np.zeros((n_classes, n_features))\n",
    "\n",
    "        for i in range(n_samples):\n",
    "            idx = self.class2idx[y[i]]\n",
    "            cnt[idx] = cnt[idx] + 1\n",
    "            mean_val[idx] = mean_val[idx] + X[i]\n",
    "\n",
    "        # Mean\n",
    "        for i in range(n_classes):\n",
    "            mean_val[i] = mean_val[i] / cnt[i]\n",
    "\n",
    "        # Variance\n",
    "        if (self.unitVar):\n",
    "            var_val = np.ones((n_classes, n_features))\n",
    "        else:\n",
    "            for idx in range(n_classes):\n",
    "                var_val[idx] = np.var(X[y == self.idx2class[idx]], axis = 0)\n",
    "            var_val += np.finfo(np.float32).eps\n",
    "            # var_val[var_val == 0] = np.finfo(np.float32).eps\n",
    "\n",
    "        # Step 14 - a priori probabilities\n",
    "        labels, counts = np.unique(y, return_counts = True)\n",
    "        a_priori = defaultdict(lambda : 0, {})\n",
    "        for label, cnt in zip(labels, counts):\n",
    "            a_priori[label] = cnt / y.size\n",
    "\n",
    "        self.X_mean_ = mean_val\n",
    "        self.X_var_ = var_val\n",
    "        self.a_priori_ = a_priori\n",
    "\n",
    "        return self\n",
    "\n",
    "\n",
    "    def predict(self, X):\n",
    "        \"\"\"\n",
    "        Make predictions for X based on\n",
    "        Bayes Theroem using Gaussian distributions\n",
    "        \"\"\"\n",
    "\n",
    "\n",
    "        def gaussian_logpdf_vector(xs, ms, vs):\n",
    "\n",
    "            gaussian_logpdf_1d = lambda x, m, v : -0.5*np.log(2*np.pi * v) - 0.5*(((x - m)**2 )/ v)\n",
    "            prob = 0\n",
    "            for x, m, v in zip(xs, ms, vs):\n",
    "                prob += gaussian_logpdf_1d(x, m, v)\n",
    "            return prob\n",
    "\n",
    "        n_test_samples, _ = X.shape\n",
    "        C = np.zeros(n_test_samples)\n",
    "        for i in range(n_test_samples):\n",
    "            maxi = float(\"-inf\")\n",
    "            prediction = 0\n",
    "            for idx in range(self.n_classes):\n",
    "                log_prob1 = gaussian_logpdf_vector(X[i], self.X_mean_[idx], self.X_var_[idx])\n",
    "                log_prob2 = np.log(self.a_priori_[self.idx2class[idx]])\n",
    "                log_prob = log_prob1 + log_prob2\n",
    "                if log_prob >= maxi:\n",
    "                    prediction = idx\n",
    "                    maxi = log_prob\n",
    "            C[i] = self.idx2class[prediction]\n",
    "\n",
    "        return C\n",
    "\n",
    "\n",
    "    def score(self, X, y):\n",
    "\n",
    "        \"\"\"\n",
    "        Return accuracy score on the predictions\n",
    "        for X based on ground truth y\n",
    "        \"\"\"\n",
    "\n",
    "        n_test_samples, _ = X.shape\n",
    "        accuracy = sum(np.equal(self.predict(X), y)) / n_test_samples\n",
    "\n",
    "        return accuracy\n"
   ]
  },
  {
   "cell_type": "code",
   "execution_count": 41,
   "metadata": {},
   "outputs": [
    {
     "name": "stdout",
     "output_type": "stream",
     "text": [
      "Naive Bayes Classifier (with our implementation) score is: 0.675 \n",
      "\n",
      "The GaussianNB Classifier score is: 0.675\n",
      "The GaussianNB Classifier score using 5-Fold Cross-Validation is: 0.5871794871794871 \n",
      "\n",
      "The Logistic Regression Classifier score is: 0.825\n",
      "The Logistic Regression Classifier score using 5-Fold Cross-Validation is: 0.7062678062678063 \n",
      "\n",
      "The KNN Classifier with k = 3 score is: 0.45\n",
      "The KNN Classifier with k = 3 score using 5-Fold Cross-Validation is: 0.549002849002849 \n",
      "\n",
      "The SVM Classifier score with rbf kernel and gamma='auto' is: 0.65\n",
      "The SVM Classifier score with rbf kernel and gamma='auto' using 5-Fold Cross-Validation is: 0.6988603988603989 \n",
      "\n"
     ]
    }
   ],
   "source": [
    "from sklearn.naive_bayes import GaussianNB\n",
    "from sklearn.linear_model import LogisticRegression\n",
    "from sklearn.neighbors import KNeighborsClassifier\n",
    "from sklearn import svm\n",
    "from sklearn.model_selection import cross_val_score\n",
    "import warnings\n",
    "\n",
    "myGNB = NaiveBayesClassifier().fit(np.array(X_train), np.array(y_train))\n",
    "print(\"Naive Bayes Classifier (with our implementation) score is:\", myGNB.score(np.array(X_test),\n",
    "                                                                                np.array(y_test)), \"\\n\")\n",
    "\n",
    "# Gaussian Naive Bayes\n",
    "gnb = GaussianNB().fit(X_train, y_train)\n",
    "print(\"The GaussianNB Classifier score is:\", gnb.score(X_test, y_test))\n",
    "print(\"The GaussianNB Classifier score using 5-Fold Cross-Validation is:\",\n",
    "      np.mean(cross_val_score(gnb, norm_features, digits, cv = 5)), \"\\n\")\n",
    "\n",
    "# Logistic Regression\n",
    "lr = LogisticRegression(random_state=0).fit(X_train, y_train)\n",
    "print(\"The Logistic Regression Classifier score is:\", lr.score(X_test, y_test))\n",
    "print(\"The Logistic Regression Classifier score using 5-Fold Cross-Validation is:\",\n",
    "      np.mean(cross_val_score(lr, norm_features, digits, cv = 5)), \"\\n\")\n",
    "\n",
    "# K Nearest Neighbors\n",
    "knn = KNeighborsClassifier(n_neighbors=3, algorithm='ball_tree').fit(X_train, y_train)\n",
    "print(\"The KNN Classifier with k = 3 score is:\", knn.score(X_test, y_test))\n",
    "print(\"The KNN Classifier with k = 3 score using 5-Fold Cross-Validation is:\",\n",
    "      np.mean(cross_val_score(knn, norm_features, digits, cv = 5)), \"\\n\")\n",
    "\n",
    "# Support Vector Machine (SVC) with different kernels and gamma='auto'\n",
    "sup = svm.SVC(kernel='rbf', gamma='auto').fit(X_train, y_train)\n",
    "print(\"The SVM Classifier score with rbf kernel and gamma='auto' is:\", sup.score(X_test, y_test))\n",
    "print(\"The SVM Classifier score with rbf kernel and gamma='auto' using 5-Fold Cross-Validation is:\",\n",
    "      np.mean(cross_val_score(sup, norm_features, digits, cv = 5)), \"\\n\")"
   ]
  },
  {
   "cell_type": "markdown",
   "metadata": {},
   "source": [
    "## Βήμα 8"
   ]
  },
  {
   "cell_type": "markdown",
   "metadata": {},
   "source": [
    "Για την πρόβλεψη του συνημιτόνου με δεδομένη την ακολουθία του ημιτόνου συχνότητας $f=40Hz$ έχουμε την παρακάτω υλοποίηση με `RNN` δίκτυα:"
   ]
  },
  {
   "cell_type": "code",
   "execution_count": 14,
   "metadata": {},
   "outputs": [],
   "source": [
    "import numpy as np\n",
    "import matplotlib.pyplot as plt\n",
    "import torch\n",
    "from torch import nn\n",
    "from torch.autograd import Variable"
   ]
  },
  {
   "cell_type": "code",
   "execution_count": 15,
   "metadata": {},
   "outputs": [],
   "source": [
    "def findInterval(T):\n",
    "    min_a = 0\n",
    "    max_b = 100\n",
    "\n",
    "    low, high = 0, 0\n",
    "    while (low == high):\n",
    "        ab = np.random.randint(min_a, max_b , size=2)\n",
    "        low, high = T*min(ab)/(max_b-min_a), T*max(ab)/(max_b-min_a)\n",
    "    return low, high"
   ]
  },
  {
   "cell_type": "code",
   "execution_count": 16,
   "metadata": {},
   "outputs": [],
   "source": [
    "f = 40\n",
    "T = 1/f\n",
    "w = 2*np.pi*f\n",
    "A = 1\n",
    "\n",
    "n_features = 10\n",
    "n_train_samples = 5000\n",
    "\n",
    "X_train = np.zeros((n_train_samples, n_features))\n",
    "y_train = np.zeros((n_train_samples, n_features))\n",
    "\n",
    "for i in range(n_train_samples):\n",
    "    t1, t2 = findInterval(T)\n",
    "    t = np.linspace(t1, t2, n_features)\n",
    "    X_train[i] = A*np.sin(w*t)\n",
    "    y_train[i] = A*np.cos(w*t)\n",
    "\n",
    "inputs = torch.from_numpy(X_train.reshape((n_train_samples, n_features, -1))).float()\n",
    "targets = torch.from_numpy(y_train.reshape((n_train_samples, n_features, -1))).float()"
   ]
  },
  {
   "cell_type": "code",
   "execution_count": 17,
   "metadata": {},
   "outputs": [
    {
     "name": "stdout",
     "output_type": "stream",
     "text": [
      "GPU is available\n"
     ]
    }
   ],
   "source": [
    "is_cuda = torch.cuda.is_available()\n",
    "\n",
    "if is_cuda:\n",
    "    device = torch.device(\"cuda\")\n",
    "    print(\"GPU is available\")\n",
    "else:\n",
    "    device = torch.device(\"cpu\")\n",
    "    print(\"GPU not available, CPU used\")"
   ]
  },
  {
   "cell_type": "code",
   "execution_count": 7,
   "metadata": {},
   "outputs": [],
   "source": [
    "class Modelo(nn.Module):\n",
    "    \n",
    "    def __init__(self, rnn_type='rnn'):\n",
    "        super(Modelo, self).__init__()\n",
    "        \n",
    "        self.rnn_type = rnn_type\n",
    "        \n",
    "        self.rnn = nn.RNN(input_size=10, \n",
    "                   hidden_size=10, batch_first=True)\n",
    "        \n",
    "        self.lstm = nn.LSTM(input_size=10,\n",
    "                           hidden_size=10, batch_first=True)\n",
    "        \n",
    "        self.gru = nn.gru(input_size=10,\n",
    "                           hidden_size=10, batch_first=True)\n",
    "        \n",
    "    def forward(self, x, hidden, cell=None):\n",
    "        \n",
    "#       (batch_size , sequence_length , input_size)\n",
    "        x = x.view(1, 1, 10)\n",
    "    \n",
    "        if self.rnn_type =='lstm':\n",
    "            out, (hidden, cell) = self.lstm(x, (hidden, cell))\n",
    "            out = out.view(-1)\n",
    "            return hidden, cell, out\n",
    "        elif self.rnn_type == 'gru': \n",
    "            out, hidden = self.gru(x, hidden)\n",
    "            out = out.view(-1)\n",
    "            return hidden, out\n",
    "        elif self.rnn_type == 'rnn':      \n",
    "            out, hidden = self.rnn(x, hidden)\n",
    "            out = out.view(-1)\n",
    "            return hidden, out\n",
    "    \n",
    "    def init_cell(self):\n",
    "        \n",
    "#       (num_layers*num_directions , batch , hidden_size)\n",
    "        return Variable(torch.zeros(1, 1, 10))\n",
    "        \n",
    "    def init_hidden(self):\n",
    "        \n",
    "#       (num_layers*num_directions , batch , hidden_size)\n",
    "        return Variable(torch.zeros(1, 1, 10))"
   ]
  },
  {
   "cell_type": "code",
   "execution_count": 40,
   "metadata": {},
   "outputs": [],
   "source": [
    "def trainedRNNModel(model, inputs, targets, criterion, optimizer, n_ecochs, device):\n",
    "\n",
    "    rnn_type = model.rnn_type\n",
    "    for epoch in range(n_epochs):\n",
    "\n",
    "        model.train()\n",
    "\n",
    "        hidden = model.init_hidden()\n",
    "        cell = model.init_cell()\n",
    "        \n",
    "        loss = 0.0\n",
    "        for input, target in zip(inputs, targets):\n",
    "\n",
    "    #       wrap in Variable\n",
    "            input, target = Variable(input.to(device)), Variable(target.view(-1).to(device))\n",
    "\n",
    "            if rnn_type=='lstm':\n",
    "    #           LSTM        \n",
    "    #           feed the input and acquire the output from network\n",
    "                hidden, cell, output = model(input, hidden, cell)\n",
    "            elif (rnn_type == 'gru') or (rnn_type == 'rnn'):\n",
    "                \n",
    "    #           GRU or RNN\n",
    "    #           feed the input and acquire the output from network \n",
    "                hidden, output = model(input, hidden)\n",
    "\n",
    "    #       calculating the predicted and the expected loss\n",
    "            loss += criterion(output.float(), target.float())\n",
    "\n",
    "    #   clear the gradient\n",
    "        optimizer.zero_grad()\n",
    "\n",
    "    #   compute the gradient\n",
    "        loss.backward()\n",
    "\n",
    "    #   update the parameters\n",
    "        optimizer.step()     \n",
    "        if (epoch+1) % 5 == 0:\n",
    "            print(\"epoch: %d, loss: %1.4f\" % (epoch + 1, loss.data/inputs.size(0)))\n",
    "        \n",
    "    return model"
   ]
  },
  {
   "cell_type": "code",
   "execution_count": 96,
   "metadata": {
    "scrolled": true
   },
   "outputs": [
    {
     "name": "stdout",
     "output_type": "stream",
     "text": [
      "epoch: 5, loss: 0.1979\n",
      "epoch: 10, loss: 0.1943\n",
      "epoch: 15, loss: 0.1492\n",
      "epoch: 20, loss: 0.1362\n",
      "epoch: 25, loss: 0.1248\n",
      "epoch: 30, loss: 0.1177\n",
      "epoch: 35, loss: 0.1126\n",
      "epoch: 40, loss: 0.1087\n",
      "epoch: 45, loss: 0.1055\n",
      "epoch: 50, loss: 0.1028\n"
     ]
    }
   ],
   "source": [
    "n_epochs = 50\n",
    "model = Modelo().to(device)\n",
    "criterion = torch.nn.MSELoss()\n",
    "optimizer = torch.optim.SGD(model.parameters(), lr=5e-4)\n",
    "trained_model_rnn = trainedRNNModel(model, inputs, targets, criterion, optimizer, n_epochs, device)"
   ]
  },
  {
   "cell_type": "code",
   "execution_count": 97,
   "metadata": {
    "scrolled": true
   },
   "outputs": [
    {
     "name": "stdout",
     "output_type": "stream",
     "text": [
      "epoch: 5, loss: 0.2519\n",
      "epoch: 10, loss: 0.2040\n",
      "epoch: 15, loss: 0.1868\n",
      "epoch: 20, loss: 0.1847\n",
      "epoch: 25, loss: 0.1510\n",
      "epoch: 30, loss: 0.1429\n",
      "epoch: 35, loss: 0.1297\n",
      "epoch: 40, loss: 0.1471\n",
      "epoch: 45, loss: 0.1186\n",
      "epoch: 50, loss: 0.1078\n",
      "epoch: 55, loss: 0.1174\n",
      "epoch: 60, loss: 0.1161\n",
      "epoch: 65, loss: 0.0996\n",
      "epoch: 70, loss: 0.0934\n"
     ]
    }
   ],
   "source": [
    "n_epochs = 70\n",
    "model = Modelo(rnn_type='lstm').to(device)\n",
    "criterion = torch.nn.MSELoss()\n",
    "optimizer = torch.optim.SGD(model.parameters(), lr=1e-2)\n",
    "trained_model_lstm = trainedRNNModel(model, inputs, targets, criterion, optimizer, n_epochs, device)"
   ]
  },
  {
   "cell_type": "code",
   "execution_count": 100,
   "metadata": {
    "scrolled": true
   },
   "outputs": [
    {
     "name": "stdout",
     "output_type": "stream",
     "text": [
      "epoch: 5, loss: 0.2196\n",
      "epoch: 10, loss: 0.1834\n",
      "epoch: 15, loss: 0.1466\n",
      "epoch: 20, loss: 0.1306\n",
      "epoch: 25, loss: 0.1229\n",
      "epoch: 30, loss: 0.1192\n",
      "epoch: 35, loss: 0.1136\n",
      "epoch: 40, loss: 0.1069\n",
      "epoch: 45, loss: 0.1015\n",
      "epoch: 50, loss: 0.0980\n"
     ]
    }
   ],
   "source": [
    "n_epochs = 50\n",
    "model = Modelo(rnn_type='gru').to(device)\n",
    "criterion = torch.nn.MSELoss()\n",
    "optimizer = torch.optim.SGD(model.parameters(), lr=7e-4)\n",
    "trained_model_gru = trainedRNNModel(model, inputs, targets, criterion, optimizer, n_epochs, device)"
   ]
  },
  {
   "cell_type": "code",
   "execution_count": 132,
   "metadata": {
    "scrolled": false
   },
   "outputs": [
    {
     "data": {
      "image/png": "[encoded data removed]",
      "text/plain": [
       "<Figure size 432x288 with 1 Axes>"
      ]
     },
     "metadata": {
      "needs_background": "light"
     },
     "output_type": "display_data"
    },
    {
     "data": {
      "image/png": "[encoded data removed]",
      "text/plain": [
       "<Figure size 432x288 with 1 Axes>"
      ]
     },
     "metadata": {
      "needs_background": "light"
     },
     "output_type": "display_data"
    },
    {
     "data": {
      "image/png": "[encoded data removed]",
      "text/plain": [
       "<Figure size 432x288 with 1 Axes>"
      ]
     },
     "metadata": {
      "needs_background": "light"
     },
     "output_type": "display_data"
    }
   ],
   "source": [
    "n_test_samples = 1\n",
    "\n",
    "X_test = np.zeros((n_test_samples, n_features))\n",
    "y_test = np.zeros((n_test_samples, n_features))\n",
    "\n",
    "for i in range(n_test_samples):\n",
    "    t1, t2 = findInterval(T)\n",
    "    t = np.linspace(t1, t2, n_features)\n",
    "    X_test[i] = A*np.sin(w*t)\n",
    "    y_test[i] = A*np.cos(w*t)\n",
    "\n",
    "X_test = torch.from_numpy(X_test.reshape((n_test_samples, n_features, -1))).float()\n",
    "y_test = torch.from_numpy(y_test.reshape((n_test_samples, n_features, -1))).float()\n",
    "\n",
    "trained_model_rnn.eval()\n",
    "trained_model_lstm.eval()\n",
    "trained_model_gru.eval()\n",
    "\n",
    "for x, y in zip(X_test, y_test):\n",
    "    \n",
    "    x, y = Variable(x.to(device)), Variable(y.to(device))\n",
    "    with torch.no_grad():\n",
    "        _, output_rnn = trained_model_rnn(x, model.init_hidden())\n",
    "        _, _, output_lstm = trained_model_lstm(x, model.init_hidden(), model.init_cell())\n",
    "        _, output_gru = trained_model_gru(x, model.init_hidden())\n",
    " \n",
    "    plt.plot(t, y)\n",
    "    plt.plot(t, output_rnn, color = 'r')\n",
    "    plt.title('RNN')\n",
    "    plt.xlabel('t')\n",
    "    plt.ylabel('y')\n",
    "    plt.legend(['Cosine','Cosine Estimation'])\n",
    "    plt.axis('tight')\n",
    "    plt.grid()\n",
    "    plt.show()\n",
    "    \n",
    "    plt.plot(t, y)\n",
    "    plt.plot(t, output_lstm, color = 'r')\n",
    "    plt.title('LSTM')\n",
    "    plt.xlabel('t')\n",
    "    plt.ylabel('y')\n",
    "    plt.legend(['Cosine','Cosine Estimation'])\n",
    "    plt.axis('tight')\n",
    "    plt.grid()\n",
    "    plt.show()\n",
    "    \n",
    "    plt.plot(t, y)\n",
    "    plt.plot(t, output_gru, color = 'r')\n",
    "    plt.title('GRU')\n",
    "    plt.xlabel('t')\n",
    "    plt.ylabel('y')\n",
    "    plt.legend(['Cosine','Cosine Estimation'])\n",
    "    plt.axis('tight')\n",
    "    plt.grid()\n",
    "    plt.show()"
   ]
  },
  {
   "cell_type": "code",
   "execution_count": 130,
   "metadata": {
    "scrolled": false
   },
   "outputs": [
    {
     "data": {
      "image/png": "[encoded data removed]",
      "text/plain": [
       "<Figure size 432x288 with 1 Axes>"
      ]
     },
     "metadata": {
      "needs_background": "light"
     },
     "output_type": "display_data"
    },
    {
     "data": {
      "image/png": "[encoded data removed]",
      "text/plain": [
       "<Figure size 432x288 with 1 Axes>"
      ]
     },
     "metadata": {
      "needs_background": "light"
     },
     "output_type": "display_data"
    },
    {
     "data": {
      "image/png": "[encoded data removed]",
      "text/plain": [
       "<Figure size 432x288 with 1 Axes>"
      ]
     },
     "metadata": {
      "needs_background": "light"
     },
     "output_type": "display_data"
    }
   ],
   "source": [
    "t = np.linspace(0, T, n_features)\n",
    "\n",
    "x = Variable(torch.from_numpy(np.sin(w*t).reshape(n_features, -1)).float())\n",
    "y = Variable(torch.from_numpy(np.cos(w*t).reshape(n_features, -1)).float())\n",
    "\n",
    "with torch.no_grad():\n",
    "    _, output_rnn = trained_model_rnn(x, model.init_hidden())\n",
    "    _, _, output_lstm = trained_model_lstm(x, model.init_hidden(), model.init_cell())\n",
    "    _, output_gru = trained_model_gru(x, model.init_hidden())\n",
    "    \n",
    "    plt.plot(t, y)\n",
    "    plt.plot(t, output_rnn, color = 'r')\n",
    "    plt.title('RNN')\n",
    "    plt.xlabel('t')\n",
    "    plt.ylabel('y')\n",
    "    plt.legend(['Cosine','Cosine Estimation'])\n",
    "    plt.axis('tight')\n",
    "    plt.grid()\n",
    "    plt.show()\n",
    "    \n",
    "    plt.plot(t, y)\n",
    "    plt.plot(t, output_lstm, color = 'r')\n",
    "    plt.title('LSTM')\n",
    "    plt.xlabel('t')\n",
    "    plt.ylabel('y')\n",
    "    plt.legend(['Cosine','Cosine Estimation'])\n",
    "    plt.axis('tight')\n",
    "    plt.grid()\n",
    "    plt.show()\n",
    "    \n",
    "    plt.plot(t, y)\n",
    "    plt.plot(t, output_gru, color = 'r')\n",
    "    plt.title('GRU')\n",
    "    plt.xlabel('t')\n",
    "    plt.ylabel('y')\n",
    "    plt.legend(['Cosine','Cosine Estimation'])\n",
    "    plt.axis('tight')\n",
    "    plt.grid()\n",
    "    plt.show()"
   ]
  },
  {
   "cell_type": "markdown",
   "metadata": {},
   "source": [
    ">RNN - LSTM & GRU\n",
    ">\n",
    ">Τα απλά αναδρομικά νευρωνικά δίκτυα (RNNs) έχουν short-term memory. Αυτό σημαίνει ότι στην περίπτωση που πρέπει να μάθουν μια ακολουθία, όσο μεγαλύτερη είναι αυτή τόσο πιο μεγάλη δυσκολία εμφανίζουν στο να διατηρήσουν την πληροφορία από την αρχή της ακολουθίας έως το τέλος. Ουσιαστικά, κατά το back propagation συμβαίνει αυτό που ονομάζουμε vanishing gradients. Τα gradients είναι οι τιμές οι οποίες συνεισφέρουν στην ανανέωση των βαρών του δικτύου. Όταν μετά από πολλές παραγωγήσεις αποκτήσουν εξαιρετικά μικρές τιμές τότε απλά καταλήγουν να μη συνεισφέρουν στην εκμάθηση του δικτύου. Τα LSTM και GRU δημιουργήθηκαν για την αντιμετώπιση του short-term memory απ'το οποίο πάσχει το απλό RNN. Αυτό που πρακτικά συμβαίνει είναι ότι συντηρείται πληροφορία απ'τα gradients μέσω όμως κάποιας επιλογής, δηλαδή εφαρμόζουν μια διαλογή για το ποια πληροφορία πρέπει να κρατήσω και ποια να πετάξω. Επομένως, τα LSTM και GRU είναι καλά σε προβλήματα επεξεργασίας μεγάλων ακολουθιών."
   ]
  },
  {
   "cell_type": "markdown",
   "metadata": {},
   "source": [
    "# 2ο Εργαστήριο:"
   ]
  },
  {
   "cell_type": "markdown",
   "metadata": {},
   "source": [
    "Για το διάβασμα των δεδομένων του [Free Spoken Digits Dataset](https://github.com/Jakobovski/free-spoken-digit-dataset) μέσω της τροποποιημένης συνάρτησης ```parser()``` έχουμε:"
   ]
  },
  {
   "cell_type": "code",
   "execution_count": 18,
   "metadata": {},
   "outputs": [],
   "source": [
    "import numpy as np\n",
    "import librosa\n",
    "from glob import glob\n",
    "import os\n",
    "\n",
    "from sklearn.preprocessing import StandardScaler\n",
    "\n",
    "def parser(directory):\n",
    "    # Parse relevant dataset info\n",
    "    files = glob(os.path.join(directory, '*.wav'))\n",
    "    fnames = [f.rsplit(str(os.path.sep), 1)[1].split('.')[0].split('_') for f in files]\n",
    "    ids = [f[2] for f in fnames]\n",
    "    y = [int(f[0]) for f in fnames]\n",
    "    speakers = [f[1] for f in fnames]\n",
    "    _, Fs = librosa.core.load(files[0], sr=None)\n",
    "\n",
    "    def read_wav(f):\n",
    "        global Fs\n",
    "        wav, fs = librosa.core.load(f, sr=None)\n",
    "        return wav\n",
    "\n",
    "    # Read all wavs\n",
    "    wavs = [read_wav(f) for f in files]\n",
    "\n",
    "    # Extract MFCCs for all wavs\n",
    "    window = 30 * Fs // 1000\n",
    "    step = window // 2\n",
    "    frames = [librosa.feature.mfcc(wav, Fs, n_fft=window, hop_length=window - step, n_mfcc=6).T for wav in wavs]\n",
    "    # Print dataset info\n",
    "    print('Total wavs: {}'.format(len(frames)))\n",
    "\n",
    "    # Standardize data\n",
    "    scaler = StandardScaler()\n",
    "    scaler.fit(np.concatenate(frames))\n",
    "    for i in range(len(frames)):\n",
    "        frames[i] = scaler.transform(frames[i])\n",
    "\n",
    "    # Split to train-test\n",
    "    X_train, y_train, spk_train = [], [], []\n",
    "    X_test, y_test, spk_test = [], [], []\n",
    "    test_indices = ['0', '1', '2', '3', '4']\n",
    "    for idx, frame, label, spk in zip(ids, frames, y, speakers):\n",
    "        if str(idx) in test_indices:\n",
    "            X_test.append(frame)\n",
    "            y_test.append(label)\n",
    "            spk_test.append(spk)\n",
    "        else:\n",
    "            X_train.append(frame)\n",
    "            y_train.append(label)\n",
    "            spk_train.append(spk)\n",
    "\n",
    "    return X_train, X_test, y_train, y_test, spk_train, spk_test"
   ]
  },
  {
   "cell_type": "code",
   "execution_count": 19,
   "metadata": {},
   "outputs": [
    {
     "name": "stdout",
     "output_type": "stream",
     "text": [
      "Total wavs: 2000\n"
     ]
    }
   ],
   "source": [
    "record_dir = os.path.abspath(\"./free-spoken-digit-dataset-master/recordings/\")\n",
    "\n",
    "X, X_test, y, y_test, spk_train, spk_test = parser(record_dir)\n",
    "\n",
    "X = np.array(X)\n",
    "y = np.array(y)\n",
    "X_test = np.array(X_test)\n",
    "y_test = np.array(y_test)"
   ]
  },
  {
   "cell_type": "markdown",
   "metadata": {},
   "source": [
    "## Βήμα 9\n",
    "Χωρίζουμε τα `train` δεδομένα σε νέα `train` και `validation set` με ποσοστό $80\\%$ - $20\\%$ αντίστοιχα, χρησιμοποιώντας `stratified split`:"
   ]
  },
  {
   "cell_type": "code",
   "execution_count": 20,
   "metadata": {},
   "outputs": [],
   "source": [
    "from sklearn.model_selection import train_test_split\n",
    "\n",
    "X_train, X_val, y_train, y_val = train_test_split(X, y, test_size=0.2, stratify=y)"
   ]
  },
  {
   "cell_type": "markdown",
   "metadata": {},
   "source": [
    "## Βήμα 10\n",
    "Φτιάχνουμε ένα python dicitonary το οποίο έχει για κάθε ψηφίο όλα τα δεδομένα που υπάρχουν στο train set και αντιστοιχούν στο ψηφίο αυτό και στην συνέχεια φτιάχνουμε τους πίνακες μετάβασης για τα `HMMs`"
   ]
  },
  {
   "cell_type": "code",
   "execution_count": 21,
   "metadata": {},
   "outputs": [],
   "source": [
    "from pomegranate import *\n",
    "import numpy as np\n",
    "\n",
    "X_digit = {digit : np.concatenate(X_train[y_train==digit]) for digit in range(10)}\n",
    "\n",
    "n_states = 4 # the number of HMM states\n",
    "n_mixtures = 5 # the number of Gaussians\n",
    "initial_prob = 0.5\n",
    "\n",
    "# your transition matrix\n",
    "trans_mat = np.diag(initial_prob*np.ones(n_states-1), k=1) + np.diag(initial_prob*np.ones(n_states))\n",
    "# your starting probability matrix\n",
    "starts = np.array([1] + [0]*(n_states-1))\n",
    "# your ending probability matrix\n",
    "ends = np.array([0]*(n_states-1) + [initial_prob])"
   ]
  },
  {
   "cell_type": "markdown",
   "metadata": {},
   "source": [
    "## Βήμα 11\n",
    "Για το train των μοντέλων με χρήση του αλγόριθμου `Expectation Mazimization` έχουμε:"
   ]
  },
  {
   "cell_type": "code",
   "execution_count": 22,
   "metadata": {},
   "outputs": [],
   "source": [
    "def HMMDigitModel(digit, trans_mat, starts, ends, n_states, n_mixtures, X_train, y_train, X_digit):\n",
    "    \n",
    "    dists = [] # list of probability distributions for the HMM states\n",
    "    for i in range(n_states):\n",
    "        if(n_mixtures != 1):\n",
    "            a = GeneralMixtureModel.from_samples(MultivariateGaussianDistribution, n_mixtures, \n",
    "                                                 np.float_(X_digit[digit]))\n",
    "        else:\n",
    "            a = MultivariateGaussianDistribution.from_samples(np.float_(X_digit[digit]))\n",
    "        dists.append(a)\n",
    "\n",
    "    # your data: must be a Python list that contains: \n",
    "    # -2D lists with the sequences (so its dimension would be num_sequences x seq_length x feature_dimension)\n",
    "    # But be careful, it is not a numpy array, it is a Python list (so each sequence can have different length)\n",
    "    \n",
    "    data = [dt.tolist() for dt in X_train[y_train==digit].tolist()]\n",
    "\n",
    "    # Define the GMM-HMM\n",
    "    model = HiddenMarkovModel.from_matrix(trans_mat, dists, starts, ends, \n",
    "                                          state_names=['s{}'.format(i) for i in range(n_states)])\n",
    "\n",
    "    # Fit the model using EM\n",
    "    model.fit(data, max_iterations=5)\n",
    "    \n",
    "    return model"
   ]
  },
  {
   "cell_type": "code",
   "execution_count": 23,
   "metadata": {},
   "outputs": [],
   "source": [
    "digit_models = []\n",
    "\n",
    "for digit in range(10):\n",
    "    digit_models.append(HMMDigitModel(digit, trans_mat, starts, ends, n_states, n_mixtures, X_train, y_train, X_digit))"
   ]
  },
  {
   "cell_type": "markdown",
   "metadata": {},
   "source": [
    "## Βήμα 12\n",
    "Με την παρακάτω βοηθητική συνάρτηση για το ```accuracy``` στα set έχουμε:"
   ]
  },
  {
   "cell_type": "code",
   "execution_count": 24,
   "metadata": {},
   "outputs": [],
   "source": [
    "def prediction(X, models):\n",
    "    \n",
    "    y_pred = []\n",
    "    \n",
    "    for x in X:\n",
    "        log_probs = np.array([model.viterbi(x)[0] for model in models])\n",
    "        y_pred.append(np.argmax(log_probs))\n",
    "    \n",
    "    return np.array(y_pred)\n",
    "\n",
    "def accuracy(y_true, y_pred):\n",
    "    return sum(np.equal(y_true, y_pred))/y_true.size    "
   ]
  },
  {
   "cell_type": "markdown",
   "metadata": {},
   "source": [
    "Για την αξιολόγηση και την βελτιστοποίηση των παραμέτρων στο `validation set`:"
   ]
  },
  {
   "cell_type": "code",
   "execution_count": 25,
   "metadata": {},
   "outputs": [
    {
     "name": "stdout",
     "output_type": "stream",
     "text": [
      "Validation set accuracy = 0.9833333333333333\n"
     ]
    }
   ],
   "source": [
    "y_pred_val = prediction(X_val, digit_models)\n",
    "print(\"Validation set accuracy =\", accuracy(y_val, y_pred_val))"
   ]
  },
  {
   "cell_type": "markdown",
   "metadata": {},
   "source": [
    "Για την παραπάνω βελτιστοποίηση έχουμε για το `test set`:"
   ]
  },
  {
   "cell_type": "code",
   "execution_count": 26,
   "metadata": {},
   "outputs": [
    {
     "name": "stdout",
     "output_type": "stream",
     "text": [
      "Test set accuracy = 0.985\n"
     ]
    }
   ],
   "source": [
    "y_pred_test = prediction(X_test, digit_models)\n",
    "print(\"Test set accuracy =\", accuracy(y_test, y_pred_test))"
   ]
  },
  {
   "cell_type": "markdown",
   "metadata": {},
   "source": [
    ">Με την παραπάνω διαδικασία της βελτιστοποίησης των παραμέτρων στο `validation` set, καταφέρνουμε να ελέγξουμε την απόδοση του μοντέλου μας σε δεδομένα τα οποία δεν έχει \"ξαναδεί\", καθώς παράλληλα όμως τα σύνολα `validation` και `test` να παραμένουν ξένα μεταξύ τους. Στην περίπτωση που δεν ελέγχουμε την απόδοση του μοντέλου στο `validation` set παρα μόνο στο `train` set υπάρχει ο κίνδυνος για `overfitting`."
   ]
  },
  {
   "cell_type": "markdown",
   "metadata": {},
   "source": [
    "## Βήμα 13"
   ]
  },
  {
   "cell_type": "markdown",
   "metadata": {},
   "source": [
    "Για τα Confusion Matrices θα χρησιμοποιήσουμε την παρακάτω βοηθητική συνάρτηση:"
   ]
  },
  {
   "cell_type": "code",
   "execution_count": 27,
   "metadata": {},
   "outputs": [],
   "source": [
    "import numpy as np\n",
    "import itertools\n",
    "import matplotlib.pyplot as plt\n",
    "\n",
    "def plot_confusion_matrix(cm, classes,\n",
    "                          normalize=False,\n",
    "                          title='Confusion matrix',\n",
    "                          cmap=plt.cm.Blues):\n",
    "    \"\"\"\n",
    "    This function prints and plots the confusion matrix.\n",
    "    Normalization can be applied by setting `normalize=True`.\n",
    "    \"\"\"\n",
    "    if normalize:\n",
    "        cm = cm.astype('float') / cm.sum(axis=1)[:, np.newaxis]\n",
    "#         print(\"Normalized confusion matrix\")\n",
    "#     else:\n",
    "#         print('Confusion matrix, without normalization')\n",
    "\n",
    "#     print(cm)\n",
    "\n",
    "    plt.imshow(cm, interpolation='nearest', cmap=cmap)\n",
    "    plt.title(title)\n",
    "    plt.colorbar()\n",
    "    tick_marks = np.arange(len(classes))\n",
    "    plt.xticks(tick_marks, classes, rotation=45)\n",
    "    plt.yticks(tick_marks, classes)\n",
    "\n",
    "    fmt = '.2f' if normalize else 'd'\n",
    "    thresh = cm.max() / 2.\n",
    "    for i, j in itertools.product(range(cm.shape[0]), range(cm.shape[1])):\n",
    "        plt.text(j, i, format(cm[i, j], fmt),\n",
    "                 horizontalalignment=\"center\",\n",
    "                 color=\"white\" if cm[i, j] > thresh else \"black\")\n",
    "\n",
    "    plt.ylabel('True label')\n",
    "    plt.xlabel('Predicted label')\n",
    "    plt.tight_layout()\n",
    "    plt.show()"
   ]
  },
  {
   "cell_type": "code",
   "execution_count": 28,
   "metadata": {},
   "outputs": [
    {
     "data": {
      "image/png": "[encoded data removed]",
      "text/plain": [
       "<Figure size 432x288 with 2 Axes>"
      ]
     },
     "metadata": {
      "needs_background": "light"
     },
     "output_type": "display_data"
    },
    {
     "data": {
      "image/png": "[encoded data removed]",
      "text/plain": [
       "<Figure size 432x288 with 2 Axes>"
      ]
     },
     "metadata": {
      "needs_background": "light"
     },
     "output_type": "display_data"
    }
   ],
   "source": [
    "from sklearn.metrics import confusion_matrix\n",
    "\n",
    "labels = list(range(10))\n",
    "\n",
    "conf_mat_val = confusion_matrix(y_val, y_pred_val)\n",
    "plot_confusion_matrix(conf_mat_val, labels, title='Confusion matrix for Validation Set')\n",
    "\n",
    "conf_mat_test = confusion_matrix(y_test, y_pred_test)\n",
    "plot_confusion_matrix(conf_mat_test, labels, title='Confusion matrix for Test Set')"
   ]
  },
  {
   "cell_type": "markdown",
   "metadata": {},
   "source": [
    "## Βήμα 14"
   ]
  },
  {
   "cell_type": "markdown",
   "metadata": {},
   "source": [
    "1. Από τα [help scripts](http://mycourses.ntua.gr/projects/goto/index.php/pr_lab2_2019-20_help_scripts.zip) έχουμε:"
   ]
  },
  {
   "cell_type": "code",
   "execution_count": 29,
   "metadata": {},
   "outputs": [],
   "source": [
    "import os\n",
    "import numpy as np\n",
    "import torch\n",
    "from torch.utils.data import Dataset\n",
    "import torch.nn as nn\n",
    "\n",
    "class FrameLevelDataset(Dataset):\n",
    "    def __init__(self, feats, labels):\n",
    "        \n",
    "        \"\"\"\n",
    "            feats: Python list of numpy arrays that contain the sequence features.\n",
    "                   Each element of this list is a numpy array of shape seq_length x feature_dimension\n",
    "            labels: Python list that contains the label for each sequence (each label must be an integer)\n",
    "        \"\"\"\n",
    "        \n",
    "        self.lengths = [feat.shape[0] for feat in feats]\n",
    "        \n",
    "        self.num_sequences = len(feats)\n",
    "        self.max_sequence_length = max(self.lengths)\n",
    "        self.feature_dimension = feats[0].shape[1]\n",
    "\n",
    "        self.feats = self.zero_pad_and_stack(feats)\n",
    "        if isinstance(labels, (list, tuple)):\n",
    "            self.labels = np.array(labels).astype('int64')\n",
    "\n",
    "    def zero_pad_and_stack(self, x):\n",
    "        \"\"\"\n",
    "            This function performs zero padding on a list of features and forms them into a numpy 3D array\n",
    "            returns\n",
    "                padded: a 3D numpy array of shape num_sequences x max_sequence_length x feature_dimension\n",
    "        \"\"\"\n",
    "        \n",
    "        padded = np.array([np.pad(feat.reshape(-1),\n",
    "                            (0, (self.max_sequence_length - length)*self.feature_dimension), 'constant')\n",
    "                            .reshape(self.max_sequence_length, self.feature_dimension) \n",
    "                            for feat, length in zip(x, self.lengths)])\n",
    "        return padded\n",
    "\n",
    "    def __getitem__(self, item):\n",
    "        return self.feats[item], self.labels[item], self.lengths[item]\n",
    "\n",
    "    def __len__(self):\n",
    "        return len(self.feats)"
   ]
  },
  {
   "cell_type": "markdown",
   "metadata": {},
   "source": [
    "2. Για το απλό `LSTM` δίκτυο έχουμε:"
   ]
  },
  {
   "cell_type": "code",
   "execution_count": 110,
   "metadata": {},
   "outputs": [],
   "source": [
    "class BasicLSTM(nn.Module):\n",
    "    def __init__(self, input_dim, hidden_dim, output_dim, dropout_prob=0.0, \n",
    "                 num_layers=1, bidirectional=False, isPackedSequence=False):\n",
    "        super(BasicLSTM, self).__init__()\n",
    "        \n",
    "        self.dropout_prob = dropout_prob\n",
    "        self.bidirectional = bidirectional\n",
    "        self.feature_size = hidden_dim * 2 if self.bidirectional else hidden_dim\n",
    "        self.num_layers = num_layers\n",
    "        self.input_dim = input_dim\n",
    "        self.hidden_dim = hidden_dim\n",
    "        self.output_dim = output_dim\n",
    "        self.isPackedSequence = isPackedSequence\n",
    "        \n",
    "        # Initialize the LSTM, Dropout, Output layers\n",
    "        \n",
    "        self.lstm = nn.LSTM(input_dim, hidden_dim, num_layers=num_layers,\n",
    "                                dropout=dropout_prob, batch_first=True, bidirectional= bidirectional)\n",
    "        \n",
    "        self.drop = nn.Dropout(p=dropout_prob)\n",
    "        \n",
    "        self.fc = nn.Linear(self.feature_size, self.output_dim)\n",
    "        \n",
    "\n",
    "    def forward(self, x, lengths):\n",
    "        \"\"\" \n",
    "            x : 3D numpy array of dimension N x L x D\n",
    "                N: batch index\n",
    "                L: sequence index\n",
    "                D: feature index\n",
    "\n",
    "            lengths: N x 1\n",
    "         \"\"\"\n",
    "        \n",
    "        N, L, D = x.size()\n",
    "        \n",
    "        if self.isPackedSequence:\n",
    "            x = pack_padded_sequence(x, lengths, batch_first=True)\n",
    "        \n",
    "        out, _ = self.lstm(x)\n",
    "        \n",
    "        if self.isPackedSequence:\n",
    "            out, _ = pad_packed_sequence(out, batch_first=True)\n",
    "        \n",
    "        dropped = self.drop(out)\n",
    "        \n",
    "        last = self.last_timestep(dropped, lengths)\n",
    "        \n",
    "        last_outputs = self.fc(last)\n",
    "        \n",
    "        # You must have all of the outputs of the LSTM\n",
    "        # but you need only the last one (that does not exceed the sequence length)\n",
    "        # To get it use the last_timestep method\n",
    "        # Then pass it through the remaining network\n",
    "              \n",
    "        return last_outputs\n",
    "    \n",
    "    \n",
    "\n",
    "    def last_timestep(self, outputs, lengths, bidirectional=False):\n",
    "        \"\"\"\n",
    "            Returns the last output of the LSTM taking into account the zero padding\n",
    "        \"\"\"\n",
    "        if bidirectional:\n",
    "            forward, backward = self.split_directions(outputs)\n",
    "            last_forward = self.last_by_index(forward, lengths)\n",
    "            last_backward = backward[:, 0, :]\n",
    "            # Concatenate and return - maybe add more functionalities like average\n",
    "            return torch.cat((last_forward, last_backward), dim=-1)\n",
    "        else:\n",
    "            return self.last_by_index(outputs, lengths)\n",
    "\n",
    "    @staticmethod\n",
    "    def split_directions(outputs):\n",
    "        direction_size = int(outputs.size(-1) / 2)\n",
    "        forward = outputs[:, :, :direction_size]\n",
    "        backward = outputs[:, :, direction_size:]\n",
    "        return forward, backward\n",
    "\n",
    "    @staticmethod\n",
    "    def last_by_index(outputs, lengths):\n",
    "        # Index of the last output for each sequence.\n",
    "        idx = (lengths - 1).view(-1, 1).expand(outputs.size(0),\n",
    "                                               outputs.size(2)).unsqueeze(1)\n",
    "        return outputs.gather(1, idx).squeeze()"
   ]
  },
  {
   "cell_type": "code",
   "execution_count": 31,
   "metadata": {},
   "outputs": [],
   "source": [
    "class EarlyStopping:\n",
    "    \"\"\"Early stops the training if validation loss doesn't improve after a given patience.\"\"\"\n",
    "    def __init__(self, patience=7, verbose=False, delta=0):\n",
    "        \"\"\"\n",
    "        Args:\n",
    "            patience (int): How long to wait after last time validation loss improved.\n",
    "                            Default: 7\n",
    "            verbose (bool): If True, prints a message for each validation loss improvement. \n",
    "                            Default: False\n",
    "            delta (float): Minimum change in the monitored quantity to qualify as an improvement.\n",
    "                            Default: 0\n",
    "        \"\"\"\n",
    "        self.patience = patience\n",
    "        self.verbose = verbose\n",
    "        self.counter = 0\n",
    "        self.best_score = None\n",
    "        self.early_stop = False\n",
    "        self.val_loss_min = np.Inf\n",
    "        self.delta = delta\n",
    "\n",
    "    def __call__(self, val_loss, model):\n",
    "\n",
    "        score = -val_loss\n",
    "\n",
    "        if self.best_score is None:\n",
    "            self.best_score = score\n",
    "            self.save_checkpoint(val_loss, model)\n",
    "        elif score < self.best_score + self.delta:\n",
    "            self.counter += 1\n",
    "            print(f'EarlyStopping counter: {self.counter} out of {self.patience}\\n\\n')\n",
    "            if self.counter >= self.patience:\n",
    "                self.early_stop = True\n",
    "        else:\n",
    "            self.best_score = score\n",
    "            self.save_checkpoint(val_loss, model)\n",
    "            self.counter = 0\n",
    "\n",
    "    def save_checkpoint(self, val_loss, model):\n",
    "        '''Saves model when validation loss decrease.'''\n",
    "        if self.verbose:\n",
    "            print(f'Validation loss decreased ({self.val_loss_min:.6f} --> {val_loss:.6f}). Saving model...\\n\\n')\n",
    "        torch.save(model.state_dict(), 'checkpoint.pt')\n",
    "        self.val_loss_min = val_loss"
   ]
  },
  {
   "cell_type": "markdown",
   "metadata": {},
   "source": [
    "4. Για την εκπαίδευση του μοντέλου στο train set και την εκτίμηση στο validation set έχουμε:"
   ]
  },
  {
   "cell_type": "code",
   "execution_count": 32,
   "metadata": {},
   "outputs": [],
   "source": [
    "import math\n",
    "import sys\n",
    "\n",
    "def progress(loss, epoch, batch, batch_size, dataset_size):\n",
    "    \"\"\"\n",
    "    Print the progress of the training for each epoch\n",
    "    \"\"\"\n",
    "    batches = math.ceil(float(dataset_size) / batch_size)\n",
    "    count = batch * batch_size\n",
    "    bar_len = 40\n",
    "    filled_len = int(round(bar_len * count / float(dataset_size)))\n",
    "\n",
    "    bar = '=' * filled_len + '-' * (bar_len - filled_len)\n",
    "\n",
    "    status = 'Epoch {}, Loss: {:.4f}'.format(epoch, loss)\n",
    "    _progress_str = \"\\r \\r [{}] ...{}\".format(bar, status)\n",
    "    sys.stdout.write(_progress_str)\n",
    "    sys.stdout.flush()\n",
    "\n",
    "    if batch == batches:\n",
    "        print()"
   ]
  },
  {
   "cell_type": "code",
   "execution_count": 108,
   "metadata": {},
   "outputs": [],
   "source": [
    "import torch\n",
    "from torch.autograd import Variable\n",
    "from torch.nn.utils.rnn import pack_padded_sequence, pad_packed_sequence\n",
    "\n",
    "def train_dataset(_epoch, dataloader, model, loss_function, optimizer):\n",
    "    \n",
    "    model.train()\n",
    "    running_loss = 0.0\n",
    "\n",
    "    # obtain the model's device ID\n",
    "    device = next(model.parameters()).device\n",
    "\n",
    "    for index, batch in enumerate(dataloader, 1):\n",
    "\n",
    "        # get the inputs (batch)\n",
    "        inputs, labels, lengths = batch\n",
    "        \n",
    "        # Step 1 - move the batch tensors to the right device and also sort by length for packed sequence\n",
    "        \n",
    "        if model.isPackedSequence:\n",
    "            sorted_by_len = sorted(zip(lengths, labels, inputs), key=lambda pair: pair[0], reverse=True) \n",
    "            lengths = Variable(torch.tensor([x for x, _, _ in sorted_by_len])).to(device)\n",
    "            labels = Variable(torch.tensor([x for _, x, _ in sorted_by_len])).to(device)\n",
    "            inputs = Variable(torch.cat([x.view(1, x.size(0), -1) for _, _, x in sorted_by_len])).to(device)\n",
    "        else:            \n",
    "            inputs = Variable(inputs).to(device)\n",
    "            labels = Variable(labels).to(device)\n",
    "            lengths = Variable(lengths).to(device)\n",
    "\n",
    "        optimizer.zero_grad()\n",
    "\n",
    "        # Step 2 - forward pass: y' = model(x)\n",
    "        outputs = model(inputs, lengths)\n",
    "\n",
    "        # Step 3 - compute loss: L = loss_function(y, y')\n",
    "        loss = loss_function(outputs, labels)\n",
    "\n",
    "        # Step 4 - backward pass: compute gradient wrt model parameters\n",
    "        loss.backward()\n",
    "\n",
    "        # Step 5 - update weights\n",
    "        optimizer.step()\n",
    "\n",
    "        running_loss += loss.data.item()\n",
    "\n",
    "        # print statistics\n",
    "        progress(loss=loss.data.item(),\n",
    "                 epoch=_epoch,\n",
    "                 batch=index,\n",
    "                 batch_size=dataloader.batch_size,\n",
    "                 dataset_size=len(dataloader.dataset))\n",
    "\n",
    "    return running_loss / index\n",
    "\n",
    "\n",
    "def eval_dataset(dataloader, model, loss_function):\n",
    "    \n",
    "    # IMPORTANT: switch to eval mode\n",
    "    # disable regularization layers, such as Dropout\n",
    "    model.eval()\n",
    "    running_loss = 0.0\n",
    "\n",
    "    y_pred = []  # the predicted labels\n",
    "    y = []  # the gold labels\n",
    "\n",
    "    # obtain the model's device ID\n",
    "    device = next(model.parameters()).device\n",
    "\n",
    "    # IMPORTANT: in evaluation mode, we don't want to keep the gradients\n",
    "    # so we do everything under torch.no_grad()\n",
    "    with torch.no_grad():\n",
    "        for index, batch in enumerate(dataloader, 1):\n",
    "\n",
    "            # get the inputs (batch)\n",
    "            inputs, labels, lengths = batch\n",
    "\n",
    "            # Step 1 - move the batch tensors to the right device and also sort by length for packed sequence\n",
    "            \n",
    "            if model.isPackedSequence:\n",
    "                sorted_by_len = sorted(zip(lengths, labels, inputs), key=lambda pair: pair[0], reverse=True) \n",
    "                lengths = Variable(torch.tensor([x for x, _, _ in sorted_by_len])).to(device)\n",
    "                labels = Variable(torch.tensor([x for _, x, _ in sorted_by_len])).to(device)\n",
    "                inputs = Variable(torch.cat([x.view(1, x.size(0), -1) for _, _, x in sorted_by_len])).to(device)\n",
    "            else:            \n",
    "                inputs = Variable(inputs).to(device)\n",
    "                labels = Variable(labels).to(device)\n",
    "                lengths = Variable(lengths).to(device)\n",
    "                    \n",
    "            # Step 2 - forward pass: y' = model(x)\n",
    "            outputs = model(inputs, lengths)\n",
    "\n",
    "            # Step 3 - compute loss.\n",
    "            # We compute the loss only for inspection (compare train/test loss)\n",
    "            # because we do not actually backpropagate in test time\n",
    "            loss = loss_function(outputs, labels)\n",
    "\n",
    "            # Step 4 - make predictions (class = argmax of posteriors)\n",
    "            _, posibol = torch.max(outputs.data, 1)\n",
    "\n",
    "            # Step 5 - collect the predictions, gold labels and batch loss\n",
    "            y_pred.extend(list(posibol.data.cpu().numpy().squeeze()))\n",
    "            y.extend(list(labels.data.cpu().numpy().squeeze()))\n",
    "\n",
    "\n",
    "            running_loss += loss.data.item()\n",
    "\n",
    "    return running_loss / index, (y_pred, y)"
   ]
  },
  {
   "cell_type": "code",
   "execution_count": 109,
   "metadata": {},
   "outputs": [],
   "source": [
    "from sklearn.metrics import accuracy_score, f1_score\n",
    "import time\n",
    "\n",
    "def train_and_val_model(EPOCHS, train_loader, val_loader, model, loss_function, optimizer, early_stopping_limit=0):\n",
    "\n",
    "    total_train_loss = []\n",
    "    total_val_loss = []\n",
    "    \n",
    "    if early_stopping_limit:\n",
    "        early_stopping = EarlyStopping(patience=early_stopping_limit, verbose=True)\n",
    "    \n",
    "    start_time = time.time()\n",
    "    \n",
    "    for epoch in range(1, EPOCHS + 1):\n",
    "        # train the model for one epoch\n",
    "        train_dataset(epoch, train_loader, model, loss_function, optimizer)\n",
    "\n",
    "        # evaluate the performance of the model\n",
    "        train_loss, (y_train_pred, y_train_gold) = eval_dataset(train_loader, model, loss_function)\n",
    "        print(\"Train Set: loss={:.4f}\".format(train_loss))\n",
    "\n",
    "        val_loss, (y_val_pred, y_val_gold) = eval_dataset(val_loader, model, loss_function)\n",
    "        print(\"Validation Set: loss={:.4f}, accuracy={:.4f}\\n\".format(val_loss, \n",
    "                                                                      accuracy_score(y_val_gold, y_val_pred)))\n",
    "\n",
    "\n",
    "        total_train_loss.append(train_loss)\n",
    "        total_val_loss.append(val_loss)\n",
    "        \n",
    "        if early_stopping_limit:\n",
    "            early_stopping(val_loss, model)\n",
    "        \n",
    "            if early_stopping.early_stop:\n",
    "                print(\"Early stopping...\")\n",
    "                break\n",
    "\n",
    "    if early_stopping_limit:        \n",
    "        # load the last checkpoint with the best model\n",
    "        model.load_state_dict(torch.load('checkpoint.pt'))\n",
    "        \n",
    "    print(\"\\nTotal train and validation time: {:.2f} seconds\".format((time.time() - start_time)))\n",
    "    \n",
    "    return total_train_loss, total_val_loss\n",
    "\n",
    "\n",
    "def test_model(test_loader, model, loss_function, set):\n",
    "    \n",
    "    test_loss, (y_test_pred, y_test_gold) = eval_dataset(test_loader, model, loss_function)\n",
    "    print(\"\\n\"+set+\" Set: loss={:.4f}, accuracy={:.4f}, f1-macro={:.4f}\".format(test_loss,\n",
    "                accuracy_score(y_test_gold, y_test_pred), f1_score(y_test_gold, y_test_pred, average='macro')))\n",
    "    \n",
    "    return y_test_pred, y_test_gold"
   ]
  },
  {
   "cell_type": "markdown",
   "metadata": {},
   "source": [
    "Χρησιμοποιώντας την κλάση ```FrameLevelDataset``` έχουμε:"
   ]
  },
  {
   "cell_type": "code",
   "execution_count": 35,
   "metadata": {},
   "outputs": [],
   "source": [
    "fld_train = FrameLevelDataset(X_train, y_train.tolist())\n",
    "fld_val = FrameLevelDataset(X_val, y_val.tolist())\n",
    "fld_test = FrameLevelDataset(X_test, y_test.tolist())"
   ]
  },
  {
   "cell_type": "markdown",
   "metadata": {},
   "source": [
    "Για την εκπαίδευση του δικτύου, χωρίζουμε τα `train`, `validation` και `test` set σε batches με $batch\\_size = 100$. Εκπαιδεύουμε το δίκτυο για $30$ εποχές και χρησιμοποιώντας ως loss function την ```CrossEntropyLoss()``` (η οποία εκτελεί εσωτερικά ```softmax()```) και για optimizer τον `Stochastic Gradient Descent` (```SGD()```)"
   ]
  },
  {
   "cell_type": "code",
   "execution_count": 118,
   "metadata": {},
   "outputs": [
    {
     "name": "stdout",
     "output_type": "stream",
     "text": [
      "DEVICE: cuda\n",
      "cuda Version: 10.0 \n",
      "n_cuda = 1 \n",
      "Cuda Name(s): GeForce GTX 1050 Ti\n"
     ]
    }
   ],
   "source": [
    "from torch.utils.data import DataLoader\n",
    "import numpy as np\n",
    "import torch\n",
    "\n",
    "BATCH_SIZE = 100\n",
    "EPOCHS = 50\n",
    "\n",
    "train_loader = DataLoader(fld_train, batch_size=BATCH_SIZE, shuffle=True)\n",
    "val_loader = DataLoader(fld_val, batch_size=BATCH_SIZE, shuffle=True)\n",
    "test_loader = DataLoader(fld_test, batch_size=BATCH_SIZE, shuffle=True)\n",
    "\n",
    "INPUT_SIZE = fld_train.feature_dimension\n",
    "\n",
    "# if your computer has a CUDA compatible gpu use it, otherwise use the cpu\n",
    "DEVICE = torch.device(\"cuda\" if torch.cuda.is_available() else \"cpu\")\n",
    "print('DEVICE:', DEVICE)\n",
    "if torch.cuda.is_available():\n",
    "    print(  'cuda Version:', torch.version.cuda,\n",
    "            '\\nn_cuda =', torch.cuda.device_count(),\n",
    "            '\\nCuda Name(s):', torch.cuda.get_device_name(0)    )"
   ]
  },
  {
   "cell_type": "code",
   "execution_count": 119,
   "metadata": {
    "scrolled": true
   },
   "outputs": [
    {
     "name": "stdout",
     "output_type": "stream",
     "text": [
      " [==========================================] ...Epoch 1, Loss: 2.3195\n",
      "Train Set: loss=2.3031\n",
      "Validation Set: loss=2.3024, accuracy=0.1000\n",
      "\n",
      " [==========================================] ...Epoch 2, Loss: 2.3016\n",
      "Train Set: loss=2.3002\n",
      "Validation Set: loss=2.2999, accuracy=0.1472\n",
      "\n",
      " [==========================================] ...Epoch 3, Loss: 2.2866\n",
      "Train Set: loss=2.2931\n",
      "Validation Set: loss=2.2929, accuracy=0.1000\n",
      "\n",
      " [==========================================] ...Epoch 4, Loss: 2.2498\n",
      "Train Set: loss=2.2509\n",
      "Validation Set: loss=2.2487, accuracy=0.2000\n",
      "\n",
      " [==========================================] ...Epoch 5, Loss: 2.1006\n",
      "Train Set: loss=1.9836\n",
      "Validation Set: loss=1.9704, accuracy=0.2806\n",
      "\n",
      " [==========================================] ...Epoch 6, Loss: 1.6025\n",
      "Train Set: loss=1.6268\n",
      "Validation Set: loss=1.6846, accuracy=0.3278\n",
      "\n",
      " [==========================================] ...Epoch 7, Loss: 2.2627\n",
      "Train Set: loss=1.7088\n",
      "Validation Set: loss=1.7619, accuracy=0.3389\n",
      "\n",
      " [==========================================] ...Epoch 8, Loss: 1.5947\n",
      "Train Set: loss=1.4745\n",
      "Validation Set: loss=1.6224, accuracy=0.3583\n",
      "\n",
      " [==========================================] ...Epoch 9, Loss: 1.2167\n",
      "Train Set: loss=1.1553\n",
      "Validation Set: loss=1.2621, accuracy=0.5111\n",
      "\n",
      " [==========================================] ...Epoch 10, Loss: 2.1594\n",
      "Train Set: loss=1.6735\n",
      "Validation Set: loss=1.6922, accuracy=0.4278\n",
      "\n",
      " [==========================================] ...Epoch 11, Loss: 0.8006\n",
      "Train Set: loss=0.8257\n",
      "Validation Set: loss=0.8897, accuracy=0.7000\n",
      "\n",
      " [==========================================] ...Epoch 12, Loss: 2.5955\n",
      "Train Set: loss=1.9556\n",
      "Validation Set: loss=2.1161, accuracy=0.3750\n",
      "\n",
      " [==========================================] ...Epoch 13, Loss: 0.8558\n",
      "Train Set: loss=0.8099\n",
      "Validation Set: loss=0.9191, accuracy=0.7167\n",
      "\n",
      " [==========================================] ...Epoch 14, Loss: 0.2918\n",
      "Train Set: loss=0.4213\n",
      "Validation Set: loss=0.5189, accuracy=0.8417\n",
      "\n",
      " [==========================================] ...Epoch 15, Loss: 0.3464\n",
      "Train Set: loss=0.5110\n",
      "Validation Set: loss=0.6016, accuracy=0.8000\n",
      "\n",
      " [==========================================] ...Epoch 16, Loss: 0.5767\n",
      "Train Set: loss=0.4842\n",
      "Validation Set: loss=0.6083, accuracy=0.8194\n",
      "\n",
      " [==========================================] ...Epoch 17, Loss: 0.2858\n",
      "Train Set: loss=0.3386\n",
      "Validation Set: loss=0.4581, accuracy=0.8639\n",
      "\n",
      " [==========================================] ...Epoch 18, Loss: 0.1327\n",
      "Train Set: loss=0.3649\n",
      "Validation Set: loss=0.4867, accuracy=0.8556\n",
      "\n",
      " [==========================================] ...Epoch 19, Loss: 0.3450\n",
      "Train Set: loss=0.5874\n",
      "Validation Set: loss=0.6880, accuracy=0.7694\n",
      "\n",
      " [==========================================] ...Epoch 20, Loss: 0.2229\n",
      "Train Set: loss=0.2313\n",
      "Validation Set: loss=0.3652, accuracy=0.8944\n",
      "\n",
      " [==========================================] ...Epoch 21, Loss: 0.1420\n",
      "Train Set: loss=0.2138\n",
      "Validation Set: loss=0.3746, accuracy=0.8917\n",
      "\n",
      " [==========================================] ...Epoch 22, Loss: 0.2827\n",
      "Train Set: loss=0.2524\n",
      "Validation Set: loss=0.4216, accuracy=0.8361\n",
      "\n",
      " [==========================================] ...Epoch 23, Loss: 0.1367\n",
      "Train Set: loss=0.5575\n",
      "Validation Set: loss=0.7043, accuracy=0.8028\n",
      "\n",
      " [==========================================] ...Epoch 24, Loss: 0.2279\n",
      "Train Set: loss=0.2789\n",
      "Validation Set: loss=0.4560, accuracy=0.8889\n",
      "\n",
      " [==========================================] ...Epoch 25, Loss: 0.2364\n",
      "Train Set: loss=0.2984\n",
      "Validation Set: loss=0.4263, accuracy=0.8833\n",
      "\n",
      " [==========================================] ...Epoch 26, Loss: 0.1104\n",
      "Train Set: loss=0.0946\n",
      "Validation Set: loss=0.2897, accuracy=0.9333\n",
      "\n",
      " [==========================================] ...Epoch 27, Loss: 0.2858\n",
      "Train Set: loss=0.5643\n",
      "Validation Set: loss=0.6898, accuracy=0.7944\n",
      "\n",
      " [==========================================] ...Epoch 28, Loss: 0.2793\n",
      "Train Set: loss=0.1424\n",
      "Validation Set: loss=0.3059, accuracy=0.9278\n",
      "\n",
      " [==========================================] ...Epoch 29, Loss: 0.1641\n",
      "Train Set: loss=0.1017\n",
      "Validation Set: loss=0.2199, accuracy=0.9361\n",
      "\n",
      " [==========================================] ...Epoch 30, Loss: 0.2101\n",
      "Train Set: loss=0.2386\n",
      "Validation Set: loss=0.3657, accuracy=0.8972\n",
      "\n",
      " [==========================================] ...Epoch 31, Loss: 0.0819\n",
      "Train Set: loss=0.1349\n",
      "Validation Set: loss=0.2789, accuracy=0.9278\n",
      "\n",
      " [==========================================] ...Epoch 32, Loss: 0.0732\n",
      "Train Set: loss=0.0763\n",
      "Validation Set: loss=0.2141, accuracy=0.9417\n",
      "\n",
      " [==========================================] ...Epoch 33, Loss: 0.2012\n",
      "Train Set: loss=0.4703\n",
      "Validation Set: loss=0.5411, accuracy=0.8472\n",
      "\n",
      " [==========================================] ...Epoch 34, Loss: 0.1457\n",
      "Train Set: loss=0.1747\n",
      "Validation Set: loss=0.3235, accuracy=0.9194\n",
      "\n",
      " [==========================================] ...Epoch 35, Loss: 0.4507\n",
      "Train Set: loss=0.1652\n",
      "Validation Set: loss=0.3334, accuracy=0.9056\n",
      "\n",
      " [==========================================] ...Epoch 36, Loss: 0.1035\n",
      "Train Set: loss=0.0554\n",
      "Validation Set: loss=0.1980, accuracy=0.9500\n",
      "\n",
      " [==========================================] ...Epoch 37, Loss: 0.0653\n",
      "Train Set: loss=0.0632\n",
      "Validation Set: loss=0.2628, accuracy=0.9333\n",
      "\n",
      " [==========================================] ...Epoch 38, Loss: 0.0315\n",
      "Train Set: loss=0.0642\n",
      "Validation Set: loss=0.2286, accuracy=0.9500\n",
      "\n",
      " [==========================================] ...Epoch 39, Loss: 0.0696\n",
      "Train Set: loss=0.0535\n",
      "Validation Set: loss=0.2796, accuracy=0.9333\n",
      "\n",
      " [==========================================] ...Epoch 40, Loss: 0.0069\n",
      "Train Set: loss=0.0580\n",
      "Validation Set: loss=0.2270, accuracy=0.9472\n",
      "\n",
      " [==========================================] ...Epoch 41, Loss: 0.0306\n",
      "Train Set: loss=0.1468\n",
      "Validation Set: loss=0.4057, accuracy=0.9250\n",
      "\n",
      " [==========================================] ...Epoch 42, Loss: 0.0150\n",
      "Train Set: loss=0.0340\n",
      "Validation Set: loss=0.2248, accuracy=0.9556\n",
      "\n",
      " [==========================================] ...Epoch 43, Loss: 0.0100\n",
      "Train Set: loss=0.0272\n",
      "Validation Set: loss=0.2060, accuracy=0.9583\n",
      "\n",
      " [==========================================] ...Epoch 44, Loss: 0.0100\n",
      "Train Set: loss=0.0286\n",
      "Validation Set: loss=0.2167, accuracy=0.9556\n",
      "\n",
      " [==========================================] ...Epoch 45, Loss: 0.1089\n",
      "Train Set: loss=0.0219\n",
      "Validation Set: loss=0.2200, accuracy=0.9611\n",
      "\n",
      " [==========================================] ...Epoch 46, Loss: 0.0069\n",
      "Train Set: loss=0.0259\n",
      "Validation Set: loss=0.2543, accuracy=0.9556\n",
      "\n",
      " [==========================================] ...Epoch 47, Loss: 0.0146\n",
      "Train Set: loss=0.0194\n",
      "Validation Set: loss=0.2222, accuracy=0.9556\n",
      "\n",
      " [==========================================] ...Epoch 48, Loss: 0.0110\n",
      "Train Set: loss=0.0196\n",
      "Validation Set: loss=0.2278, accuracy=0.9583\n",
      "\n",
      " [==========================================] ...Epoch 49, Loss: 0.0113\n",
      "Train Set: loss=0.0204\n",
      "Validation Set: loss=0.2249, accuracy=0.9528\n",
      "\n",
      " [==========================================] ...Epoch 50, Loss: 0.0155\n",
      "Train Set: loss=0.0143\n",
      "Validation Set: loss=0.2182, accuracy=0.9583\n",
      "\n",
      "\n",
      "Total train and validation time: 17.96 seconds\n"
     ]
    }
   ],
   "source": [
    "model_basic = BasicLSTM(input_dim=INPUT_SIZE, hidden_dim=20, output_dim=10, num_layers=3).to(DEVICE)\n",
    "\n",
    "loss_function = torch.nn.CrossEntropyLoss()\n",
    "optimizer = torch.optim.SGD(model_basic.parameters(), lr=1)\n",
    "\n",
    "total_train_loss, total_val_loss = train_and_val_model(EPOCHS, train_loader, val_loader, model_basic, \n",
    "                                                        loss_function, optimizer)"
   ]
  },
  {
   "cell_type": "code",
   "execution_count": 121,
   "metadata": {},
   "outputs": [
    {
     "name": "stdout",
     "output_type": "stream",
     "text": [
      "\n",
      "Test Set: loss=0.3288, accuracy=0.9400, f1-macro=0.9405\n"
     ]
    }
   ],
   "source": [
    "y_test_pred, y_test_gold = test_model(test_loader, model_basic, loss_function, \"Test\")"
   ]
  },
  {
   "cell_type": "markdown",
   "metadata": {},
   "source": [
    "5. Με την χρήση `Dropout Layer` με πιθανότητα $30\\%$ καθώς και `L2 Regularization` (Ridge Regression) έχουμε:"
   ]
  },
  {
   "cell_type": "code",
   "execution_count": 125,
   "metadata": {
    "scrolled": true
   },
   "outputs": [
    {
     "name": "stdout",
     "output_type": "stream",
     "text": [
      " [==========================================] ...Epoch 1, Loss: 2.3096\n",
      "Train Set: loss=2.3012\n",
      "Validation Set: loss=2.3024, accuracy=0.1000\n",
      "\n",
      " [==========================================] ...Epoch 2, Loss: 2.3034\n",
      "Train Set: loss=2.2923\n",
      "Validation Set: loss=2.2928, accuracy=0.1222\n",
      "\n",
      " [==========================================] ...Epoch 3, Loss: 2.2055\n",
      "Train Set: loss=2.1770\n",
      "Validation Set: loss=2.1832, accuracy=0.1972\n",
      "\n",
      " [==========================================] ...Epoch 4, Loss: 2.0387\n",
      "Train Set: loss=1.9640\n",
      "Validation Set: loss=1.9699, accuracy=0.2250\n",
      "\n",
      " [==========================================] ...Epoch 5, Loss: 1.9020\n",
      "Train Set: loss=1.8586\n",
      "Validation Set: loss=1.8740, accuracy=0.2472\n",
      "\n",
      " [==========================================] ...Epoch 6, Loss: 1.6722\n",
      "Train Set: loss=1.6228\n",
      "Validation Set: loss=1.6590, accuracy=0.3111\n",
      "\n",
      " [==========================================] ...Epoch 7, Loss: 1.6151\n",
      "Train Set: loss=1.7518\n",
      "Validation Set: loss=1.8193, accuracy=0.2667\n",
      "\n",
      " [==========================================] ...Epoch 8, Loss: 1.4875\n",
      "Train Set: loss=1.3584\n",
      "Validation Set: loss=1.4672, accuracy=0.3611\n",
      "\n",
      " [==========================================] ...Epoch 9, Loss: 1.4022\n",
      "Train Set: loss=2.4750\n",
      "Validation Set: loss=2.5754, accuracy=0.2111\n",
      "\n",
      " [==========================================] ...Epoch 10, Loss: 1.0577\n",
      "Train Set: loss=1.1740\n",
      "Validation Set: loss=1.2998, accuracy=0.4639\n",
      "\n",
      " [==========================================] ...Epoch 11, Loss: 0.9906\n",
      "Train Set: loss=1.0911\n",
      "Validation Set: loss=1.1567, accuracy=0.5861\n",
      "\n",
      " [==========================================] ...Epoch 12, Loss: 1.0482\n",
      "Train Set: loss=0.8690\n",
      "Validation Set: loss=0.9284, accuracy=0.6444\n",
      "\n",
      " [==========================================] ...Epoch 13, Loss: 0.9063\n",
      "Train Set: loss=1.0530\n",
      "Validation Set: loss=1.1121, accuracy=0.5639\n",
      "\n",
      " [==========================================] ...Epoch 14, Loss: 0.9805\n",
      "Train Set: loss=0.8755\n",
      "Validation Set: loss=1.0018, accuracy=0.5611\n",
      "\n",
      " [==========================================] ...Epoch 15, Loss: 0.5685\n",
      "Train Set: loss=0.8648\n",
      "Validation Set: loss=1.0043, accuracy=0.6583\n",
      "\n",
      " [==========================================] ...Epoch 16, Loss: 0.9256\n",
      "Train Set: loss=0.6773\n",
      "Validation Set: loss=0.7243, accuracy=0.7472\n",
      "\n",
      " [==========================================] ...Epoch 17, Loss: 0.5737\n",
      "Train Set: loss=0.8076\n",
      "Validation Set: loss=0.9305, accuracy=0.6861\n",
      "\n",
      " [==========================================] ...Epoch 18, Loss: 0.4810\n",
      "Train Set: loss=0.3704\n",
      "Validation Set: loss=0.4913, accuracy=0.8278\n",
      "\n",
      " [==========================================] ...Epoch 19, Loss: 0.3380\n",
      "Train Set: loss=0.5890\n",
      "Validation Set: loss=0.7461, accuracy=0.7750\n",
      "\n",
      " [==========================================] ...Epoch 20, Loss: 0.5278\n",
      "Train Set: loss=0.3179\n",
      "Validation Set: loss=0.4480, accuracy=0.8444\n",
      "\n",
      " [==========================================] ...Epoch 21, Loss: 0.2937\n",
      "Train Set: loss=0.2505\n",
      "Validation Set: loss=0.3406, accuracy=0.9000\n",
      "\n",
      " [==========================================] ...Epoch 22, Loss: 0.4739\n",
      "Train Set: loss=0.5439\n",
      "Validation Set: loss=0.7528, accuracy=0.7667\n",
      "\n",
      " [==========================================] ...Epoch 23, Loss: 0.2570\n",
      "Train Set: loss=0.2147\n",
      "Validation Set: loss=0.3632, accuracy=0.8750\n",
      "\n",
      " [==========================================] ...Epoch 24, Loss: 0.2417\n",
      "Train Set: loss=0.2676\n",
      "Validation Set: loss=0.3963, accuracy=0.8583\n",
      "\n",
      " [==========================================] ...Epoch 25, Loss: 0.5901\n",
      "Train Set: loss=0.2442\n",
      "Validation Set: loss=0.4116, accuracy=0.8778\n",
      "\n",
      " [==========================================] ...Epoch 26, Loss: 0.2444\n",
      "Train Set: loss=0.1480\n",
      "Validation Set: loss=0.2831, accuracy=0.9250\n",
      "\n",
      " [==========================================] ...Epoch 27, Loss: 0.4146\n",
      "Train Set: loss=0.1393\n",
      "Validation Set: loss=0.2811, accuracy=0.9139\n",
      "\n",
      " [==========================================] ...Epoch 28, Loss: 0.4118\n",
      "Train Set: loss=0.3497\n",
      "Validation Set: loss=0.4908, accuracy=0.8278\n",
      "\n",
      " [==========================================] ...Epoch 29, Loss: 0.0931\n",
      "Train Set: loss=0.1012\n",
      "Validation Set: loss=0.2942, accuracy=0.9083\n",
      "\n",
      " [==========================================] ...Epoch 30, Loss: 0.1383\n",
      "Train Set: loss=0.1269\n",
      "Validation Set: loss=0.3234, accuracy=0.8972\n",
      "\n",
      " [==========================================] ...Epoch 31, Loss: 0.1858\n",
      "Train Set: loss=0.0832\n",
      "Validation Set: loss=0.2935, accuracy=0.9278\n",
      "\n",
      " [==========================================] ...Epoch 32, Loss: 0.1730\n",
      "Train Set: loss=0.1468\n",
      "Validation Set: loss=0.3615, accuracy=0.8944\n",
      "\n",
      " [==========================================] ...Epoch 33, Loss: 0.4159\n",
      "Train Set: loss=0.3541\n",
      "Validation Set: loss=0.6482, accuracy=0.8500\n",
      "\n",
      " [==========================================] ...Epoch 34, Loss: 0.6142\n",
      "Train Set: loss=0.7052\n",
      "Validation Set: loss=0.8967, accuracy=0.7611\n",
      "\n",
      " [==========================================] ...Epoch 35, Loss: 0.1746\n",
      "Train Set: loss=0.1834\n",
      "Validation Set: loss=0.3373, accuracy=0.9028\n",
      "\n",
      " [==========================================] ...Epoch 36, Loss: 0.1375\n",
      "Train Set: loss=0.1003\n",
      "Validation Set: loss=0.3425, accuracy=0.9139\n",
      "\n",
      " [==========================================] ...Epoch 37, Loss: 0.1658\n",
      "Train Set: loss=0.1493\n",
      "Validation Set: loss=0.2849, accuracy=0.9250\n",
      "\n",
      " [==========================================] ...Epoch 38, Loss: 0.0798\n",
      "Train Set: loss=0.0894\n",
      "Validation Set: loss=0.2272, accuracy=0.9306\n",
      "\n",
      " [==========================================] ...Epoch 39, Loss: 0.1003\n",
      "Train Set: loss=0.0855\n",
      "Validation Set: loss=0.2243, accuracy=0.9389\n",
      "\n",
      " [==========================================] ...Epoch 40, Loss: 0.2034\n",
      "Train Set: loss=0.0492\n",
      "Validation Set: loss=0.1869, accuracy=0.9611\n",
      "\n",
      " [==========================================] ...Epoch 41, Loss: 0.3519\n",
      "Train Set: loss=0.2569\n",
      "Validation Set: loss=0.3909, accuracy=0.8972\n",
      "\n",
      " [==========================================] ...Epoch 42, Loss: 0.0763\n",
      "Train Set: loss=0.0506\n",
      "Validation Set: loss=0.2242, accuracy=0.9472\n",
      "\n",
      " [==========================================] ...Epoch 43, Loss: 0.2350\n",
      "Train Set: loss=0.1514\n",
      "Validation Set: loss=0.3509, accuracy=0.9056\n",
      "\n",
      " [==========================================] ...Epoch 44, Loss: 0.1433\n",
      "Train Set: loss=0.0887\n",
      "Validation Set: loss=0.3058, accuracy=0.9306\n",
      "\n",
      " [==========================================] ...Epoch 45, Loss: 0.1929\n",
      "Train Set: loss=0.1074\n",
      "Validation Set: loss=0.3192, accuracy=0.9056\n",
      "\n",
      " [==========================================] ...Epoch 46, Loss: 0.1363\n",
      "Train Set: loss=0.0737\n",
      "Validation Set: loss=0.2254, accuracy=0.9500\n",
      "\n",
      " [==========================================] ...Epoch 47, Loss: 0.1849\n",
      "Train Set: loss=0.1406\n",
      "Validation Set: loss=0.3214, accuracy=0.9222\n",
      "\n",
      " [==========================================] ...Epoch 48, Loss: 0.1259\n",
      "Train Set: loss=0.0403\n",
      "Validation Set: loss=0.2115, accuracy=0.9583\n",
      "\n",
      " [==========================================] ...Epoch 49, Loss: 0.0138\n",
      "Train Set: loss=0.0391\n",
      "Validation Set: loss=0.1974, accuracy=0.9556\n",
      "\n",
      " [==========================================] ...Epoch 50, Loss: 0.0891\n",
      "Train Set: loss=0.0673\n",
      "Validation Set: loss=0.2485, accuracy=0.9194\n",
      "\n",
      "\n",
      "Total train and validation time: 24.89 seconds\n"
     ]
    }
   ],
   "source": [
    "model_drop_l2 = BasicLSTM(input_dim=INPUT_SIZE, hidden_dim=20, output_dim=10, num_layers=3, dropout_prob=0.3).to(DEVICE)\n",
    "\n",
    "loss_function = torch.nn.CrossEntropyLoss()\n",
    "optimizer_L2 = torch.optim.SGD(model_drop_l2.parameters(), lr=1, weight_decay=1e-5)\n",
    "\n",
    "\n",
    "total_train_loss, total_val_loss = train_and_val_model(EPOCHS, train_loader, val_loader, model_drop_l2,\n",
    "                                                       loss_function, optimizer_L2)"
   ]
  },
  {
   "cell_type": "code",
   "execution_count": 126,
   "metadata": {},
   "outputs": [
    {
     "name": "stdout",
     "output_type": "stream",
     "text": [
      "\n",
      "Test Set: loss=0.2967, accuracy=0.9300, f1-macro=0.9296\n"
     ]
    }
   ],
   "source": [
    "y_test_pred, y_test_gold = test_model(test_loader, model_drop_l2, loss_function, \"Test\")"
   ]
  },
  {
   "cell_type": "markdown",
   "metadata": {},
   "source": [
    ">Το `Dropout` είναι μια τεχνική για την απενεργοποίηση νευρώνων του δικτύου με βάση μια δοσμένη πιθανότητα που προκύπτει από την κατανομή _Bernoulli_. Ουσιαστικά, οι νευρώνες ενός δικτύου χωρίς `Dropout` χτίζουν εξαρτήσεις μεταξύ τους κατα την εκπαίδευση και έτσι περιορίζεται η ατομική ισχύς του κάθε νευρώνα οδηγώντας έτσι το δίκτυο σε υπερβολική προσαρμογή στα δεδομένα εκπαίδευσης. Το `Dropout` λοιπόν συμβάλλει στο να μειωθούν μερικώς οι εξαρτήσεις αυτές και κατ' επέκταση στην αποφυγή του `overfitting`. Συνήθως η τεχνική του `Dropout` είναι χρήσιμη σε μεγάλα και πολύπλοκα δίκτυα και γι' αυτό δε διακρίνουμε κατ' ανάγκη βελτίωση στην περίπτωση μας. Να σημειωθεί ακόμη πως συνήθως με τη χρήση `Dropout` απαιτείται μεγαλύτερος αριθμός εποχών για τη σύγκλιση του μοντέλου.\n",
    "\n",
    ">Το `L2 Regularization` (Ridge Regression) είναι μια τεχνική με την οποία προσθέτουμε στο `loss` ένα regularization term αποτελούμενο από το άθροισμα κάποιων τετραγωνικών όρων πολλαπλασιασμένο με κάποια σταθερά $λ$. Πιο διαισθητικά προσθέτουμε στο `loss` μια ποσότητα που δείχνει πόσο πολύπλοκο είναι το μοντέλο μας (δηλαδή πόσο ειδικό), και καλούμαστε να ελαχιστοποιήσουμε αυτήν την καινούρια ποσότητα. Προσθέτοντας αυτό λοιπόν το _penalty term_ αποφεύγεται σε σημαντικό βαθμό το `overfitting`. Ωστόσο, προσοχή πρέπει να δοθεί στην ποσότητα $λ$ καθώς πολύ μεγάλες τιμές της μπορούν να οδηγήσουν και σε `underfitting` καθώς φτιάχνεται ένα μοντέλο που γενικεύει παραπάνω απ' όσο θα έπρεπε."
   ]
  },
  {
   "cell_type": "markdown",
   "metadata": {},
   "source": [
    "6. Με την χρήση `Early Stopping` και `Checkpoints` μέσω της κλάσης `EarlyStopping` που έχουμε φτιάξει παραπάνω έχουμε:"
   ]
  },
  {
   "cell_type": "code",
   "execution_count": 131,
   "metadata": {
    "scrolled": true
   },
   "outputs": [
    {
     "name": "stdout",
     "output_type": "stream",
     "text": [
      " [==========================================] ...Epoch 1, Loss: 2.2982\n",
      "Train Set: loss=2.3012\n",
      "Validation Set: loss=2.3009, accuracy=0.1028\n",
      "\n",
      "Validation loss decreased (inf --> 2.300871). Saving model...\n",
      "\n",
      "\n",
      " [==========================================] ...Epoch 2, Loss: 2.3095\n",
      "Train Set: loss=2.2962\n",
      "Validation Set: loss=2.2965, accuracy=0.1000\n",
      "\n",
      "Validation loss decreased (2.300871 --> 2.296526). Saving model...\n",
      "\n",
      "\n",
      " [==========================================] ...Epoch 3, Loss: 2.2904\n",
      "Train Set: loss=2.2603\n",
      "Validation Set: loss=2.2640, accuracy=0.1556\n",
      "\n",
      "Validation loss decreased (2.296526 --> 2.264000). Saving model...\n",
      "\n",
      "\n",
      " [==========================================] ...Epoch 4, Loss: 1.8298\n",
      "Train Set: loss=2.0954\n",
      "Validation Set: loss=2.1000, accuracy=0.2028\n",
      "\n",
      "Validation loss decreased (2.264000 --> 2.099979). Saving model...\n",
      "\n",
      "\n",
      " [==========================================] ...Epoch 5, Loss: 1.8326\n",
      "Train Set: loss=1.6928\n",
      "Validation Set: loss=1.7378, accuracy=0.3250\n",
      "\n",
      "Validation loss decreased (2.099979 --> 1.737754). Saving model...\n",
      "\n",
      "\n",
      " [==========================================] ...Epoch 6, Loss: 1.6458\n",
      "Train Set: loss=1.5053\n",
      "Validation Set: loss=1.5377, accuracy=0.4306\n",
      "\n",
      "Validation loss decreased (1.737754 --> 1.537744). Saving model...\n",
      "\n",
      "\n",
      " [==========================================] ...Epoch 7, Loss: 1.1321\n",
      "Train Set: loss=1.0762\n",
      "Validation Set: loss=1.1875, accuracy=0.5333\n",
      "\n",
      "Validation loss decreased (1.537744 --> 1.187453). Saving model...\n",
      "\n",
      "\n",
      " [==========================================] ...Epoch 8, Loss: 0.8671\n",
      "Train Set: loss=0.9139\n",
      "Validation Set: loss=1.0440, accuracy=0.6639\n",
      "\n",
      "Validation loss decreased (1.187453 --> 1.043996). Saving model...\n",
      "\n",
      "\n",
      " [==========================================] ...Epoch 9, Loss: 0.8758\n",
      "Train Set: loss=0.9273\n",
      "Validation Set: loss=1.0230, accuracy=0.5833\n",
      "\n",
      "Validation loss decreased (1.043996 --> 1.023043). Saving model...\n",
      "\n",
      "\n",
      " [==========================================] ...Epoch 10, Loss: 0.7122\n",
      "Train Set: loss=1.0038\n",
      "Validation Set: loss=1.1597, accuracy=0.6139\n",
      "\n",
      "EarlyStopping counter: 1 out of 5\n",
      "\n",
      "\n",
      " [==========================================] ...Epoch 11, Loss: 0.5523\n",
      "Train Set: loss=0.6023\n",
      "Validation Set: loss=0.7417, accuracy=0.7167\n",
      "\n",
      "Validation loss decreased (1.023043 --> 0.741719). Saving model...\n",
      "\n",
      "\n",
      " [==========================================] ...Epoch 12, Loss: 1.0613\n",
      "Train Set: loss=2.5145\n",
      "Validation Set: loss=2.6190, accuracy=0.2694\n",
      "\n",
      "EarlyStopping counter: 1 out of 5\n",
      "\n",
      "\n",
      " [==========================================] ...Epoch 13, Loss: 0.6838\n",
      "Train Set: loss=0.8062\n",
      "Validation Set: loss=1.0139, accuracy=0.6389\n",
      "\n",
      "EarlyStopping counter: 2 out of 5\n",
      "\n",
      "\n",
      " [==========================================] ...Epoch 14, Loss: 0.7102\n",
      "Train Set: loss=0.6629\n",
      "Validation Set: loss=0.8284, accuracy=0.7583\n",
      "\n",
      "EarlyStopping counter: 3 out of 5\n",
      "\n",
      "\n",
      " [==========================================] ...Epoch 15, Loss: 0.4452\n",
      "Train Set: loss=0.6392\n",
      "Validation Set: loss=0.8052, accuracy=0.7722\n",
      "\n",
      "EarlyStopping counter: 4 out of 5\n",
      "\n",
      "\n",
      " [==========================================] ...Epoch 16, Loss: 0.7114\n",
      "Train Set: loss=0.3809\n",
      "Validation Set: loss=0.4710, accuracy=0.8361\n",
      "\n",
      "Validation loss decreased (0.741719 --> 0.470991). Saving model...\n",
      "\n",
      "\n",
      " [==========================================] ...Epoch 17, Loss: 0.8354\n",
      "Train Set: loss=0.6329\n",
      "Validation Set: loss=0.8677, accuracy=0.7528\n",
      "\n",
      "EarlyStopping counter: 1 out of 5\n",
      "\n",
      "\n",
      " [==========================================] ...Epoch 18, Loss: 0.6489\n",
      "Train Set: loss=0.5410\n",
      "Validation Set: loss=0.6169, accuracy=0.7861\n",
      "\n",
      "EarlyStopping counter: 2 out of 5\n",
      "\n",
      "\n",
      " [==========================================] ...Epoch 19, Loss: 0.4378\n",
      "Train Set: loss=0.2597\n",
      "Validation Set: loss=0.4032, accuracy=0.8833\n",
      "\n",
      "Validation loss decreased (0.470991 --> 0.403236). Saving model...\n",
      "\n",
      "\n",
      " [==========================================] ...Epoch 20, Loss: 0.0770\n",
      "Train Set: loss=0.2016\n",
      "Validation Set: loss=0.3360, accuracy=0.8917\n",
      "\n",
      "Validation loss decreased (0.403236 --> 0.336030). Saving model...\n",
      "\n",
      "\n",
      " [==========================================] ...Epoch 21, Loss: 0.3669\n",
      "Train Set: loss=0.1951\n",
      "Validation Set: loss=0.3942, accuracy=0.8806\n",
      "\n",
      "EarlyStopping counter: 1 out of 5\n",
      "\n",
      "\n",
      " [==========================================] ...Epoch 22, Loss: 0.5788\n",
      "Train Set: loss=0.3749\n",
      "Validation Set: loss=0.4913, accuracy=0.8500\n",
      "\n",
      "EarlyStopping counter: 2 out of 5\n",
      "\n",
      "\n",
      " [==========================================] ...Epoch 23, Loss: 0.1082\n",
      "Train Set: loss=0.2103\n",
      "Validation Set: loss=0.2999, accuracy=0.9194\n",
      "\n",
      "Validation loss decreased (0.336030 --> 0.299905). Saving model...\n",
      "\n",
      "\n",
      " [==========================================] ...Epoch 24, Loss: 0.4042\n",
      "Train Set: loss=0.2623\n",
      "Validation Set: loss=0.3485, accuracy=0.9083\n",
      "\n",
      "EarlyStopping counter: 1 out of 5\n",
      "\n",
      "\n",
      " [==========================================] ...Epoch 25, Loss: 0.5481\n",
      "Train Set: loss=0.4332\n",
      "Validation Set: loss=0.5543, accuracy=0.8556\n",
      "\n",
      "EarlyStopping counter: 2 out of 5\n",
      "\n",
      "\n",
      " [==========================================] ...Epoch 26, Loss: 0.3069\n",
      "Train Set: loss=0.2823\n",
      "Validation Set: loss=0.4280, accuracy=0.8500\n",
      "\n",
      "EarlyStopping counter: 3 out of 5\n",
      "\n",
      "\n",
      " [==========================================] ...Epoch 27, Loss: 0.2023\n",
      "Train Set: loss=0.2095\n",
      "Validation Set: loss=0.3669, accuracy=0.8889\n",
      "\n",
      "EarlyStopping counter: 4 out of 5\n",
      "\n",
      "\n",
      " [==========================================] ...Epoch 28, Loss: 0.1379\n",
      "Train Set: loss=0.2019\n",
      "Validation Set: loss=0.3663, accuracy=0.8944\n",
      "\n",
      "EarlyStopping counter: 5 out of 5\n",
      "\n",
      "\n",
      "Early stopping...\n",
      "\n",
      "Total train and validation time: 10.12 seconds\n"
     ]
    }
   ],
   "source": [
    "model_stop_check = BasicLSTM(input_dim=INPUT_SIZE, hidden_dim=20, output_dim=10, num_layers=3).to(DEVICE)\n",
    "\n",
    "loss_function = torch.nn.CrossEntropyLoss()\n",
    "optimizer = torch.optim.SGD(model_stop_check.parameters(), lr=1)\n",
    "\n",
    "total_train_loss, total_val_loss = train_and_val_model(EPOCHS, train_loader, val_loader, model_stop_check, \n",
    "                                                        loss_function, optimizer, early_stopping_limit=5)"
   ]
  },
  {
   "cell_type": "code",
   "execution_count": 132,
   "metadata": {},
   "outputs": [
    {
     "name": "stdout",
     "output_type": "stream",
     "text": [
      "\n",
      "Test Set: loss=0.3463, accuracy=0.9050, f1-macro=0.9044\n"
     ]
    }
   ],
   "source": [
    "y_test_pred, y_test_gold = test_model(test_loader, model_stop_check, loss_function, \"Test\")"
   ]
  },
  {
   "cell_type": "markdown",
   "metadata": {},
   "source": [
    ">Το `Early Stopping` είναι μέθοδος `reguralization` η οποία βοηθάει στην αποφυγή του `overfitting`, μιας και αν παρατηρήσει πως για κάποιο αριθμό επαναλήψεων το `loss` αρχίσει και αυξάνεται τότε σταματάει την διαδικασία της εκπαίδευσης, κρατώντας το μοντέλο με το ελάχιστο `loss` σε ένα αρχείο στο file system ως `checkpoint`(για τη  συγκεκριμένη εκπαίδευση). Παρατηρούμε επίσης πως παίρνουμε ένα ικανοποιήτικο αποτέλεσμα με πολύ μικρότερο χρόνο εκπαίδευσης."
   ]
  },
  {
   "cell_type": "markdown",
   "metadata": {},
   "source": [
    "7. Για το `Bidirectional LSTM` δίκτυο έχουμε:"
   ]
  },
  {
   "cell_type": "code",
   "execution_count": 138,
   "metadata": {
    "scrolled": true
   },
   "outputs": [
    {
     "name": "stdout",
     "output_type": "stream",
     "text": [
      " [==========================================] ...Epoch 1, Loss: 2.3081\n",
      "Train Set: loss=2.2968\n",
      "Validation Set: loss=2.2978, accuracy=0.1000\n",
      "\n",
      " [==========================================] ...Epoch 2, Loss: 2.2738\n",
      "Train Set: loss=2.2491\n",
      "Validation Set: loss=2.2507, accuracy=0.2167\n",
      "\n",
      " [==========================================] ...Epoch 3, Loss: 1.9388\n",
      "Train Set: loss=1.9267\n",
      "Validation Set: loss=1.9510, accuracy=0.2028\n",
      "\n",
      " [==========================================] ...Epoch 4, Loss: 1.7651\n",
      "Train Set: loss=2.0478\n",
      "Validation Set: loss=2.0696, accuracy=0.2333\n",
      "\n",
      " [==========================================] ...Epoch 5, Loss: 1.4106\n",
      "Train Set: loss=1.5145\n",
      "Validation Set: loss=1.6008, accuracy=0.3667\n",
      "\n",
      " [==========================================] ...Epoch 6, Loss: 1.3496\n",
      "Train Set: loss=1.3191\n",
      "Validation Set: loss=1.4093, accuracy=0.5417\n",
      "\n",
      " [==========================================] ...Epoch 7, Loss: 1.0378\n",
      "Train Set: loss=1.6178\n",
      "Validation Set: loss=1.8055, accuracy=0.3861\n",
      "\n",
      " [==========================================] ...Epoch 8, Loss: 0.7478\n",
      "Train Set: loss=0.8880\n",
      "Validation Set: loss=1.0410, accuracy=0.6056\n",
      "\n",
      " [==========================================] ...Epoch 9, Loss: 0.9805\n",
      "Train Set: loss=0.7097\n",
      "Validation Set: loss=0.8130, accuracy=0.7194\n",
      "\n",
      " [==========================================] ...Epoch 10, Loss: 0.5571\n",
      "Train Set: loss=0.7146\n",
      "Validation Set: loss=0.8321, accuracy=0.7278\n",
      "\n",
      " [==========================================] ...Epoch 11, Loss: 0.4191\n",
      "Train Set: loss=0.6841\n",
      "Validation Set: loss=0.8140, accuracy=0.7278\n",
      "\n",
      " [==========================================] ...Epoch 12, Loss: 0.6434\n",
      "Train Set: loss=0.5314\n",
      "Validation Set: loss=0.6282, accuracy=0.7917\n",
      "\n",
      " [==========================================] ...Epoch 13, Loss: 0.4211\n",
      "Train Set: loss=0.4935\n",
      "Validation Set: loss=0.6163, accuracy=0.8111\n",
      "\n",
      " [==========================================] ...Epoch 14, Loss: 0.4357\n",
      "Train Set: loss=0.3483\n",
      "Validation Set: loss=0.4862, accuracy=0.8750\n",
      "\n",
      " [==========================================] ...Epoch 15, Loss: 0.3479\n",
      "Train Set: loss=3.3109\n",
      "Validation Set: loss=3.3089, accuracy=0.3194\n",
      "\n",
      " [==========================================] ...Epoch 16, Loss: 0.6448\n",
      "Train Set: loss=0.4693\n",
      "Validation Set: loss=0.6075, accuracy=0.8111\n",
      "\n",
      " [==========================================] ...Epoch 17, Loss: 0.3400\n",
      "Train Set: loss=0.3799\n",
      "Validation Set: loss=0.5513, accuracy=0.8361\n",
      "\n",
      " [==========================================] ...Epoch 18, Loss: 0.2707\n",
      "Train Set: loss=0.2721\n",
      "Validation Set: loss=0.4332, accuracy=0.8778\n",
      "\n",
      " [==========================================] ...Epoch 19, Loss: 0.3606\n",
      "Train Set: loss=0.6406\n",
      "Validation Set: loss=0.7791, accuracy=0.7556\n",
      "\n",
      " [==========================================] ...Epoch 20, Loss: 0.4500\n",
      "Train Set: loss=0.5665\n",
      "Validation Set: loss=0.7051, accuracy=0.7639\n",
      "\n",
      " [==========================================] ...Epoch 21, Loss: 0.4436\n",
      "Train Set: loss=0.3879\n",
      "Validation Set: loss=0.5532, accuracy=0.8333\n",
      "\n",
      " [==========================================] ...Epoch 22, Loss: 0.2569\n",
      "Train Set: loss=0.2332\n",
      "Validation Set: loss=0.3683, accuracy=0.8889\n",
      "\n",
      " [==========================================] ...Epoch 23, Loss: 0.2538\n",
      "Train Set: loss=0.2387\n",
      "Validation Set: loss=0.4136, accuracy=0.8778\n",
      "\n",
      " [==========================================] ...Epoch 24, Loss: 0.1418\n",
      "Train Set: loss=0.1736\n",
      "Validation Set: loss=0.2893, accuracy=0.9083\n",
      "\n",
      " [==========================================] ...Epoch 25, Loss: 0.0716\n",
      "Train Set: loss=0.1259\n",
      "Validation Set: loss=0.2575, accuracy=0.9056\n",
      "\n",
      " [==========================================] ...Epoch 26, Loss: 0.2034\n",
      "Train Set: loss=0.2514\n",
      "Validation Set: loss=0.3770, accuracy=0.8833\n",
      "\n",
      " [==========================================] ...Epoch 27, Loss: 0.2169\n",
      "Train Set: loss=0.1924\n",
      "Validation Set: loss=0.3152, accuracy=0.8972\n",
      "\n",
      " [==========================================] ...Epoch 28, Loss: 0.1246\n",
      "Train Set: loss=0.0946\n",
      "Validation Set: loss=0.2476, accuracy=0.9167\n",
      "\n",
      " [==========================================] ...Epoch 29, Loss: 0.1248\n",
      "Train Set: loss=0.2389\n",
      "Validation Set: loss=0.4074, accuracy=0.8694\n",
      "\n",
      " [==========================================] ...Epoch 30, Loss: 0.1853\n",
      "Train Set: loss=0.0954\n",
      "Validation Set: loss=0.3313, accuracy=0.9000\n",
      "\n",
      " [==========================================] ...Epoch 31, Loss: 0.0220\n",
      "Train Set: loss=0.0766\n",
      "Validation Set: loss=0.2224, accuracy=0.9333\n",
      "\n",
      " [==========================================] ...Epoch 32, Loss: 0.0520\n",
      "Train Set: loss=0.0789\n",
      "Validation Set: loss=0.2752, accuracy=0.9250\n",
      "\n",
      " [==========================================] ...Epoch 33, Loss: 0.1125\n",
      "Train Set: loss=0.1726\n",
      "Validation Set: loss=0.3298, accuracy=0.9028\n",
      "\n",
      " [==========================================] ...Epoch 34, Loss: 0.0099\n",
      "Train Set: loss=0.0405\n",
      "Validation Set: loss=0.1877, accuracy=0.9444\n",
      "\n",
      " [==========================================] ...Epoch 35, Loss: 0.0140\n",
      "Train Set: loss=0.0305\n",
      "Validation Set: loss=0.1738, accuracy=0.9583\n",
      "\n",
      " [==========================================] ...Epoch 36, Loss: 0.1365\n",
      "Train Set: loss=0.3686\n",
      "Validation Set: loss=0.5151, accuracy=0.8389\n",
      "\n",
      " [==========================================] ...Epoch 37, Loss: 0.0265\n",
      "Train Set: loss=0.0353\n",
      "Validation Set: loss=0.1450, accuracy=0.9583\n",
      "\n",
      " [==========================================] ...Epoch 38, Loss: 0.0963\n",
      "Train Set: loss=0.0766\n",
      "Validation Set: loss=0.2393, accuracy=0.9250\n",
      "\n",
      " [==========================================] ...Epoch 39, Loss: 0.0088\n",
      "Train Set: loss=0.0261\n",
      "Validation Set: loss=0.1518, accuracy=0.9528\n",
      "\n",
      " [==========================================] ...Epoch 40, Loss: 0.1149\n",
      "Train Set: loss=0.0307\n",
      "Validation Set: loss=0.1876, accuracy=0.9611\n",
      "\n",
      " [==========================================] ...Epoch 41, Loss: 0.0119\n",
      "Train Set: loss=0.0173\n",
      "Validation Set: loss=0.1319, accuracy=0.9667\n",
      "\n",
      " [==========================================] ...Epoch 42, Loss: 0.0066\n",
      "Train Set: loss=0.0194\n",
      "Validation Set: loss=0.1810, accuracy=0.9556\n",
      "\n",
      " [==========================================] ...Epoch 43, Loss: 0.0113\n",
      "Train Set: loss=0.0169\n",
      "Validation Set: loss=0.1562, accuracy=0.9556\n",
      "\n",
      " [==========================================] ...Epoch 44, Loss: 0.0057\n",
      "Train Set: loss=0.0246\n",
      "Validation Set: loss=0.1694, accuracy=0.9639\n",
      "\n",
      " [==========================================] ...Epoch 45, Loss: 0.0059\n",
      "Train Set: loss=0.0183\n",
      "Validation Set: loss=0.1739, accuracy=0.9528\n",
      "\n",
      " [==========================================] ...Epoch 46, Loss: 0.0579\n",
      "Train Set: loss=0.0301\n",
      "Validation Set: loss=0.1591, accuracy=0.9611\n",
      "\n",
      " [==========================================] ...Epoch 47, Loss: 0.0614\n",
      "Train Set: loss=0.0196\n",
      "Validation Set: loss=0.1655, accuracy=0.9556\n",
      "\n",
      " [==========================================] ...Epoch 48, Loss: 0.0112\n",
      "Train Set: loss=0.0111\n",
      "Validation Set: loss=0.1393, accuracy=0.9667\n",
      "\n",
      " [==========================================] ...Epoch 49, Loss: 0.0040\n",
      "Train Set: loss=0.0220\n",
      "Validation Set: loss=0.1481, accuracy=0.9528\n",
      "\n",
      " [==========================================] ...Epoch 50, Loss: 0.0277\n",
      "Train Set: loss=0.0117\n",
      "Validation Set: loss=0.1586, accuracy=0.9583\n",
      "\n",
      "\n",
      "Total train and validation time: 31.07 seconds\n"
     ]
    }
   ],
   "source": [
    "model_bi = BasicLSTM(input_dim=INPUT_SIZE, hidden_dim=20, output_dim=10, num_layers=3, bidirectional=True).to(DEVICE)\n",
    "\n",
    "loss_function = torch.nn.CrossEntropyLoss()\n",
    "optimizer = torch.optim.SGD(model_bi.parameters(), lr=1)\n",
    "\n",
    "\n",
    "total_train_loss, total_val_loss = train_and_val_model(EPOCHS, train_loader, val_loader, model_bi,\n",
    "                                                       loss_function, optimizer)"
   ]
  },
  {
   "cell_type": "code",
   "execution_count": 139,
   "metadata": {
    "scrolled": true
   },
   "outputs": [
    {
     "name": "stdout",
     "output_type": "stream",
     "text": [
      "\n",
      "Test Set: loss=0.1137, accuracy=0.9650, f1-macro=0.9648\n"
     ]
    }
   ],
   "source": [
    "y_test_pred, y_test_gold = test_model(test_loader, model_bi, loss_function, \"Test\")"
   ]
  },
  {
   "cell_type": "markdown",
   "metadata": {},
   "source": [
    ">Ως προς την εσωτερική αρχιτεκτονική του δικτύου, το _hidden dimension_ είναι διπλάσιο σε σχέση με πριν καθώς κάθε _hidden layer_ συνδέεται με το επόμενο και προς τις δύο φορές. Πρακτικά αυτό σημαίνει πως το `LSTM` μας δεν \"κοιτάει\" μόνο στο παρελθόν αλλά και στο μέλλον, έχοντας την ικανότητα να μην κοιτάει μόνο σε προηγούμενες χρονικές στιγμές αλλά και σε επόμενες."
   ]
  },
  {
   "cell_type": "markdown",
   "metadata": {},
   "source": [
    "8. **(Bonus)** Με χρήση pack_padded_sequence στην εκπαίδευση του μοντέλου:"
   ]
  },
  {
   "cell_type": "code",
   "execution_count": 135,
   "metadata": {
    "scrolled": true
   },
   "outputs": [
    {
     "name": "stdout",
     "output_type": "stream",
     "text": [
      " [==========================================] ...Epoch 1, Loss: 2.2984\n",
      "Train Set: loss=2.3022\n",
      "Validation Set: loss=2.3012, accuracy=0.1000\n",
      "\n",
      " [==========================================] ...Epoch 2, Loss: 2.3011\n",
      "Train Set: loss=2.2975\n",
      "Validation Set: loss=2.2991, accuracy=0.1000\n",
      "\n",
      " [==========================================] ...Epoch 3, Loss: 2.2856\n",
      "Train Set: loss=2.2659\n",
      "Validation Set: loss=2.2677, accuracy=0.2028\n",
      "\n",
      " [==========================================] ...Epoch 4, Loss: 1.9777\n",
      "Train Set: loss=1.9182\n",
      "Validation Set: loss=1.9327, accuracy=0.2556\n",
      "\n",
      " [==========================================] ...Epoch 5, Loss: 1.9530\n",
      "Train Set: loss=1.9337\n",
      "Validation Set: loss=1.9485, accuracy=0.1583\n",
      "\n",
      " [==========================================] ...Epoch 6, Loss: 1.6723\n",
      "Train Set: loss=1.6651\n",
      "Validation Set: loss=1.6813, accuracy=0.3722\n",
      "\n",
      " [==========================================] ...Epoch 7, Loss: 1.4801\n",
      "Train Set: loss=1.5358\n",
      "Validation Set: loss=1.5884, accuracy=0.3750\n",
      "\n",
      " [==========================================] ...Epoch 8, Loss: 1.6486\n",
      "Train Set: loss=1.3568\n",
      "Validation Set: loss=1.4007, accuracy=0.4722\n",
      "\n",
      " [==========================================] ...Epoch 9, Loss: 1.9991\n",
      "Train Set: loss=1.3343\n",
      "Validation Set: loss=1.4406, accuracy=0.4778\n",
      "\n",
      " [==========================================] ...Epoch 10, Loss: 0.9355\n",
      "Train Set: loss=1.1432\n",
      "Validation Set: loss=1.2728, accuracy=0.5278\n",
      "\n",
      " [==========================================] ...Epoch 11, Loss: 1.0115\n",
      "Train Set: loss=0.8346\n",
      "Validation Set: loss=0.9397, accuracy=0.6861\n",
      "\n",
      " [==========================================] ...Epoch 12, Loss: 0.7127\n",
      "Train Set: loss=0.7765\n",
      "Validation Set: loss=0.8645, accuracy=0.6583\n",
      "\n",
      " [==========================================] ...Epoch 13, Loss: 0.8237\n",
      "Train Set: loss=0.7701\n",
      "Validation Set: loss=0.9283, accuracy=0.6611\n",
      "\n",
      " [==========================================] ...Epoch 14, Loss: 0.5671\n",
      "Train Set: loss=0.8842\n",
      "Validation Set: loss=0.9707, accuracy=0.6500\n",
      "\n",
      " [==========================================] ...Epoch 15, Loss: 0.4694\n",
      "Train Set: loss=0.5658\n",
      "Validation Set: loss=0.6798, accuracy=0.7778\n",
      "\n",
      " [==========================================] ...Epoch 16, Loss: 0.4931\n",
      "Train Set: loss=0.4120\n",
      "Validation Set: loss=0.5864, accuracy=0.8111\n",
      "\n",
      " [==========================================] ...Epoch 17, Loss: 0.5185\n",
      "Train Set: loss=0.4698\n",
      "Validation Set: loss=0.6293, accuracy=0.7917\n",
      "\n",
      " [==========================================] ...Epoch 18, Loss: 0.3259\n",
      "Train Set: loss=0.4127\n",
      "Validation Set: loss=0.5442, accuracy=0.8500\n",
      "\n",
      " [==========================================] ...Epoch 19, Loss: 0.3436\n",
      "Train Set: loss=0.3027\n",
      "Validation Set: loss=0.4551, accuracy=0.8472\n",
      "\n",
      " [==========================================] ...Epoch 20, Loss: 0.1987\n",
      "Train Set: loss=0.3509\n",
      "Validation Set: loss=0.4559, accuracy=0.8389\n",
      "\n",
      " [==========================================] ...Epoch 21, Loss: 0.2244\n",
      "Train Set: loss=0.2484\n",
      "Validation Set: loss=0.4121, accuracy=0.8667\n",
      "\n",
      " [==========================================] ...Epoch 22, Loss: 0.1502\n",
      "Train Set: loss=0.2039\n",
      "Validation Set: loss=0.3235, accuracy=0.9028\n",
      "\n",
      " [==========================================] ...Epoch 23, Loss: 0.1659\n",
      "Train Set: loss=0.1936\n",
      "Validation Set: loss=0.3921, accuracy=0.8944\n",
      "\n",
      " [==========================================] ...Epoch 24, Loss: 0.2033\n",
      "Train Set: loss=0.2073\n",
      "Validation Set: loss=0.3805, accuracy=0.8944\n",
      "\n",
      " [==========================================] ...Epoch 25, Loss: 0.2644\n",
      "Train Set: loss=0.3733\n",
      "Validation Set: loss=0.5895, accuracy=0.8028\n",
      "\n",
      " [==========================================] ...Epoch 26, Loss: 0.2324\n",
      "Train Set: loss=0.1621\n",
      "Validation Set: loss=0.2900, accuracy=0.9194\n",
      "\n",
      " [==========================================] ...Epoch 27, Loss: 0.6457\n",
      "Train Set: loss=0.1991\n",
      "Validation Set: loss=0.3875, accuracy=0.8889\n",
      "\n",
      " [==========================================] ...Epoch 28, Loss: 0.1401\n",
      "Train Set: loss=0.1124\n",
      "Validation Set: loss=0.2930, accuracy=0.9167\n",
      "\n",
      " [==========================================] ...Epoch 29, Loss: 0.0270\n",
      "Train Set: loss=0.0908\n",
      "Validation Set: loss=0.2985, accuracy=0.9111\n",
      "\n",
      " [==========================================] ...Epoch 30, Loss: 0.0420\n",
      "Train Set: loss=0.0974\n",
      "Validation Set: loss=0.3206, accuracy=0.9139\n",
      "\n",
      " [==========================================] ...Epoch 31, Loss: 0.0651\n",
      "Train Set: loss=0.0947\n",
      "Validation Set: loss=0.2947, accuracy=0.9194\n",
      "\n",
      " [==========================================] ...Epoch 32, Loss: 0.1970\n",
      "Train Set: loss=0.0793\n",
      "Validation Set: loss=0.2805, accuracy=0.9194\n",
      "\n",
      " [==========================================] ...Epoch 33, Loss: 0.2327\n",
      "Train Set: loss=0.3003\n",
      "Validation Set: loss=0.4259, accuracy=0.8972\n",
      "\n",
      " [==========================================] ...Epoch 34, Loss: 0.2270\n",
      "Train Set: loss=0.1185\n",
      "Validation Set: loss=0.3031, accuracy=0.9083\n",
      "\n",
      " [==========================================] ...Epoch 35, Loss: 0.0636\n",
      "Train Set: loss=0.0721\n",
      "Validation Set: loss=0.2568, accuracy=0.9250\n",
      "\n",
      " [==========================================] ...Epoch 36, Loss: 0.0536\n",
      "Train Set: loss=0.0571\n",
      "Validation Set: loss=0.2549, accuracy=0.9361\n",
      "\n",
      " [==========================================] ...Epoch 37, Loss: 0.0302\n",
      "Train Set: loss=0.0454\n",
      "Validation Set: loss=0.2319, accuracy=0.9361\n",
      "\n",
      " [==========================================] ...Epoch 38, Loss: 1.5056\n",
      "Train Set: loss=1.9959\n",
      "Validation Set: loss=1.9862, accuracy=0.3667\n",
      "\n",
      " [==========================================] ...Epoch 39, Loss: 0.7759\n",
      "Train Set: loss=0.7968\n",
      "Validation Set: loss=0.8515, accuracy=0.6972\n",
      "\n",
      " [==========================================] ...Epoch 40, Loss: 0.5879\n",
      "Train Set: loss=0.7103\n",
      "Validation Set: loss=0.8174, accuracy=0.7361\n",
      "\n",
      " [==========================================] ...Epoch 41, Loss: 0.9675\n",
      "Train Set: loss=0.7322\n",
      "Validation Set: loss=0.8799, accuracy=0.7194\n",
      "\n",
      " [==========================================] ...Epoch 42, Loss: 0.3696\n",
      "Train Set: loss=0.4136\n",
      "Validation Set: loss=0.5082, accuracy=0.8306\n",
      "\n",
      " [==========================================] ...Epoch 43, Loss: 0.2809\n",
      "Train Set: loss=0.3109\n",
      "Validation Set: loss=0.4598, accuracy=0.8556\n",
      "\n",
      " [==========================================] ...Epoch 44, Loss: 0.1132\n",
      "Train Set: loss=0.2777\n",
      "Validation Set: loss=0.4409, accuracy=0.8583\n",
      "\n",
      " [==========================================] ...Epoch 45, Loss: 0.2150\n",
      "Train Set: loss=0.3158\n",
      "Validation Set: loss=0.4669, accuracy=0.8278\n",
      "\n",
      " [==========================================] ...Epoch 46, Loss: 0.5150\n",
      "Train Set: loss=0.2987\n",
      "Validation Set: loss=0.4486, accuracy=0.8528\n",
      "\n",
      " [==========================================] ...Epoch 47, Loss: 0.3504\n",
      "Train Set: loss=0.7615\n",
      "Validation Set: loss=0.8487, accuracy=0.7333\n",
      "\n",
      " [==========================================] ...Epoch 48, Loss: 0.1783\n",
      "Train Set: loss=0.1516\n",
      "Validation Set: loss=0.3458, accuracy=0.8944\n",
      "\n",
      " [==========================================] ...Epoch 49, Loss: 0.3072\n",
      "Train Set: loss=0.4724\n",
      "Validation Set: loss=0.6608, accuracy=0.8167\n",
      "\n",
      " [==========================================] ...Epoch 50, Loss: 0.1176\n",
      "Train Set: loss=0.1112\n",
      "Validation Set: loss=0.2565, accuracy=0.9278\n",
      "\n",
      "\n",
      "Total train and validation time: 33.89 seconds\n"
     ]
    }
   ],
   "source": [
    "model_packpad = BasicLSTM(input_dim=INPUT_SIZE, hidden_dim=20, output_dim=10, num_layers=3,\n",
    "                          isPackedSequence=True).to(DEVICE)\n",
    "\n",
    "loss_function = torch.nn.CrossEntropyLoss()\n",
    "optimizer = torch.optim.SGD(model_packpad.parameters(), lr=1)\n",
    "\n",
    "\n",
    "total_train_loss, total_val_loss = train_and_val_model(EPOCHS, train_loader, val_loader, model_packpad,\n",
    "                                                       loss_function, optimizer)"
   ]
  },
  {
   "cell_type": "code",
   "execution_count": 136,
   "metadata": {
    "scrolled": true
   },
   "outputs": [
    {
     "name": "stdout",
     "output_type": "stream",
     "text": [
      "\n",
      "Test Set: loss=0.3133, accuracy=0.9100, f1-macro=0.9091\n"
     ]
    }
   ],
   "source": [
    "y_test_pred, y_test_gold = test_model(test_loader, model_packpad, loss_function, \"Test\")"
   ]
  },
  {
   "cell_type": "markdown",
   "metadata": {},
   "source": [
    ">Παρατηρούμε πως η ταχύτητα της εκπαίδευσης δεν βελτιώθηκε σε σχέση με τα προηγούμενα μοντέλα (χωρίς την χρήση `pack_padded_sequence()`). Αυτό πιθανώς να οφείλεται στο οτι η πολυπλοκότητα του δικτύου μας δεν είναι μεγάλη, μιας και η συγκεκριμένη τεχνική ευνοεί τα πιο σύνθετα δίκτυα."
   ]
  },
  {
   "cell_type": "markdown",
   "metadata": {},
   "source": [
    "Παρατηρούμε πως το καλύτερο μοντέλο (ως προς τις μετρικές `accuracy` και `loss`) είναι αυτό με το `Bidirectional` Δίκτυο."
   ]
  },
  {
   "cell_type": "markdown",
   "metadata": {},
   "source": [
    "Για το καλύτερο μοντέλο μετά την εκπαίδευση έχουμε:"
   ]
  },
  {
   "cell_type": "code",
   "execution_count": 104,
   "metadata": {},
   "outputs": [],
   "source": [
    "def plot_loss(total_epochs, train_loss, val_loss):\n",
    "    \n",
    "    plt.title(\"Train and Validation\")\n",
    "    plt.xlabel(\"Epochs\")\n",
    "    plt.plot(total_epochs, train_loss, 'o-', color=\"r\", label=\"Training Loss\")\n",
    "    plt.plot(total_epochs, val_loss, 'o-', color=\"g\", label=\"Validation Loss\")\n",
    "    plt.xticks(np.arange(0, EPOCHS+1, step=5))\n",
    "    plt.legend(loc=\"best\")\n",
    "    plt.grid()\n",
    "    plt.show()"
   ]
  },
  {
   "cell_type": "code",
   "execution_count": 140,
   "metadata": {},
   "outputs": [
    {
     "name": "stdout",
     "output_type": "stream",
     "text": [
      "\n",
      "Validation Set: loss=0.1581, accuracy=0.9583, f1-macro=0.9581\n",
      "\n",
      "Test Set: loss=0.1137, accuracy=0.9650, f1-macro=0.9648\n"
     ]
    }
   ],
   "source": [
    "from sklearn.metrics import confusion_matrix\n",
    "\n",
    "y_val_pred, y_val_gold = test_model(val_loader, model_bi, loss_function, \"Validation\")\n",
    "y_test_pred, y_test_gold = test_model(test_loader, model_bi, loss_function, \"Test\")"
   ]
  },
  {
   "cell_type": "code",
   "execution_count": 141,
   "metadata": {},
   "outputs": [
    {
     "data": {
      "image/png": "[encoded data removed]",
      "text/plain": [
       "<Figure size 432x288 with 2 Axes>"
      ]
     },
     "metadata": {
      "needs_background": "light"
     },
     "output_type": "display_data"
    },
    {
     "data": {
      "image/png": "[encoded data removed]",
      "text/plain": [
       "<Figure size 432x288 with 2 Axes>"
      ]
     },
     "metadata": {
      "needs_background": "light"
     },
     "output_type": "display_data"
    }
   ],
   "source": [
    "labels = list(range(10))\n",
    "\n",
    "conf_mat_val = confusion_matrix(y_val_gold, y_val_pred)\n",
    "plot_confusion_matrix(conf_mat_val, labels, title='Confusion matrix for Validation Set')\n",
    "\n",
    "conf_mat_test = confusion_matrix(y_test_gold, y_test_pred)\n",
    "plot_confusion_matrix(conf_mat_test, labels, title='Confusion matrix for Test Set')"
   ]
  },
  {
   "cell_type": "code",
   "execution_count": 142,
   "metadata": {},
   "outputs": [
    {
     "data": {
      "image/png": "[encoded data removed]",
      "text/plain": [
       "<Figure size 432x288 with 1 Axes>"
      ]
     },
     "metadata": {
      "needs_background": "light"
     },
     "output_type": "display_data"
    }
   ],
   "source": [
    "plot_loss(np.arange(1, EPOCHS+1), total_train_loss, total_val_loss)"
   ]
  },
  {
   "cell_type": "code",
   "execution_count": null,
   "metadata": {},
   "outputs": [],
   "source": []
  }
 ],
 "metadata": {
  "kernelspec": {
   "display_name": "Python 3",
   "language": "python",
   "name": "python3"
  },
  "language_info": {
   "codemirror_mode": {
    "name": "ipython",
    "version": 3
   },
   "file_extension": ".py",
   "mimetype": "text/x-python",
   "name": "python",
   "nbconvert_exporter": "python",
   "pygments_lexer": "ipython3",
   "version": "3.6.6"
  }
 },
 "nbformat": 4,
 "nbformat_minor": 2
}
