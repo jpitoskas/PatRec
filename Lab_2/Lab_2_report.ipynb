{
 "cells": [
  {
   "cell_type": "markdown",
   "metadata": {},
   "source": [
    "<center> <h1>Αναγνώριση Προτύπων - 2η Εργαστηριακή Άσκηση</h1> </center>\n",
    "\n",
    "---\n",
    "\n",
    "<center> <h2>Θέμα: Αναγνώριση φωνής με Κρυφά Μαρκοβιανά Μοντέλα και Αναδρομικά Νευρωνικά Δίκτυα</h2> </center>\n",
    "<center> <h2>ΣΧΟΛΗ: ΣΗΜΜΥ</h2> </center>\n",
    "<img src=\"pyrforos-digamma.png\" width=\"100\">\n",
    "\n",
    "Ονοματεπώνυμο | Αριθμός Μητρώου\n",
    "------------ | -------------\n",
    "Γιάννης Πιτόσκας | 03115077\n",
    "Αντώνης Παπαοικονόμου | 03115140"
   ]
  },
  {
   "cell_type": "code",
   "execution_count": 162,
   "metadata": {
    "scrolled": true
   },
   "outputs": [
    {
     "name": "stdout",
     "output_type": "stream",
     "text": [
      "Requirement already up-to-date: pip in /home/jpitoskas/.local/lib/python3.6/site-packages (19.3.1)\n",
      "Requirement already up-to-date: scikit-learn in /home/jpitoskas/.local/lib/python3.6/site-packages (0.22)\n",
      "Requirement already satisfied, skipping upgrade: scipy>=0.17.0 in /home/jpitoskas/.local/lib/python3.6/site-packages (from scikit-learn) (1.3.3)\n",
      "Requirement already satisfied, skipping upgrade: numpy>=1.11.0 in /home/jpitoskas/.local/lib/python3.6/site-packages (from scikit-learn) (1.17.4)\n",
      "Requirement already satisfied, skipping upgrade: joblib>=0.11 in /home/jpitoskas/.local/lib/python3.6/site-packages (from scikit-learn) (0.14.0)\n",
      "Collecting numpy\n",
      "  Using cached https://files.pythonhosted.org/packages/92/e6/45f71bd24f4e37629e9db5fb75caab919507deae6a5a257f9e4685a5f931/numpy-1.18.0-cp36-cp36m-manylinux1_x86_64.whl\n",
      "Installing collected packages: numpy\n",
      "  Found existing installation: numpy 1.17.4\n",
      "    Uninstalling numpy-1.17.4:\n",
      "      Successfully uninstalled numpy-1.17.4\n",
      "Successfully installed numpy-1.18.0\n",
      "Collecting joblib\n",
      "  Using cached https://files.pythonhosted.org/packages/28/5c/cf6a2b65a321c4a209efcdf64c2689efae2cb62661f8f6f4bb28547cf1bf/joblib-0.14.1-py2.py3-none-any.whl\n",
      "Installing collected packages: joblib\n",
      "  Found existing installation: joblib 0.14.0\n",
      "    Uninstalling joblib-0.14.0:\n",
      "      Successfully uninstalled joblib-0.14.0\n",
      "Successfully installed joblib-0.14.1\n",
      "Requirement already satisfied: librosa in /home/jpitoskas/.local/lib/python3.6/site-packages (0.7.1)\n",
      "Requirement already satisfied: audioread>=2.0.0 in /home/jpitoskas/.local/lib/python3.6/site-packages (from librosa) (2.1.8)\n",
      "Requirement already satisfied: scipy>=1.0.0 in /home/jpitoskas/.local/lib/python3.6/site-packages (from librosa) (1.3.3)\n",
      "Requirement already satisfied: soundfile>=0.9.0 in /home/jpitoskas/.local/lib/python3.6/site-packages (from librosa) (0.10.3.post1)\n",
      "Requirement already satisfied: decorator>=3.0.0 in /home/jpitoskas/.local/lib/python3.6/site-packages (from librosa) (4.4.1)\n",
      "Requirement already satisfied: numpy>=1.15.0 in /home/jpitoskas/.local/lib/python3.6/site-packages (from librosa) (1.18.0)\n",
      "Requirement already satisfied: joblib>=0.12 in /home/jpitoskas/.local/lib/python3.6/site-packages (from librosa) (0.14.1)\n",
      "Requirement already satisfied: numba>=0.43.0 in /home/jpitoskas/.local/lib/python3.6/site-packages (from librosa) (0.46.0)\n",
      "Requirement already satisfied: resampy>=0.2.2 in /home/jpitoskas/.local/lib/python3.6/site-packages (from librosa) (0.2.2)\n",
      "Requirement already satisfied: scikit-learn!=0.19.0,>=0.14.0 in /home/jpitoskas/.local/lib/python3.6/site-packages (from librosa) (0.22)\n",
      "Requirement already satisfied: six>=1.3 in /home/jpitoskas/.local/lib/python3.6/site-packages (from librosa) (1.13.0)\n",
      "Requirement already satisfied: cffi>=1.0 in /home/jpitoskas/.local/lib/python3.6/site-packages (from soundfile>=0.9.0->librosa) (1.13.2)\n",
      "Requirement already satisfied: llvmlite>=0.30.0dev0 in /home/jpitoskas/.local/lib/python3.6/site-packages (from numba>=0.43.0->librosa) (0.30.0)\n",
      "Requirement already satisfied: pycparser in /home/jpitoskas/.local/lib/python3.6/site-packages (from cffi>=1.0->soundfile>=0.9.0->librosa) (2.19)\n",
      "Requirement already satisfied: pomegranate in /home/jpitoskas/.local/lib/python3.6/site-packages (0.12.0)\n",
      "Requirement already satisfied: joblib>=0.9.0b4 in /home/jpitoskas/.local/lib/python3.6/site-packages (from pomegranate) (0.14.1)\n",
      "Requirement already satisfied: pyyaml in /usr/lib/python3/dist-packages (from pomegranate) (3.12)\n",
      "Requirement already satisfied: scipy>=0.17.0 in /home/jpitoskas/.local/lib/python3.6/site-packages (from pomegranate) (1.3.3)\n",
      "Requirement already satisfied: networkx>=2.0 in /home/jpitoskas/.local/lib/python3.6/site-packages (from pomegranate) (2.4)\n",
      "Requirement already satisfied: numpy>=1.8.0 in /home/jpitoskas/.local/lib/python3.6/site-packages (from pomegranate) (1.18.0)\n",
      "Requirement already satisfied: decorator>=4.3.0 in /home/jpitoskas/.local/lib/python3.6/site-packages (from networkx>=2.0->pomegranate) (4.4.1)\n",
      "Collecting pytorchtools\n",
      "  Using cached https://files.pythonhosted.org/packages/07/7d/91fc993eed451ff2aff02e09a8e0246125b72cbc7068cb94242ca2c0e72f/pytorchtools-0.0.2-py2.py3-none-any.whl\n",
      "Installing collected packages: pytorchtools\n",
      "Successfully installed pytorchtools-0.0.2\n"
     ]
    }
   ],
   "source": [
    "!pip3 install --upgrade pip\n",
    "!pip3 install scikit-learn --upgrade\n",
    "!pip3 install numpy --upgrade --user\n",
    "!pip3 install --upgrade joblib --user\n",
    "!pip3 install librosa\n",
    "!pip3 install pomegranate"
   ]
  },
  {
   "cell_type": "markdown",
   "metadata": {},
   "source": [
    "Για το διάβασμα των δεδομένων του [Free Spoken Digits Dataset](https://github.com/Jakobovski/free-spoken-digit-dataset) μέσω της τροποποιημένης συνάρτησης ```parser()``` έχουμε:"
   ]
  },
  {
   "cell_type": "code",
   "execution_count": 1,
   "metadata": {},
   "outputs": [],
   "source": [
    "import numpy as np\n",
    "import librosa\n",
    "from glob import glob\n",
    "import os\n",
    "\n",
    "from sklearn.preprocessing import StandardScaler\n",
    "\n",
    "def parser(directory):\n",
    "    # Parse relevant dataset info\n",
    "    files = glob(os.path.join(directory, '*.wav'))\n",
    "    fnames = [f.rsplit(str(os.path.sep), 1)[1].split('.')[0].split('_') for f in files]\n",
    "    ids = [f[2] for f in fnames]\n",
    "    y = [int(f[0]) for f in fnames]\n",
    "    speakers = [f[1] for f in fnames]\n",
    "    _, Fs = librosa.core.load(files[0], sr=None)\n",
    "\n",
    "    def read_wav(f):\n",
    "        global Fs\n",
    "        wav, fs = librosa.core.load(f, sr=None)\n",
    "        return wav\n",
    "\n",
    "    # Read all wavs\n",
    "    wavs = [read_wav(f) for f in files]\n",
    "\n",
    "    # Extract MFCCs for all wavs\n",
    "    window = 30 * Fs // 1000\n",
    "    step = window // 2\n",
    "    frames = [librosa.feature.mfcc(wav, Fs, n_fft=window, hop_length=window - step, n_mfcc=6).T for wav in wavs]\n",
    "    # Print dataset info\n",
    "    print('Total wavs: {}'.format(len(frames)))\n",
    "\n",
    "    # Standardize data\n",
    "    scaler = StandardScaler()\n",
    "    scaler.fit(np.concatenate(frames))\n",
    "    for i in range(len(frames)):\n",
    "        frames[i] = scaler.transform(frames[i])\n",
    "\n",
    "    # Split to train-test\n",
    "    X_train, y_train, spk_train = [], [], []\n",
    "    X_test, y_test, spk_test = [], [], []\n",
    "    test_indices = ['0', '1', '2', '3', '4']\n",
    "    for idx, frame, label, spk in zip(ids, frames, y, speakers):\n",
    "        if str(idx) in test_indices:\n",
    "            X_test.append(frame)\n",
    "            y_test.append(label)\n",
    "            spk_test.append(spk)\n",
    "        else:\n",
    "            X_train.append(frame)\n",
    "            y_train.append(label)\n",
    "            spk_train.append(spk)\n",
    "\n",
    "    return X_train, X_test, y_train, y_test, spk_train, spk_test"
   ]
  },
  {
   "cell_type": "code",
   "execution_count": 2,
   "metadata": {},
   "outputs": [
    {
     "name": "stdout",
     "output_type": "stream",
     "text": [
      "Total wavs: 2000\n",
      "(1800,)\n"
     ]
    }
   ],
   "source": [
    "record_dir = os.path.abspath(\"./free-spoken-digit-dataset-master/recordings/\")\n",
    "\n",
    "X, X_test, y, y_test, spk_train, spk_test = parser(record_dir)\n",
    "\n",
    "X = np.array(X)\n",
    "y = np.array(y)\n",
    "X_test = np.array(X_test)\n",
    "y_test = np.array(y_test)\n",
    "print(X.shape)"
   ]
  },
  {
   "cell_type": "markdown",
   "metadata": {},
   "source": [
    "## Βήμα 9\n",
    "Χωρίζουμε τα `train` δεδομένα σε νέα `train` και `validation set` με ποσοστό $80\\%$ - $20\\%$ αντίστοιχα, χρησιμοποιώντας `stratified split`:"
   ]
  },
  {
   "cell_type": "code",
   "execution_count": 3,
   "metadata": {},
   "outputs": [],
   "source": [
    "from sklearn.model_selection import train_test_split\n",
    "\n",
    "X_train, X_val, y_train, y_val = train_test_split(X, y, test_size=0.2, stratify=y)"
   ]
  },
  {
   "cell_type": "markdown",
   "metadata": {},
   "source": [
    "## Βήμα 10\n",
    "Φτιάχνουμε ένα python dicitonary το οποίο έχει για κάθε ψηφίο όλα τα δεδομένα που υπάρχουν στο train set και αντιστοιχούν στο ψηφίο αυτό και στην συνέχεια φτιάχνουμε τους πίνακες μετάβασης για τα `HMMs`"
   ]
  },
  {
   "cell_type": "code",
   "execution_count": 4,
   "metadata": {},
   "outputs": [],
   "source": [
    "from pomegranate import *\n",
    "import numpy as np\n",
    "\n",
    "X_digit = {digit : np.concatenate(X_train[y_train==digit]) for digit in range(10)}\n",
    "\n",
    "n_states = 4 # the number of HMM states\n",
    "n_mixtures = 5 # the number of Gaussians\n",
    "initial_prob = 0.5\n",
    "\n",
    "trans_mat = np.diag(initial_prob*np.ones(n_states-1), k=1) + np.diag(initial_prob*np.ones(n_states)) # your transition matrix\n",
    "starts = np.array([1] + [0]*(n_states-1)) # your starting probability matrix\n",
    "ends = np.array([0]*(n_states-1) + [initial_prob]) # your ending probability matrix\n"
   ]
  },
  {
   "cell_type": "markdown",
   "metadata": {},
   "source": [
    "## Βήμα 11\n",
    "Για το train των μοντέλων με χρήση του αλγόριθμου `Expectation Mazimization` έχουμε:"
   ]
  },
  {
   "cell_type": "code",
   "execution_count": 5,
   "metadata": {},
   "outputs": [],
   "source": [
    "def HMMDigitModel(digit, trans_mat, starts, ends, n_states, n_mixtures, X_train, y_train, X_digit):\n",
    "    \n",
    "    dists = [] # list of probability distributions for the HMM states\n",
    "    for i in range(n_states):\n",
    "        if(n_mixtures != 1):\n",
    "            a = GeneralMixtureModel.from_samples(MultivariateGaussianDistribution, n_mixtures, np.float_(X_digit[digit]))\n",
    "        else:\n",
    "            a = MultivariateGaussianDistribution.from_samples(np.float_(X_digit[digit]))\n",
    "        dists.append(a)\n",
    "\n",
    "    # your data: must be a Python list that contains: \n",
    "    # -2D lists with the sequences (so its dimension would be num_sequences x seq_length x feature_dimension)\n",
    "    # But be careful, it is not a numpy array, it is a Python list (so each sequence can have different length)\n",
    "    \n",
    "    data = [dt.tolist() for dt in X_train[y_train==digit].tolist()]\n",
    "\n",
    "    # Define the GMM-HMM\n",
    "    model = HiddenMarkovModel.from_matrix(trans_mat, dists, starts, ends, state_names=['s{}'.format(i) for i in range(n_states)])\n",
    "\n",
    "    # Fit the model using EM\n",
    "    model.fit(data, max_iterations=5)\n",
    "    \n",
    "    return model"
   ]
  },
  {
   "cell_type": "code",
   "execution_count": 6,
   "metadata": {},
   "outputs": [
    {
     "ename": "UFuncTypeError",
     "evalue": "Cannot cast ufunc 'subtract' output from dtype('complex128') to dtype('float64') with casting rule 'same_kind'",
     "output_type": "error",
     "traceback": [
      "\u001b[0;31m---------------------------------------------------------------------------\u001b[0m",
      "\u001b[0;31mLinAlgError\u001b[0m                               Traceback (most recent call last)",
      "\u001b[0;32m~/.local/lib/python3.6/site-packages/pomegranate/distributions/MultivariateGaussianDistribution.pyx\u001b[0m in \u001b[0;36mpomegranate.distributions.MultivariateGaussianDistribution.MultivariateGaussianDistribution.from_summaries\u001b[0;34m()\u001b[0m\n",
      "\u001b[0;32m~/.local/lib/python3.6/site-packages/scipy/linalg/decomp_cholesky.py\u001b[0m in \u001b[0;36mcholesky\u001b[0;34m(a, lower, overwrite_a, check_finite)\u001b[0m\n\u001b[1;32m     90\u001b[0m     c, lower = _cholesky(a, lower=lower, overwrite_a=overwrite_a, clean=True,\n\u001b[0;32m---> 91\u001b[0;31m                          check_finite=check_finite)\n\u001b[0m\u001b[1;32m     92\u001b[0m     \u001b[0;32mreturn\u001b[0m \u001b[0mc\u001b[0m\u001b[0;34m\u001b[0m\u001b[0;34m\u001b[0m\u001b[0m\n",
      "\u001b[0;32m~/.local/lib/python3.6/site-packages/scipy/linalg/decomp_cholesky.py\u001b[0m in \u001b[0;36m_cholesky\u001b[0;34m(a, lower, overwrite_a, clean, check_finite)\u001b[0m\n\u001b[1;32m     39\u001b[0m         raise LinAlgError(\"%d-th leading minor of the array is not positive \"\n\u001b[0;32m---> 40\u001b[0;31m                           \"definite\" % info)\n\u001b[0m\u001b[1;32m     41\u001b[0m     \u001b[0;32mif\u001b[0m \u001b[0minfo\u001b[0m \u001b[0;34m<\u001b[0m \u001b[0;36m0\u001b[0m\u001b[0;34m:\u001b[0m\u001b[0;34m\u001b[0m\u001b[0;34m\u001b[0m\u001b[0m\n",
      "\u001b[0;31mLinAlgError\u001b[0m: 4-th leading minor of the array is not positive definite",
      "\nDuring handling of the above exception, another exception occurred:\n",
      "\u001b[0;31mUFuncTypeError\u001b[0m                            Traceback (most recent call last)",
      "\u001b[0;32m~/.local/lib/python3.6/site-packages/pomegranate/bayes.pyx\u001b[0m in \u001b[0;36mpomegranate.bayes.BayesModel.from_summaries\u001b[0;34m()\u001b[0m\n",
      "\u001b[0;32m~/.local/lib/python3.6/site-packages/pomegranate/distributions/MultivariateGaussianDistribution.pyx\u001b[0m in \u001b[0;36mpomegranate.distributions.MultivariateGaussianDistribution.MultivariateGaussianDistribution.from_summaries\u001b[0;34m()\u001b[0m\n",
      "\u001b[0;31mUFuncTypeError\u001b[0m: Cannot cast ufunc 'subtract' output from dtype('complex128') to dtype('float64') with casting rule 'same_kind'"
     ]
    },
    {
     "name": "stderr",
     "output_type": "stream",
     "text": [
      "Exception ignored in: 'pomegranate.hmm.HiddenMarkovModel._from_summaries'\n",
      "Traceback (most recent call last):\n",
      "  File \"pomegranate/bayes.pyx\", line 808, in pomegranate.bayes.BayesModel.from_summaries\n",
      "  File \"pomegranate/distributions/MultivariateGaussianDistribution.pyx\", line 272, in pomegranate.distributions.MultivariateGaussianDistribution.MultivariateGaussianDistribution.from_summaries\n",
      "numpy.core._exceptions.UFuncTypeError: Cannot cast ufunc 'subtract' output from dtype('complex128') to dtype('float64') with casting rule 'same_kind'\n"
     ]
    },
    {
     "ename": "UFuncTypeError",
     "evalue": "Cannot cast ufunc 'subtract' output from dtype('complex128') to dtype('float64') with casting rule 'same_kind'",
     "output_type": "error",
     "traceback": [
      "\u001b[0;31m---------------------------------------------------------------------------\u001b[0m",
      "\u001b[0;31mLinAlgError\u001b[0m                               Traceback (most recent call last)",
      "\u001b[0;32m~/.local/lib/python3.6/site-packages/pomegranate/distributions/MultivariateGaussianDistribution.pyx\u001b[0m in \u001b[0;36mpomegranate.distributions.MultivariateGaussianDistribution.MultivariateGaussianDistribution.from_summaries\u001b[0;34m()\u001b[0m\n",
      "\u001b[0;32m~/.local/lib/python3.6/site-packages/scipy/linalg/decomp_cholesky.py\u001b[0m in \u001b[0;36mcholesky\u001b[0;34m(a, lower, overwrite_a, check_finite)\u001b[0m\n\u001b[1;32m     90\u001b[0m     c, lower = _cholesky(a, lower=lower, overwrite_a=overwrite_a, clean=True,\n\u001b[0;32m---> 91\u001b[0;31m                          check_finite=check_finite)\n\u001b[0m\u001b[1;32m     92\u001b[0m     \u001b[0;32mreturn\u001b[0m \u001b[0mc\u001b[0m\u001b[0;34m\u001b[0m\u001b[0;34m\u001b[0m\u001b[0m\n",
      "\u001b[0;32m~/.local/lib/python3.6/site-packages/scipy/linalg/decomp_cholesky.py\u001b[0m in \u001b[0;36m_cholesky\u001b[0;34m(a, lower, overwrite_a, clean, check_finite)\u001b[0m\n\u001b[1;32m     39\u001b[0m         raise LinAlgError(\"%d-th leading minor of the array is not positive \"\n\u001b[0;32m---> 40\u001b[0;31m                           \"definite\" % info)\n\u001b[0m\u001b[1;32m     41\u001b[0m     \u001b[0;32mif\u001b[0m \u001b[0minfo\u001b[0m \u001b[0;34m<\u001b[0m \u001b[0;36m0\u001b[0m\u001b[0;34m:\u001b[0m\u001b[0;34m\u001b[0m\u001b[0;34m\u001b[0m\u001b[0m\n",
      "\u001b[0;31mLinAlgError\u001b[0m: 2-th leading minor of the array is not positive definite",
      "\nDuring handling of the above exception, another exception occurred:\n",
      "\u001b[0;31mUFuncTypeError\u001b[0m                            Traceback (most recent call last)",
      "\u001b[0;32m~/.local/lib/python3.6/site-packages/pomegranate/bayes.pyx\u001b[0m in \u001b[0;36mpomegranate.bayes.BayesModel.from_summaries\u001b[0;34m()\u001b[0m\n",
      "\u001b[0;32m~/.local/lib/python3.6/site-packages/pomegranate/distributions/MultivariateGaussianDistribution.pyx\u001b[0m in \u001b[0;36mpomegranate.distributions.MultivariateGaussianDistribution.MultivariateGaussianDistribution.from_summaries\u001b[0;34m()\u001b[0m\n",
      "\u001b[0;31mUFuncTypeError\u001b[0m: Cannot cast ufunc 'subtract' output from dtype('complex128') to dtype('float64') with casting rule 'same_kind'"
     ]
    },
    {
     "name": "stderr",
     "output_type": "stream",
     "text": [
      "Exception ignored in: 'pomegranate.hmm.HiddenMarkovModel._from_summaries'\n",
      "Traceback (most recent call last):\n",
      "  File \"pomegranate/bayes.pyx\", line 808, in pomegranate.bayes.BayesModel.from_summaries\n",
      "  File \"pomegranate/distributions/MultivariateGaussianDistribution.pyx\", line 272, in pomegranate.distributions.MultivariateGaussianDistribution.MultivariateGaussianDistribution.from_summaries\n",
      "numpy.core._exceptions.UFuncTypeError: Cannot cast ufunc 'subtract' output from dtype('complex128') to dtype('float64') with casting rule 'same_kind'\n"
     ]
    },
    {
     "ename": "UFuncTypeError",
     "evalue": "Cannot cast ufunc 'subtract' output from dtype('complex128') to dtype('float64') with casting rule 'same_kind'",
     "output_type": "error",
     "traceback": [
      "\u001b[0;31m---------------------------------------------------------------------------\u001b[0m",
      "\u001b[0;31mLinAlgError\u001b[0m                               Traceback (most recent call last)",
      "\u001b[0;32m~/.local/lib/python3.6/site-packages/pomegranate/distributions/MultivariateGaussianDistribution.pyx\u001b[0m in \u001b[0;36mpomegranate.distributions.MultivariateGaussianDistribution.MultivariateGaussianDistribution.from_summaries\u001b[0;34m()\u001b[0m\n",
      "\u001b[0;32m~/.local/lib/python3.6/site-packages/scipy/linalg/decomp_cholesky.py\u001b[0m in \u001b[0;36mcholesky\u001b[0;34m(a, lower, overwrite_a, check_finite)\u001b[0m\n\u001b[1;32m     90\u001b[0m     c, lower = _cholesky(a, lower=lower, overwrite_a=overwrite_a, clean=True,\n\u001b[0;32m---> 91\u001b[0;31m                          check_finite=check_finite)\n\u001b[0m\u001b[1;32m     92\u001b[0m     \u001b[0;32mreturn\u001b[0m \u001b[0mc\u001b[0m\u001b[0;34m\u001b[0m\u001b[0;34m\u001b[0m\u001b[0m\n",
      "\u001b[0;32m~/.local/lib/python3.6/site-packages/scipy/linalg/decomp_cholesky.py\u001b[0m in \u001b[0;36m_cholesky\u001b[0;34m(a, lower, overwrite_a, clean, check_finite)\u001b[0m\n\u001b[1;32m     39\u001b[0m         raise LinAlgError(\"%d-th leading minor of the array is not positive \"\n\u001b[0;32m---> 40\u001b[0;31m                           \"definite\" % info)\n\u001b[0m\u001b[1;32m     41\u001b[0m     \u001b[0;32mif\u001b[0m \u001b[0minfo\u001b[0m \u001b[0;34m<\u001b[0m \u001b[0;36m0\u001b[0m\u001b[0;34m:\u001b[0m\u001b[0;34m\u001b[0m\u001b[0;34m\u001b[0m\u001b[0m\n",
      "\u001b[0;31mLinAlgError\u001b[0m: 2-th leading minor of the array is not positive definite",
      "\nDuring handling of the above exception, another exception occurred:\n",
      "\u001b[0;31mUFuncTypeError\u001b[0m                            Traceback (most recent call last)",
      "\u001b[0;32m~/.local/lib/python3.6/site-packages/pomegranate/bayes.pyx\u001b[0m in \u001b[0;36mpomegranate.bayes.BayesModel.from_summaries\u001b[0;34m()\u001b[0m\n",
      "\u001b[0;32m~/.local/lib/python3.6/site-packages/pomegranate/distributions/MultivariateGaussianDistribution.pyx\u001b[0m in \u001b[0;36mpomegranate.distributions.MultivariateGaussianDistribution.MultivariateGaussianDistribution.from_summaries\u001b[0;34m()\u001b[0m\n",
      "\u001b[0;31mUFuncTypeError\u001b[0m: Cannot cast ufunc 'subtract' output from dtype('complex128') to dtype('float64') with casting rule 'same_kind'"
     ]
    },
    {
     "name": "stderr",
     "output_type": "stream",
     "text": [
      "Exception ignored in: 'pomegranate.hmm.HiddenMarkovModel._from_summaries'\n",
      "Traceback (most recent call last):\n",
      "  File \"pomegranate/bayes.pyx\", line 808, in pomegranate.bayes.BayesModel.from_summaries\n",
      "  File \"pomegranate/distributions/MultivariateGaussianDistribution.pyx\", line 272, in pomegranate.distributions.MultivariateGaussianDistribution.MultivariateGaussianDistribution.from_summaries\n",
      "numpy.core._exceptions.UFuncTypeError: Cannot cast ufunc 'subtract' output from dtype('complex128') to dtype('float64') with casting rule 'same_kind'\n"
     ]
    }
   ],
   "source": [
    "digit_models = []\n",
    "\n",
    "for digit in range(10):\n",
    "    digit_models.append(HMMDigitModel(digit, trans_mat, starts, ends, n_states, n_mixtures, X_train, y_train, X_digit))"
   ]
  },
  {
   "cell_type": "markdown",
   "metadata": {},
   "source": [
    "## Βήμα 12\n",
    "Με την παρακάτω βοηθητική συνάρτηση για το ```accuracy``` στα set έχουμε:"
   ]
  },
  {
   "cell_type": "code",
   "execution_count": 7,
   "metadata": {},
   "outputs": [],
   "source": [
    "def prediction(X, models):\n",
    "    \n",
    "    y_pred = []\n",
    "    \n",
    "    for x in X:\n",
    "        log_probs = np.array([model.viterbi(x)[0] for model in models])\n",
    "        y_pred.append(np.argmax(log_probs))\n",
    "    \n",
    "    return np.array(y_pred)\n",
    "\n",
    "def accuracy(y_true, y_pred):\n",
    "    return sum(np.equal(y_true, y_pred))/y_true.size    "
   ]
  },
  {
   "cell_type": "markdown",
   "metadata": {},
   "source": [
    "Για την αξιολόγηση και την βελτιστοποίηση των παραμέτρων στο `validation set`:"
   ]
  },
  {
   "cell_type": "code",
   "execution_count": 8,
   "metadata": {},
   "outputs": [
    {
     "name": "stdout",
     "output_type": "stream",
     "text": [
      "Validation set accuracy = 0.9777777777777777\n"
     ]
    }
   ],
   "source": [
    "y_pred_val = prediction(X_val, digit_models)\n",
    "print(\"Validation set accuracy =\", accuracy(y_val, y_pred_val))"
   ]
  },
  {
   "cell_type": "markdown",
   "metadata": {},
   "source": [
    "Για την παραπάνω βελτιστοποίηση έχουμε για το `test set`:"
   ]
  },
  {
   "cell_type": "code",
   "execution_count": 9,
   "metadata": {},
   "outputs": [
    {
     "name": "stdout",
     "output_type": "stream",
     "text": [
      "Test set accuracy = 0.97\n"
     ]
    }
   ],
   "source": [
    "y_pred_test = prediction(X_test, digit_models)\n",
    "print(\"Test set accuracy =\", accuracy(y_test, y_pred_test))"
   ]
  },
  {
   "cell_type": "markdown",
   "metadata": {},
   "source": [
    ">Με την παραπάνω διαδικασία αποφεύγουμε το να \"πέσουμε\" σε τοπικά μέγιστα."
   ]
  },
  {
   "cell_type": "markdown",
   "metadata": {},
   "source": [
    "## Βήμα 13\n",
    "Για τα Confusion Matrices θα χρησιμοποιήσουμε την παρακάτω βοηθητική συνάρτηση:"
   ]
  },
  {
   "cell_type": "code",
   "execution_count": 10,
   "metadata": {},
   "outputs": [],
   "source": [
    "import numpy as np\n",
    "import itertools\n",
    "import matplotlib.pyplot as plt\n",
    "\n",
    "def plot_confusion_matrix(cm, classes,\n",
    "                          normalize=False,\n",
    "                          title='Confusion matrix',\n",
    "                          cmap=plt.cm.Blues):\n",
    "    \"\"\"\n",
    "    This function prints and plots the confusion matrix.\n",
    "    Normalization can be applied by setting `normalize=True`.\n",
    "    \"\"\"\n",
    "    if normalize:\n",
    "        cm = cm.astype('float') / cm.sum(axis=1)[:, np.newaxis]\n",
    "#         print(\"Normalized confusion matrix\")\n",
    "#     else:\n",
    "#         print('Confusion matrix, without normalization')\n",
    "\n",
    "#     print(cm)\n",
    "\n",
    "    plt.imshow(cm, interpolation='nearest', cmap=cmap)\n",
    "    plt.title(title)\n",
    "    plt.colorbar()\n",
    "    tick_marks = np.arange(len(classes))\n",
    "    plt.xticks(tick_marks, classes, rotation=45)\n",
    "    plt.yticks(tick_marks, classes)\n",
    "\n",
    "    fmt = '.2f' if normalize else 'd'\n",
    "    thresh = cm.max() / 2.\n",
    "    for i, j in itertools.product(range(cm.shape[0]), range(cm.shape[1])):\n",
    "        plt.text(j, i, format(cm[i, j], fmt),\n",
    "                 horizontalalignment=\"center\",\n",
    "                 color=\"white\" if cm[i, j] > thresh else \"black\")\n",
    "\n",
    "    plt.ylabel('True label')\n",
    "    plt.xlabel('Predicted label')\n",
    "    plt.tight_layout()\n",
    "    plt.show()"
   ]
  },
  {
   "cell_type": "code",
   "execution_count": 11,
   "metadata": {},
   "outputs": [
    {
     "data": {
      "image/png": "[encoded data removed]",
      "text/plain": [
       "<Figure size 432x288 with 2 Axes>"
      ]
     },
     "metadata": {
      "needs_background": "light"
     },
     "output_type": "display_data"
    },
    {
     "data": {
      "image/png": "[encoded data removed]",
      "text/plain": [
       "<Figure size 432x288 with 2 Axes>"
      ]
     },
     "metadata": {
      "needs_background": "light"
     },
     "output_type": "display_data"
    }
   ],
   "source": [
    "from sklearn.metrics import confusion_matrix\n",
    "\n",
    "labels = list(range(10))\n",
    "\n",
    "conf_mat_val = confusion_matrix(y_val, y_pred_val)\n",
    "plot_confusion_matrix(conf_mat_val, labels, title='Confusion matrix for Validation Set')\n",
    "\n",
    "conf_mat_test = confusion_matrix(y_test, y_pred_test)\n",
    "plot_confusion_matrix(conf_mat_test, labels, title='Confusion matrix for Test Set')"
   ]
  },
  {
   "cell_type": "markdown",
   "metadata": {},
   "source": [
    "## Βήμα 14\n",
    "1. Από τα [help scripts](http://mycourses.ntua.gr/projects/goto/index.php/pr_lab2_2019-20_help_scripts.zip) έχουμε:"
   ]
  },
  {
   "cell_type": "code",
   "execution_count": 12,
   "metadata": {},
   "outputs": [],
   "source": [
    "import os\n",
    "import numpy as np\n",
    "import torch\n",
    "from torch.utils.data import Dataset\n",
    "import torch.nn as nn\n",
    "\n",
    "class FrameLevelDataset(Dataset):\n",
    "    def __init__(self, feats, labels):\n",
    "        \n",
    "        \"\"\"\n",
    "            feats: Python list of numpy arrays that contain the sequence features.\n",
    "                   Each element of this list is a numpy array of shape seq_length x feature_dimension\n",
    "            labels: Python list that contains the label for each sequence (each label must be an integer)\n",
    "        \"\"\"\n",
    "        \n",
    "        self.lengths = [feat.shape[0] for feat in feats]\n",
    "        \n",
    "        self.num_sequences = len(feats)\n",
    "        self.max_sequence_length = max(self.lengths)\n",
    "        self.feature_dimension = feats[0].shape[1]\n",
    "\n",
    "        self.feats = self.zero_pad_and_stack(feats)\n",
    "        if isinstance(labels, (list, tuple)):\n",
    "            self.labels = np.array(labels).astype('int64')\n",
    "\n",
    "    def zero_pad_and_stack(self, x):\n",
    "        \"\"\"\n",
    "            This function performs zero padding on a list of features and forms them into a numpy 3D array\n",
    "            returns\n",
    "                padded: a 3D numpy array of shape num_sequences x max_sequence_length x feature_dimension\n",
    "        \"\"\"\n",
    "        \n",
    "        padded = np.array([np.pad(feat.reshape(-1),\n",
    "                            (0, (self.max_sequence_length - length)*self.feature_dimension), 'constant')\n",
    "                            .reshape(self.max_sequence_length, self.feature_dimension) \n",
    "                            for feat, length in zip(x, self.lengths)])\n",
    "        return padded\n",
    "\n",
    "    def __getitem__(self, item):\n",
    "        return self.feats[item], self.labels[item], self.lengths[item]\n",
    "\n",
    "    def __len__(self):\n",
    "        return len(self.feats)"
   ]
  },
  {
   "cell_type": "markdown",
   "metadata": {},
   "source": [
    "2. Για το απλό `LSTM` δίκτυο έχουμε:"
   ]
  },
  {
   "cell_type": "code",
   "execution_count": 13,
   "metadata": {},
   "outputs": [],
   "source": [
    "class BasicLSTM(nn.Module):\n",
    "    def __init__(self, input_dim, hidden_dim, output_dim, dropout_prob=0.0, num_layers=1, bidirectional=False):\n",
    "        super(BasicLSTM, self).__init__()\n",
    "        \n",
    "        self.dropout_prob = dropout_prob\n",
    "        self.bidirectional = bidirectional\n",
    "        self.feature_size = hidden_dim * 2 if self.bidirectional else hidden_dim\n",
    "        self.num_layers = num_layers\n",
    "        self.input_dim = input_dim\n",
    "        self.hidden_dim = hidden_dim\n",
    "        self.output_dim = output_dim\n",
    "        \n",
    "        # --------------- Insert your code here ---------------- #\n",
    "        # Initialize the LSTM, Dropout, Output layers\n",
    "        \n",
    "        self.lstm = nn.LSTM(input_dim, hidden_dim, num_layers=num_layers,\n",
    "                                dropout=dropout_prob, batch_first=True, bidirectional= bidirectional)\n",
    "        \n",
    "        self.fc = nn.Linear(self.feature_size, self.output_dim)\n",
    "        \n",
    "\n",
    "    def forward(self, x, lengths):\n",
    "        \"\"\" \n",
    "            x : 3D numpy array of dimension N x L x D\n",
    "                N: batch index\n",
    "                L: sequence index\n",
    "                D: feature index\n",
    "\n",
    "            lengths: N x 1\n",
    "         \"\"\"\n",
    "                 \n",
    "        # --------------- Insert your code here ---------------- #\n",
    "        \n",
    "        N, L, D = x.size()\n",
    "        \n",
    "        out, (hidden, cell) = self.lstm(x)\n",
    "        \n",
    "        last = self.last_timestep(out, lengths)\n",
    "        \n",
    "        last_outputs = self.fc(last)\n",
    "        \n",
    "        # You must have all of the outputs of the LSTM, but you need only the last one (that does not exceed the sequence length)\n",
    "        # To get it use the last_timestep method\n",
    "        # Then pass it through the remaining network\n",
    "              \n",
    "        return last_outputs\n",
    "    \n",
    "    \n",
    "\n",
    "    def last_timestep(self, outputs, lengths, bidirectional=False):\n",
    "        \"\"\"\n",
    "            Returns the last output of the LSTM taking into account the zero padding\n",
    "        \"\"\"\n",
    "        if bidirectional:\n",
    "            forward, backward = self.split_directions(outputs)\n",
    "            last_forward = self.last_by_index(forward, lengths)\n",
    "            last_backward = backward[:, 0, :]\n",
    "            # Concatenate and return - maybe add more functionalities like average\n",
    "            return torch.cat((last_forward, last_backward), dim=-1)\n",
    "        else:\n",
    "            return self.last_by_index(outputs, lengths)\n",
    "\n",
    "    @staticmethod\n",
    "    def split_directions(outputs):\n",
    "        direction_size = int(outputs.size(-1) / 2)\n",
    "        forward = outputs[:, :, :direction_size]\n",
    "        backward = outputs[:, :, direction_size:]\n",
    "        return forward, backward\n",
    "\n",
    "    @staticmethod\n",
    "    def last_by_index(outputs, lengths):\n",
    "        # Index of the last output for each sequence.\n",
    "        idx = (lengths - 1).view(-1, 1).expand(outputs.size(0),\n",
    "                                               outputs.size(2)).unsqueeze(1)\n",
    "        return outputs.gather(1, idx).squeeze()"
   ]
  },
  {
   "cell_type": "code",
   "execution_count": 14,
   "metadata": {},
   "outputs": [
    {
     "name": "stdout",
     "output_type": "stream",
     "text": [
      "1440 153 6\n",
      "epoch: 1, train loss: 0.0523\n",
      "epoch: 2, train loss: 0.0492\n",
      "epoch: 3, train loss: 0.0426\n",
      "epoch: 4, train loss: 0.0373\n"
     ]
    },
    {
     "ename": "KeyboardInterrupt",
     "evalue": "",
     "output_type": "error",
     "traceback": [
      "\u001b[0;31m---------------------------------------------------------------------------\u001b[0m",
      "\u001b[0;31mKeyboardInterrupt\u001b[0m                         Traceback (most recent call last)",
      "\u001b[0;32m<ipython-input-14-46a271be1f28>\u001b[0m in \u001b[0;36m<module>\u001b[0;34m\u001b[0m\n\u001b[1;32m     52\u001b[0m \u001b[0;34m\u001b[0m\u001b[0m\n\u001b[1;32m     53\u001b[0m     \u001b[0moptimizer\u001b[0m\u001b[0;34m.\u001b[0m\u001b[0mzero_grad\u001b[0m\u001b[0;34m(\u001b[0m\u001b[0;34m)\u001b[0m\u001b[0;34m\u001b[0m\u001b[0;34m\u001b[0m\u001b[0m\n\u001b[0;32m---> 54\u001b[0;31m     \u001b[0mloss\u001b[0m\u001b[0;34m.\u001b[0m\u001b[0mbackward\u001b[0m\u001b[0;34m(\u001b[0m\u001b[0;34m)\u001b[0m\u001b[0;34m\u001b[0m\u001b[0;34m\u001b[0m\u001b[0m\n\u001b[0m\u001b[1;32m     55\u001b[0m     \u001b[0moptimizer\u001b[0m\u001b[0;34m.\u001b[0m\u001b[0mstep\u001b[0m\u001b[0;34m(\u001b[0m\u001b[0;34m)\u001b[0m\u001b[0;34m\u001b[0m\u001b[0;34m\u001b[0m\u001b[0m\n\u001b[1;32m     56\u001b[0m \u001b[0;34m\u001b[0m\u001b[0m\n",
      "\u001b[0;32m~/.local/lib/python3.6/site-packages/torch/tensor.py\u001b[0m in \u001b[0;36mbackward\u001b[0;34m(self, gradient, retain_graph, create_graph)\u001b[0m\n\u001b[1;32m    164\u001b[0m                 \u001b[0mproducts\u001b[0m\u001b[0;34m.\u001b[0m \u001b[0mDefaults\u001b[0m \u001b[0mto\u001b[0m\u001b[0;31m \u001b[0m\u001b[0;31m`\u001b[0m\u001b[0;31m`\u001b[0m\u001b[0;32mFalse\u001b[0m\u001b[0;31m`\u001b[0m\u001b[0;31m`\u001b[0m\u001b[0;34m.\u001b[0m\u001b[0;34m\u001b[0m\u001b[0;34m\u001b[0m\u001b[0m\n\u001b[1;32m    165\u001b[0m         \"\"\"\n\u001b[0;32m--> 166\u001b[0;31m         \u001b[0mtorch\u001b[0m\u001b[0;34m.\u001b[0m\u001b[0mautograd\u001b[0m\u001b[0;34m.\u001b[0m\u001b[0mbackward\u001b[0m\u001b[0;34m(\u001b[0m\u001b[0mself\u001b[0m\u001b[0;34m,\u001b[0m \u001b[0mgradient\u001b[0m\u001b[0;34m,\u001b[0m \u001b[0mretain_graph\u001b[0m\u001b[0;34m,\u001b[0m \u001b[0mcreate_graph\u001b[0m\u001b[0;34m)\u001b[0m\u001b[0;34m\u001b[0m\u001b[0;34m\u001b[0m\u001b[0m\n\u001b[0m\u001b[1;32m    167\u001b[0m \u001b[0;34m\u001b[0m\u001b[0m\n\u001b[1;32m    168\u001b[0m     \u001b[0;32mdef\u001b[0m \u001b[0mregister_hook\u001b[0m\u001b[0;34m(\u001b[0m\u001b[0mself\u001b[0m\u001b[0;34m,\u001b[0m \u001b[0mhook\u001b[0m\u001b[0;34m)\u001b[0m\u001b[0;34m:\u001b[0m\u001b[0;34m\u001b[0m\u001b[0;34m\u001b[0m\u001b[0m\n",
      "\u001b[0;32m~/.local/lib/python3.6/site-packages/torch/autograd/__init__.py\u001b[0m in \u001b[0;36mbackward\u001b[0;34m(tensors, grad_tensors, retain_graph, create_graph, grad_variables)\u001b[0m\n\u001b[1;32m     97\u001b[0m     Variable._execution_engine.run_backward(\n\u001b[1;32m     98\u001b[0m         \u001b[0mtensors\u001b[0m\u001b[0;34m,\u001b[0m \u001b[0mgrad_tensors\u001b[0m\u001b[0;34m,\u001b[0m \u001b[0mretain_graph\u001b[0m\u001b[0;34m,\u001b[0m \u001b[0mcreate_graph\u001b[0m\u001b[0;34m,\u001b[0m\u001b[0;34m\u001b[0m\u001b[0;34m\u001b[0m\u001b[0m\n\u001b[0;32m---> 99\u001b[0;31m         allow_unreachable=True)  # allow_unreachable flag\n\u001b[0m\u001b[1;32m    100\u001b[0m \u001b[0;34m\u001b[0m\u001b[0m\n\u001b[1;32m    101\u001b[0m \u001b[0;34m\u001b[0m\u001b[0m\n",
      "\u001b[0;31mKeyboardInterrupt\u001b[0m: "
     ]
    }
   ],
   "source": [
    "from torch.utils.data import DataLoader\n",
    "import numpy as np\n",
    "import torch\n",
    "from torch.autograd import Variable\n",
    "from sklearn.metrics import accuracy_score, f1_score\n",
    "\n",
    "BATCH_SIZE = 40\n",
    "EPOCHS = 1\n",
    "\n",
    "fld_train = FrameLevelDataset(X_train, y_train.tolist())\n",
    "fld_val = FrameLevelDataset(X_val, y_val.tolist())\n",
    "fld_test = FrameLevelDataset(X_test, y_test.tolist())\n",
    "\n",
    "train_loader = DataLoader(fld_train, batch_size=BATCH_SIZE, shuffle=True)\n",
    "val_loader = DataLoader(fld_val, batch_size=BATCH_SIZE, shuffle=True)\n",
    "test_loader = DataLoader(fld_test, batch_size=BATCH_SIZE, shuffle=True)\n",
    "\n",
    "\n",
    "# for epoch in range(EPOCHS):\n",
    "\n",
    "print(fld_train.num_sequences,\n",
    "fld_train.max_sequence_length,\n",
    "fld_train.feature_dimension)\n",
    "# print(fld_test.num_sequences,\n",
    "# fld_test.max_sequence_length,\n",
    "# fld_test.feature_dimension)\n",
    "\n",
    "hidden_dim = 20\n",
    "\n",
    "model =  BasicLSTM(input_dim=6, hidden_dim=hidden_dim, output_dim=10)\n",
    "criterion = torch.nn.CrossEntropyLoss()\n",
    "optimizer = torch.optim.Adam(model.parameters(), lr=1e-1)\n",
    "\n",
    "\n",
    "\n",
    "for epoch in range(10):\n",
    "    \n",
    "    model.train()\n",
    "\n",
    "    loss = 0.0\n",
    "    for batch in train_loader:\n",
    "\n",
    "        inputs, targets, lengths = batch\n",
    "\n",
    "        inputs = Variable(inputs)\n",
    "        targets = Variable(targets)\n",
    "        lengths = Variable(lengths)\n",
    "\n",
    "        outputs = model(inputs, lengths)\n",
    "        \n",
    "        loss += criterion(outputs, targets)\n",
    "\n",
    "    optimizer.zero_grad()\n",
    "    loss.backward()\n",
    "    optimizer.step()\n",
    "    \n",
    "    \n",
    "    print(\"epoch: %d, train loss: %1.4f\" % (epoch + 1, loss.data/(inputs.size(0)*BATCH_SIZE)))\n",
    "    \n",
    "    model.eval()\n",
    "    \n",
    "    loss = 0.0\n",
    "    with torch.no_grad():\n",
    "        for batch in val_loader:\n",
    "\n",
    "            inputs, targets, lengths = batch\n",
    "\n",
    "            inputs = Variable(inputs)\n",
    "            targets = Variable(targets)\n",
    "            lengths = Variable(lengths)\n",
    "\n",
    "            outputs = model(inputs, lengths)\n",
    "            \n",
    "#             accuracy += accuracy(outputs, targets)\n",
    "            \n",
    "#             print(accuracy_score(targets, outputs))\n",
    "            \n",
    "#             print(outputs)\n",
    "\n",
    "#         loss += criterion(outputs, targets)"
   ]
  },
  {
   "cell_type": "markdown",
   "metadata": {},
   "source": [
    "4. Για την εκπαίδευση του μοντέλου στο train set και την εκτίμηση στο validation set έχουμε:"
   ]
  },
  {
   "cell_type": "code",
   "execution_count": 15,
   "metadata": {},
   "outputs": [],
   "source": [
    "import math\n",
    "import sys\n",
    "\n",
    "def progress(loss, epoch, batch, batch_size, dataset_size):\n",
    "    \"\"\"\n",
    "    Print the progress of the training for each epoch\n",
    "    \"\"\"\n",
    "    batches = math.ceil(float(dataset_size) / batch_size)\n",
    "    count = batch * batch_size\n",
    "    bar_len = 40\n",
    "    filled_len = int(round(bar_len * count / float(dataset_size)))\n",
    "\n",
    "    bar = '=' * filled_len + '-' * (bar_len - filled_len)\n",
    "\n",
    "    status = 'Epoch {}, Loss: {:.4f}'.format(epoch, loss)\n",
    "    _progress_str = \"\\r \\r [{}] ...{}\".format(bar, status)\n",
    "    sys.stdout.write(_progress_str)\n",
    "    sys.stdout.flush()\n",
    "\n",
    "    if batch == batches:\n",
    "        print()"
   ]
  },
  {
   "cell_type": "code",
   "execution_count": 16,
   "metadata": {},
   "outputs": [],
   "source": [
    "import torch\n",
    "from torch.autograd import Variable\n",
    "\n",
    "def train_dataset(_epoch, dataloader, model, loss_function, optimizer):\n",
    "    \n",
    "    model.train()\n",
    "    running_loss = 0.0\n",
    "\n",
    "    # obtain the model's device ID\n",
    "    device = next(model.parameters()).device\n",
    "\n",
    "    for index, batch in enumerate(dataloader, 1):\n",
    "\n",
    "        # get the inputs (batch)\n",
    "        inputs, labels, lengths = batch\n",
    "\n",
    "        # move the batch tensors to the right device\n",
    "        inputs = Variable(inputs).to(device)\n",
    "        labels = Variable(labels).to(device)\n",
    "        lengths = Variable(lengths).to(device)\n",
    "\n",
    "        optimizer.zero_grad()\n",
    "\n",
    "        # Step 2 - forward pass: y' = model(x)\n",
    "        outputs = model(inputs, lengths)\n",
    "\n",
    "        # Step 3 - compute loss: L = loss_function(y, y')\n",
    "        loss = loss_function(outputs, labels)\n",
    "\n",
    "        # Step 4 - backward pass: compute gradient wrt model parameters\n",
    "        loss.backward()\n",
    "\n",
    "        # Step 5 - update weights\n",
    "        optimizer.step()\n",
    "\n",
    "        running_loss += loss.data.item()\n",
    "\n",
    "        # print statistics\n",
    "        progress(loss=loss.data.item(),\n",
    "                 epoch=_epoch,\n",
    "                 batch=index,\n",
    "                 batch_size=dataloader.batch_size,\n",
    "                 dataset_size=len(dataloader.dataset))\n",
    "\n",
    "    return running_loss / index\n",
    "\n",
    "\n",
    "def eval_dataset(dataloader, model, loss_function):\n",
    "    \n",
    "    # IMPORTANT: switch to eval mode\n",
    "    # disable regularization layers, such as Dropout\n",
    "    model.eval()\n",
    "    running_loss = 0.0\n",
    "\n",
    "    y_pred = []  # the predicted labels\n",
    "    y = []  # the gold labels\n",
    "\n",
    "    # obtain the model's device ID\n",
    "    device = next(model.parameters()).device\n",
    "\n",
    "    # IMPORTANT: in evaluation mode, we don't want to keep the gradients\n",
    "    # so we do everything under torch.no_grad()\n",
    "    with torch.no_grad():\n",
    "        for index, batch in enumerate(dataloader, 1):\n",
    "\n",
    "            # get the inputs (batch)\n",
    "            inputs, labels, lengths = batch\n",
    "\n",
    "            # Step 1 - move the batch tensors to the right device\n",
    "            inputs = Variable(inputs).to(device)\n",
    "            labels = Variable(labels).to(device)\n",
    "            lengths = Variable(lengths).to(device)\n",
    "\n",
    "            # Step 2 - forward pass: y' = model(x)\n",
    "            outputs = model(inputs, lengths)\n",
    "\n",
    "            # Step 3 - compute loss.\n",
    "            # We compute the loss only for inspection (compare train/test loss)\n",
    "            # because we do not actually backpropagate in test time\n",
    "            loss = loss_function(outputs, labels)\n",
    "\n",
    "            # Step 4 - make predictions (class = argmax of posteriors)\n",
    "            _, posibol = torch.max(outputs.data, 1)\n",
    "\n",
    "            # Step 5 - collect the predictions, gold labels and batch loss\n",
    "            y_pred.extend(list(posibol.data.cpu().numpy().squeeze()))\n",
    "            y.extend(list(labels.data.cpu().numpy().squeeze()))\n",
    "\n",
    "\n",
    "            running_loss += loss.data.item()\n",
    "\n",
    "    return running_loss / index, (y_pred, y)"
   ]
  },
  {
   "cell_type": "code",
   "execution_count": 17,
   "metadata": {},
   "outputs": [],
   "source": [
    "class EarlyStopping:\n",
    "    \"\"\"Early stops the training if validation loss doesn't improve after a given patience.\"\"\"\n",
    "    def __init__(self, patience=7, verbose=False, delta=0):\n",
    "        \"\"\"\n",
    "        Args:\n",
    "            patience (int): How long to wait after last time validation loss improved.\n",
    "                            Default: 7\n",
    "            verbose (bool): If True, prints a message for each validation loss improvement. \n",
    "                            Default: False\n",
    "            delta (float): Minimum change in the monitored quantity to qualify as an improvement.\n",
    "                            Default: 0\n",
    "        \"\"\"\n",
    "        self.patience = patience\n",
    "        self.verbose = verbose\n",
    "        self.counter = 0\n",
    "        self.best_score = None\n",
    "        self.early_stop = False\n",
    "        self.val_loss_min = np.Inf\n",
    "        self.delta = delta\n",
    "\n",
    "    def __call__(self, val_loss, model):\n",
    "\n",
    "        score = -val_loss\n",
    "\n",
    "        if self.best_score is None:\n",
    "            self.best_score = score\n",
    "            self.save_checkpoint(val_loss, model)\n",
    "        elif score < self.best_score + self.delta:\n",
    "            self.counter += 1\n",
    "            print(f'EarlyStopping counter: {self.counter} out of {self.patience}')\n",
    "            if self.counter >= self.patience:\n",
    "                self.early_stop = True\n",
    "        else:\n",
    "            self.best_score = score\n",
    "            self.save_checkpoint(val_loss, model)\n",
    "            self.counter = 0\n",
    "\n",
    "    def save_checkpoint(self, val_loss, model):\n",
    "        '''Saves model when validation loss decrease.'''\n",
    "        if self.verbose:\n",
    "            print(f'Validation loss decreased ({self.val_loss_min:.6f} --> {val_loss:.6f}).  Saving model ...')\n",
    "        torch.save(model.state_dict(), 'checkpoint.pt')\n",
    "        self.val_loss_min = val_loss"
   ]
  },
  {
   "cell_type": "code",
   "execution_count": 18,
   "metadata": {},
   "outputs": [],
   "source": [
    "from sklearn.metrics import accuracy_score, f1_score\n",
    "import time\n",
    "\n",
    "def train_and_val_model(EPOCHS, train_loader, val_loader, model, loss_function, optimizer, \n",
    "                                                        save=False, early_stopping_limit=0):\n",
    "\n",
    "    total_train_loss = []\n",
    "    total_val_loss = []\n",
    "    min_val_loss = 100\n",
    "    \n",
    "    if early_stopping_limit:\n",
    "        early_stopping = EarlyStopping(patience=early_stopping_limit, verbose=True)\n",
    "    \n",
    "    start_time = time.time()\n",
    "    \n",
    "    for epoch in range(1, EPOCHS + 1):\n",
    "        # train the model for one epoch\n",
    "        train_dataset(epoch, train_loader, model, loss_function, optimizer)\n",
    "\n",
    "        # evaluate the performance of the model\n",
    "        train_loss, (y_train_pred, y_train_gold) = eval_dataset(train_loader, model, loss_function)\n",
    "        print(\"Train Set: loss = {:.4f}\".format(train_loss))\n",
    "\n",
    "        val_loss, (y_val_pred, y_val_gold) = eval_dataset(val_loader, model, loss_function)\n",
    "        print(\"Validation Set: loss = {:.4f}\\n\".format(val_loss))\n",
    "        test_model(val_loader, model, loss_function, \"Eval\")\n",
    "\n",
    "        \n",
    "        # save best model\n",
    "#         if (val_loss < min_val_loss and save):\n",
    "#             torch.save({\n",
    "#                 'epoch': epoch,\n",
    "#                 'model_state_dict': model.state_dict(),\n",
    "#                 'optimizer_state_dict': optimizer.state_dict(),\n",
    "#                 'loss': val_loss}, MODEL_PATH)\n",
    "#             min_val_loss = val_loss\n",
    "\n",
    "        total_train_loss.append(train_loss)\n",
    "        total_val_loss.append(val_loss)\n",
    "        \n",
    "        if early_stopping_limit:\n",
    "            early_stopping(val_loss, model)\n",
    "        \n",
    "            if early_stopping.early_stop:\n",
    "                print(\"Early stopping...\")\n",
    "                break\n",
    "\n",
    "    if early_stopping_limit:        \n",
    "        # load the last checkpoint with the best model\n",
    "        model.load_state_dict(torch.load('checkpoint.pt'))\n",
    "        \n",
    "    print(\"\\nTotal train and validation time: {:.2f} seconds\".format((time.time() - start_time)))\n",
    "    \n",
    "    return total_train_loss, total_val_loss\n",
    "\n",
    "\n",
    "def test_model(test_loader, model, loss_function, set):\n",
    "    \n",
    "    test_loss, (y_test_pred, y_test_gold) = eval_dataset(test_loader, model, loss_function)\n",
    "    print(\"\\n\"+set+\" Set: loss={:.4f}, accuracy={:.4f}, f1-macro={:.4f}\".format(test_loss, accuracy_score(y_test_gold, y_test_pred), f1_score(y_test_gold, y_test_pred, average='macro')))\n",
    "    \n",
    "    return y_test_pred, y_test_gold"
   ]
  },
  {
   "cell_type": "markdown",
   "metadata": {},
   "source": [
    "Χρησιμοποιώντας την κλάση ```FrameLevelDataset``` έχουμε:"
   ]
  },
  {
   "cell_type": "code",
   "execution_count": 19,
   "metadata": {},
   "outputs": [],
   "source": [
    "fld_train = FrameLevelDataset(X_train, y_train.tolist())\n",
    "fld_val = FrameLevelDataset(X_val, y_val.tolist())\n",
    "fld_test = FrameLevelDataset(X_test, y_test.tolist())"
   ]
  },
  {
   "cell_type": "markdown",
   "metadata": {},
   "source": [
    "Για την εκπαίδευση του δικτύου, χωρίζουμε τα `train`, `validation` και `test` set σε batches με $batch\\_size = 40$. Εκπαιδεύουμε το δίκτυο για $30$ εποχές και χρησιμοποιώντας ως loss function την ```CrossEntropyLoss()``` (η οποία εκτελεί εσωτερικά ```softmax()```) και για optimizer τον `Stochastic Gradient Descent` (```SGD()```)"
   ]
  },
  {
   "cell_type": "code",
   "execution_count": 20,
   "metadata": {},
   "outputs": [
    {
     "name": "stdout",
     "output_type": "stream",
     "text": [
      "DEVICE: cuda\n",
      "cuda Version: 10.1.243 \n",
      "n_cuda = 1 \n",
      "Cuda Name(s): GeForce GTX 1050 Ti with Max-Q Design\n"
     ]
    }
   ],
   "source": [
    "from torch.utils.data import DataLoader\n",
    "import numpy as np\n",
    "import torch\n",
    "\n",
    "BATCH_SIZE = 40\n",
    "EPOCHS = 30\n",
    "\n",
    "train_loader = DataLoader(fld_train, batch_size=BATCH_SIZE, shuffle=True)\n",
    "val_loader = DataLoader(fld_val, batch_size=BATCH_SIZE, shuffle=True)\n",
    "test_loader = DataLoader(fld_test, batch_size=BATCH_SIZE, shuffle=True)\n",
    "\n",
    "# print([x for x in train_loader])\n",
    "\n",
    "# if your computer has a CUDA compatible gpu use it, otherwise use the cpu\n",
    "DEVICE = torch.device(\"cuda\" if torch.cuda.is_available() else \"cpu\")\n",
    "print('DEVICE:', DEVICE)\n",
    "if torch.cuda.is_available():\n",
    "    print(  'cuda Version:', torch.version.cuda,\n",
    "            '\\nn_cuda =', torch.cuda.device_count(),\n",
    "            '\\nCuda Name(s):', torch.cuda.get_device_name(0)    )\n",
    "\n",
    "# if os.path.exists(\"./train.model\"):\n",
    "    #     model.load_state_dict(torch.load(\"./train.model\"))\n",
    "    #     # model.eval()\n",
    "    #     print(\"Loaded from pre-trained model\")\n",
    "\n",
    "# torch.save(model.state_dict(), \"./train.model\")"
   ]
  },
  {
   "cell_type": "code",
   "execution_count": 24,
   "metadata": {
    "scrolled": false
   },
   "outputs": [
    {
     "name": "stdout",
     "output_type": "stream",
     "text": [
      " [========================================] ...Epoch 1, Loss: 1.5645\n",
      "Train Set: loss = 1.3620\n",
      "Validation Set: loss = 1.4053\n",
      "\n",
      "\n",
      "Eval Set: loss=1.4053, accuracy=0.4389, f1-macro=0.3689\n",
      "Validation loss decreased (inf --> 1.405315).  Saving model ...\n",
      " [========================================] ...Epoch 2, Loss: 1.2295\n",
      "Train Set: loss = 0.9370\n",
      "Validation Set: loss = 0.9657\n",
      "\n",
      "\n",
      "Eval Set: loss=0.9657, accuracy=0.6833, f1-macro=0.6757\n",
      "Validation loss decreased (1.405315 --> 0.965650).  Saving model ...\n",
      " [========================================] ...Epoch 3, Loss: 0.5979\n",
      "Train Set: loss = 0.6440\n",
      "Validation Set: loss = 0.7190\n",
      "\n",
      "\n",
      "Eval Set: loss=0.7190, accuracy=0.7417, f1-macro=0.7372\n",
      "Validation loss decreased (0.965650 --> 0.719005).  Saving model ...\n",
      " [========================================] ...Epoch 4, Loss: 0.4967\n",
      "Train Set: loss = 0.4679\n",
      "Validation Set: loss = 0.5577\n",
      "\n",
      "\n",
      "Eval Set: loss=0.5577, accuracy=0.8278, f1-macro=0.8238\n",
      "Validation loss decreased (0.719005 --> 0.557749).  Saving model ...\n",
      " [========================================] ...Epoch 5, Loss: 0.5114\n",
      "Train Set: loss = 0.3577\n",
      "Validation Set: loss = 0.4769\n",
      "\n",
      "\n",
      "Eval Set: loss=0.4769, accuracy=0.8417, f1-macro=0.8401\n",
      "Validation loss decreased (0.557749 --> 0.476901).  Saving model ...\n",
      " [========================================] ...Epoch 6, Loss: 0.3736\n",
      "Train Set: loss = 0.3630\n",
      "Validation Set: loss = 0.4144\n",
      "\n",
      "\n",
      "Eval Set: loss=0.4144, accuracy=0.8611, f1-macro=0.8619\n",
      "Validation loss decreased (0.476901 --> 0.414382).  Saving model ...\n",
      " [========================================] ...Epoch 7, Loss: 0.4290\n",
      "Train Set: loss = 0.2556\n",
      "Validation Set: loss = 0.3273\n",
      "\n",
      "\n",
      "Eval Set: loss=0.3273, accuracy=0.9167, f1-macro=0.9165\n",
      "Validation loss decreased (0.414382 --> 0.327330).  Saving model ...\n",
      " [========================================] ...Epoch 8, Loss: 0.1909\n",
      "Train Set: loss = 0.2357\n",
      "Validation Set: loss = 0.3809\n",
      "\n",
      "\n",
      "Eval Set: loss=0.3809, accuracy=0.8889, f1-macro=0.8876\n",
      "EarlyStopping counter: 1 out of 7\n",
      " [========================================] ...Epoch 9, Loss: 0.1703\n",
      "Train Set: loss = 0.1163\n",
      "Validation Set: loss = 0.2349\n",
      "\n",
      "\n",
      "Eval Set: loss=0.2349, accuracy=0.9333, f1-macro=0.9328\n",
      "Validation loss decreased (0.327330 --> 0.234914).  Saving model ...\n",
      " [========================================] ...Epoch 10, Loss: 0.4400\n",
      "Train Set: loss = 0.1909\n",
      "Validation Set: loss = 0.3339\n",
      "\n",
      "\n",
      "Eval Set: loss=0.3339, accuracy=0.8972, f1-macro=0.8983\n",
      "EarlyStopping counter: 1 out of 7\n",
      " [========================================] ...Epoch 11, Loss: 0.0958\n",
      "Train Set: loss = 0.1113\n",
      "Validation Set: loss = 0.1909\n",
      "\n",
      "\n",
      "Eval Set: loss=0.1909, accuracy=0.9472, f1-macro=0.9471\n",
      "Validation loss decreased (0.234914 --> 0.190926).  Saving model ...\n",
      " [========================================] ...Epoch 12, Loss: 0.0597\n",
      "Train Set: loss = 0.0681\n",
      "Validation Set: loss = 0.2093\n",
      "\n",
      "\n",
      "Eval Set: loss=0.2093, accuracy=0.9500, f1-macro=0.9497\n",
      "EarlyStopping counter: 1 out of 7\n",
      " [========================================] ...Epoch 13, Loss: 0.0548\n",
      "Train Set: loss = 0.0634\n",
      "Validation Set: loss = 0.2074\n",
      "\n",
      "\n",
      "Eval Set: loss=0.2074, accuracy=0.9361, f1-macro=0.9355\n",
      "EarlyStopping counter: 2 out of 7\n",
      " [========================================] ...Epoch 14, Loss: 0.0225\n",
      "Train Set: loss = 0.0482\n",
      "Validation Set: loss = 0.1743\n",
      "\n",
      "\n",
      "Eval Set: loss=0.1743, accuracy=0.9500, f1-macro=0.9501\n",
      "Validation loss decreased (0.190926 --> 0.174338).  Saving model ...\n",
      " [========================================] ...Epoch 15, Loss: 0.0388\n",
      "Train Set: loss = 0.0375\n",
      "Validation Set: loss = 0.1792\n",
      "\n",
      "\n",
      "Eval Set: loss=0.1792, accuracy=0.9472, f1-macro=0.9467\n",
      "EarlyStopping counter: 1 out of 7\n",
      " [========================================] ...Epoch 16, Loss: 0.0088\n",
      "Train Set: loss = 0.0287\n",
      "Validation Set: loss = 0.1579\n",
      "\n",
      "\n",
      "Eval Set: loss=0.1579, accuracy=0.9611, f1-macro=0.9612\n",
      "Validation loss decreased (0.174338 --> 0.157900).  Saving model ...\n",
      " [========================================] ...Epoch 17, Loss: 0.0114\n",
      "Train Set: loss = 0.0232\n",
      "Validation Set: loss = 0.1594\n",
      "\n",
      "\n",
      "Eval Set: loss=0.1594, accuracy=0.9528, f1-macro=0.9527\n",
      "EarlyStopping counter: 1 out of 7\n",
      " [========================================] ...Epoch 18, Loss: 0.0380\n",
      "Train Set: loss = 0.0169\n",
      "Validation Set: loss = 0.1780\n",
      "\n",
      "\n",
      "Eval Set: loss=0.1780, accuracy=0.9556, f1-macro=0.9556\n",
      "EarlyStopping counter: 2 out of 7\n",
      " [========================================] ...Epoch 19, Loss: 0.0700\n",
      "Train Set: loss = 0.0150\n",
      "Validation Set: loss = 0.1754\n",
      "\n",
      "\n",
      "Eval Set: loss=0.1754, accuracy=0.9556, f1-macro=0.9555\n",
      "EarlyStopping counter: 3 out of 7\n",
      " [========================================] ...Epoch 20, Loss: 0.0089\n",
      "Train Set: loss = 0.0128\n",
      "Validation Set: loss = 0.1785\n",
      "\n",
      "\n",
      "Eval Set: loss=0.1785, accuracy=0.9528, f1-macro=0.9527\n",
      "EarlyStopping counter: 4 out of 7\n",
      " [========================================] ...Epoch 21, Loss: 0.0165\n",
      "Train Set: loss = 0.0277\n",
      "Validation Set: loss = 0.2076\n",
      "\n",
      "\n",
      "Eval Set: loss=0.2076, accuracy=0.9444, f1-macro=0.9445\n",
      "EarlyStopping counter: 5 out of 7\n",
      " [========================================] ...Epoch 22, Loss: 0.0080\n",
      "Train Set: loss = 0.0109\n",
      "Validation Set: loss = 0.1853\n",
      "\n",
      "\n",
      "Eval Set: loss=0.1853, accuracy=0.9500, f1-macro=0.9498\n",
      "EarlyStopping counter: 6 out of 7\n",
      " [========================================] ...Epoch 23, Loss: 0.0065\n",
      "Train Set: loss = 0.0089\n",
      "Validation Set: loss = 0.1977\n",
      "\n",
      "\n",
      "Eval Set: loss=0.1977, accuracy=0.9500, f1-macro=0.9498\n",
      "EarlyStopping counter: 7 out of 7\n",
      "Early stopping...\n",
      "\n",
      "Total train and validation time: 11.77 seconds\n"
     ]
    }
   ],
   "source": [
    "model = BasicLSTM(input_dim=6, hidden_dim=20, output_dim=10).to(DEVICE)\n",
    "\n",
    "loss_function = torch.nn.CrossEntropyLoss()\n",
    "optimizer = torch.optim.SGD(model.parameters(), lr=1)\n",
    "\n",
    "total_train_loss, total_val_loss = train_and_val_model(50, train_loader, val_loader, model, \n",
    "                                                        loss_function, optimizer, early_stopping_limit=7)"
   ]
  },
  {
   "cell_type": "code",
   "execution_count": 23,
   "metadata": {},
   "outputs": [
    {
     "name": "stdout",
     "output_type": "stream",
     "text": [
      "\n",
      "Test Set: loss=0.2038, accuracy=0.9250, f1-macro=0.9254\n"
     ]
    }
   ],
   "source": [
    "y_test_pred, y_test_gold = test_model(test_loader, model, loss_function, \"Test\")"
   ]
  },
  {
   "cell_type": "markdown",
   "metadata": {},
   "source": [
    "## y_test_pred, y_test_gold = test_model(test_loader, model, loss_function, \"Test\")"
   ]
  },
  {
   "cell_type": "markdown",
   "metadata": {},
   "source": [
    "5. Με την χρήση `Dropout Layer` καθώς και `L2 Regularization` (Ridge Regression) έχουμε:"
   ]
  },
  {
   "cell_type": "code",
   "execution_count": 144,
   "metadata": {
    "scrolled": false
   },
   "outputs": [
    {
     "name": "stdout",
     "output_type": "stream",
     "text": [
      " [========================================] ...Epoch 1, Loss: 1.5049\n",
      "Train Set: loss = 1.3857\n",
      "Validation Set: loss = 1.4163\n",
      "\n",
      "\n",
      "Eval Set: loss=1.4163, accuracy=0.5444, f1-macro=0.5472\n",
      " [========================================] ...Epoch 2, Loss: 0.9212\n",
      "Train Set: loss = 0.9040\n",
      "Validation Set: loss = 0.8726\n",
      "\n",
      "\n",
      "Eval Set: loss=0.8726, accuracy=0.6639, f1-macro=0.6416\n",
      " [========================================] ...Epoch 3, Loss: 0.7727\n",
      "Train Set: loss = 0.6115\n",
      "Validation Set: loss = 0.6469\n",
      "\n",
      "\n",
      "Eval Set: loss=0.6469, accuracy=0.7806, f1-macro=0.7781\n",
      " [========================================] ...Epoch 4, Loss: 0.5479\n",
      "Train Set: loss = 0.6705\n",
      "Validation Set: loss = 0.7030\n",
      "\n",
      "\n",
      "Eval Set: loss=0.7030, accuracy=0.7222, f1-macro=0.7087\n",
      " [========================================] ...Epoch 5, Loss: 0.3805\n",
      "Train Set: loss = 0.3567\n",
      "Validation Set: loss = 0.3786\n",
      "\n",
      "\n",
      "Eval Set: loss=0.3786, accuracy=0.9056, f1-macro=0.9064\n",
      " [========================================] ...Epoch 6, Loss: 0.3397\n",
      "Train Set: loss = 0.3182\n",
      "Validation Set: loss = 0.3796\n",
      "\n",
      "\n",
      "Eval Set: loss=0.3796, accuracy=0.8639, f1-macro=0.8643\n",
      " [========================================] ...Epoch 7, Loss: 0.3805\n",
      "Train Set: loss = 0.2984\n",
      "Validation Set: loss = 0.3127\n",
      "\n",
      "\n",
      "Eval Set: loss=0.3127, accuracy=0.8833, f1-macro=0.8832\n",
      " [========================================] ...Epoch 8, Loss: 0.5535\n",
      "Train Set: loss = 0.2806\n",
      "Validation Set: loss = 0.3056\n",
      "\n",
      "\n",
      "Eval Set: loss=0.3056, accuracy=0.9083, f1-macro=0.9084\n",
      " [========================================] ...Epoch 9, Loss: 0.1006\n",
      "Train Set: loss = 0.1540\n",
      "Validation Set: loss = 0.2102\n",
      "\n",
      "\n",
      "Eval Set: loss=0.2102, accuracy=0.9417, f1-macro=0.9417\n",
      " [========================================] ...Epoch 10, Loss: 0.1500\n",
      "Train Set: loss = 0.1472\n",
      "Validation Set: loss = 0.1552\n",
      "\n",
      "\n",
      "Eval Set: loss=0.1552, accuracy=0.9667, f1-macro=0.9667\n",
      "\n",
      "Total train and validation time: 22.98 seconds\n"
     ]
    }
   ],
   "source": [
    "model = BasicLSTM(input_dim=6, hidden_dim=20, output_dim=10, dropout_prob=0.2).to(DEVICE)\n",
    "\n",
    "loss_function = torch.nn.CrossEntropyLoss()\n",
    "optimizer_L2 = torch.optim.SGD(model.parameters(), lr=1e-0, weight_decay=1e-5)\n",
    "\n",
    "\n",
    "total_train_loss, total_val_loss = train_and_val_model(10, train_loader, val_loader, model, loss_function, optimizer_L2)"
   ]
  },
  {
   "cell_type": "code",
   "execution_count": 145,
   "metadata": {},
   "outputs": [
    {
     "name": "stdout",
     "output_type": "stream",
     "text": [
      "\n",
      "Test Set: loss=0.2362, accuracy=0.9350, f1-macro=0.9359\n"
     ]
    }
   ],
   "source": [
    "y_test_pred, y_test_gold = test_model(test_loader, model, loss_function, \"Test\")"
   ]
  },
  {
   "cell_type": "markdown",
   "metadata": {},
   "source": [
    "6. Με την χρήση `Early Stopping` και `Checkpoints` έχουμε:"
   ]
  },
  {
   "cell_type": "code",
   "execution_count": null,
   "metadata": {},
   "outputs": [],
   "source": []
  },
  {
   "cell_type": "markdown",
   "metadata": {},
   "source": [
    "7. Για το `Bidirectional LSTM` δίκτυο έχουμε:"
   ]
  },
  {
   "cell_type": "code",
   "execution_count": 25,
   "metadata": {
    "scrolled": true
   },
   "outputs": [
    {
     "name": "stdout",
     "output_type": "stream",
     "text": [
      " [========================================] ...Epoch 1, Loss: 1.3060\n",
      "Train Set: loss = 1.3569\n",
      "Validation Set: loss = 1.3862\n",
      "\n",
      "\n",
      "Eval Set: loss=1.3862, accuracy=0.4889, f1-macro=0.4517\n",
      " [========================================] ...Epoch 2, Loss: 1.5336\n",
      "Train Set: loss = 1.1788\n",
      "Validation Set: loss = 1.2574\n",
      "\n",
      "\n",
      "Eval Set: loss=1.2574, accuracy=0.5167, f1-macro=0.4721\n",
      " [========================================] ...Epoch 3, Loss: 0.6422\n",
      "Train Set: loss = 0.6928\n",
      "Validation Set: loss = 0.7615\n",
      "\n",
      "\n",
      "Eval Set: loss=0.7615, accuracy=0.7083, f1-macro=0.7098\n",
      " [========================================] ...Epoch 4, Loss: 0.5866\n",
      "Train Set: loss = 0.5230\n",
      "Validation Set: loss = 0.6396\n",
      "\n",
      "\n",
      "Eval Set: loss=0.6396, accuracy=0.7778, f1-macro=0.7766\n",
      " [========================================] ...Epoch 5, Loss: 0.5614\n",
      "Train Set: loss = 0.4084\n",
      "Validation Set: loss = 0.4735\n",
      "\n",
      "\n",
      "Eval Set: loss=0.4735, accuracy=0.8611, f1-macro=0.8602\n",
      " [========================================] ...Epoch 6, Loss: 0.4171\n",
      "Train Set: loss = 0.3257\n",
      "Validation Set: loss = 0.4401\n",
      "\n",
      "\n",
      "Eval Set: loss=0.4401, accuracy=0.8806, f1-macro=0.8785\n",
      " [========================================] ...Epoch 7, Loss: 0.3860\n",
      "Train Set: loss = 0.2252\n",
      "Validation Set: loss = 0.3517\n",
      "\n",
      "\n",
      "Eval Set: loss=0.3517, accuracy=0.8861, f1-macro=0.8863\n",
      " [========================================] ...Epoch 8, Loss: 0.0943\n",
      "Train Set: loss = 0.1726\n",
      "Validation Set: loss = 0.3096\n",
      "\n",
      "\n",
      "Eval Set: loss=0.3096, accuracy=0.9056, f1-macro=0.9052\n",
      " [========================================] ...Epoch 9, Loss: 0.3103\n",
      "Train Set: loss = 0.1500\n",
      "Validation Set: loss = 0.2400\n",
      "\n",
      "\n",
      "Eval Set: loss=0.2400, accuracy=0.9306, f1-macro=0.9293\n",
      " [========================================] ...Epoch 10, Loss: 0.1914\n",
      "Train Set: loss = 0.1211\n",
      "Validation Set: loss = 0.2523\n",
      "\n",
      "\n",
      "Eval Set: loss=0.2523, accuracy=0.9333, f1-macro=0.9330\n",
      " [========================================] ...Epoch 11, Loss: 0.2925\n",
      "Train Set: loss = 0.2175\n",
      "Validation Set: loss = 0.3043\n",
      "\n",
      "\n",
      "Eval Set: loss=0.3043, accuracy=0.8972, f1-macro=0.8968\n",
      " [========================================] ...Epoch 12, Loss: 0.1163\n",
      "Train Set: loss = 0.1019\n",
      "Validation Set: loss = 0.2153\n",
      "\n",
      "\n",
      "Eval Set: loss=0.2153, accuracy=0.9306, f1-macro=0.9302\n",
      " [========================================] ...Epoch 13, Loss: 0.2279\n",
      "Train Set: loss = 0.1370\n",
      "Validation Set: loss = 0.2128\n",
      "\n",
      "\n",
      "Eval Set: loss=0.2128, accuracy=0.9333, f1-macro=0.9331\n",
      " [========================================] ...Epoch 14, Loss: 0.1824\n",
      "Train Set: loss = 0.0864\n",
      "Validation Set: loss = 0.2025\n",
      "\n",
      "\n",
      "Eval Set: loss=0.2025, accuracy=0.9444, f1-macro=0.9437\n",
      " [========================================] ...Epoch 15, Loss: 0.1334\n",
      "Train Set: loss = 0.0547\n",
      "Validation Set: loss = 0.1420\n",
      "\n",
      "\n",
      "Eval Set: loss=0.1420, accuracy=0.9556, f1-macro=0.9557\n",
      " [========================================] ...Epoch 16, Loss: 0.1090\n",
      "Train Set: loss = 0.0428\n",
      "Validation Set: loss = 0.1523\n",
      "\n",
      "\n",
      "Eval Set: loss=0.1523, accuracy=0.9611, f1-macro=0.9611\n",
      " [========================================] ...Epoch 17, Loss: 0.0872\n",
      "Train Set: loss = 0.0564\n",
      "Validation Set: loss = 0.1823\n",
      "\n",
      "\n",
      "Eval Set: loss=0.1823, accuracy=0.9556, f1-macro=0.9557\n",
      " [========================================] ...Epoch 18, Loss: 0.0421\n",
      "Train Set: loss = 0.0368\n",
      "Validation Set: loss = 0.1465\n",
      "\n",
      "\n",
      "Eval Set: loss=0.1465, accuracy=0.9556, f1-macro=0.9561\n",
      " [========================================] ...Epoch 19, Loss: 0.0618\n",
      "Train Set: loss = 0.0287\n",
      "Validation Set: loss = 0.1209\n",
      "\n",
      "\n",
      "Eval Set: loss=0.1209, accuracy=0.9611, f1-macro=0.9614\n",
      " [========================================] ...Epoch 20, Loss: 0.0173\n",
      "Train Set: loss = 0.0206\n",
      "Validation Set: loss = 0.1178\n",
      "\n",
      "\n",
      "Eval Set: loss=0.1178, accuracy=0.9722, f1-macro=0.9724\n",
      "\n",
      "Total train and validation time: 16.79 seconds\n"
     ]
    }
   ],
   "source": [
    "model = BasicLSTM(input_dim=6, hidden_dim=20, output_dim=10, bidirectional=True).to(DEVICE)\n",
    "\n",
    "loss_function = torch.nn.CrossEntropyLoss()\n",
    "optimizer_L2 = torch.optim.SGD(model.parameters(), lr=1e-0)\n",
    "\n",
    "\n",
    "total_train_loss, total_val_loss = train_and_val_model(20, train_loader, val_loader, model, loss_function, optimizer_L2)"
   ]
  },
  {
   "cell_type": "code",
   "execution_count": 153,
   "metadata": {
    "scrolled": true
   },
   "outputs": [
    {
     "name": "stdout",
     "output_type": "stream",
     "text": [
      "\n",
      "Test Set: loss=0.1690, accuracy=0.9600, f1-macro=0.9601\n"
     ]
    }
   ],
   "source": [
    "y_test_pred, y_test_gold = test_model(test_loader, model, loss_function, \"Test\")"
   ]
  },
  {
   "cell_type": "markdown",
   "metadata": {},
   "source": [
    "8. (Bonus) Με χρήση pack_padded_sequence στην εκπαίδευση του μοντέλου:"
   ]
  },
  {
   "cell_type": "code",
   "execution_count": null,
   "metadata": {},
   "outputs": [],
   "source": []
  },
  {
   "cell_type": "markdown",
   "metadata": {},
   "source": [
    "Για το καλύτερο μοντέλο μετά την εκπαίδευση έχουμε:"
   ]
  },
  {
   "cell_type": "code",
   "execution_count": 95,
   "metadata": {},
   "outputs": [],
   "source": [
    "def plot_loss(total_epochs, train_loss, val_loss):\n",
    "    \n",
    "    plt.title(\"Train and Validation\")\n",
    "    plt.xlabel(\"Epochs\")\n",
    "    plt.plot(total_epochs, train_loss, 'o-', color=\"r\",\n",
    "             label=\"Training Loss\")\n",
    "    plt.plot(total_epochs, val_loss, 'o-', color=\"g\",\n",
    "             label=\"Validation Loss\")\n",
    "    plt.xticks(np.arange(0, EPOCHS+1, step=5))\n",
    "    plt.legend(loc=\"best\")\n",
    "    plt.grid()\n",
    "    plt.show()"
   ]
  },
  {
   "cell_type": "code",
   "execution_count": 92,
   "metadata": {},
   "outputs": [
    {
     "name": "stdout",
     "output_type": "stream",
     "text": [
      "\n",
      "Validation Set: loss=0.2505, accuracy=0.9444, f1-macro=0.9444\n",
      "\n",
      "Test Set: loss=0.2216, accuracy=0.9600, f1-macro=0.9603\n"
     ]
    }
   ],
   "source": [
    "from sklearn.metrics import confusion_matrix\n",
    "\n",
    "y_val_pred, y_val_gold = test_model(val_loader, model, loss_function, \"Validation\")\n",
    "y_test_pred, y_test_gold = test_model(test_loader, model, loss_function, \"Test\")"
   ]
  },
  {
   "cell_type": "code",
   "execution_count": 93,
   "metadata": {},
   "outputs": [
    {
     "data": {
      "image/png": "[encoded data removed]",
      "text/plain": [
       "<Figure size 432x288 with 2 Axes>"
      ]
     },
     "metadata": {
      "needs_background": "light"
     },
     "output_type": "display_data"
    },
    {
     "data": {
      "image/png": "[encoded data removed]",
      "text/plain": [
       "<Figure size 432x288 with 2 Axes>"
      ]
     },
     "metadata": {
      "needs_background": "light"
     },
     "output_type": "display_data"
    }
   ],
   "source": [
    "labels = list(range(10))\n",
    "\n",
    "conf_mat_val = confusion_matrix(y_val_gold, y_val_pred)\n",
    "plot_confusion_matrix(conf_mat_val, labels, title='Confusion matrix for Validation Set')\n",
    "\n",
    "conf_mat_test = confusion_matrix(y_test_gold, y_test_pred)\n",
    "plot_confusion_matrix(conf_mat_test, labels, title='Confusion matrix for Test Set')"
   ]
  },
  {
   "cell_type": "code",
   "execution_count": 96,
   "metadata": {},
   "outputs": [
    {
     "data": {
      "image/png": "[encoded data removed]",
      "text/plain": [
       "<Figure size 432x288 with 1 Axes>"
      ]
     },
     "metadata": {
      "needs_background": "light"
     },
     "output_type": "display_data"
    }
   ],
   "source": [
    "plot_loss(np.arange(1, EPOCHS+1), total_train_loss, total_val_loss)"
   ]
  },
  {
   "cell_type": "code",
   "execution_count": null,
   "metadata": {},
   "outputs": [],
   "source": []
  }
 ],
 "metadata": {
  "kernelspec": {
   "display_name": "Python 3",
   "language": "python",
   "name": "python3"
  },
  "language_info": {
   "codemirror_mode": {
    "name": "ipython",
    "version": 3
   },
   "file_extension": ".py",
   "mimetype": "text/x-python",
   "name": "python",
   "nbconvert_exporter": "python",
   "pygments_lexer": "ipython3",
   "version": "3.6.9"
  }
 },
 "nbformat": 4,
 "nbformat_minor": 2
}
